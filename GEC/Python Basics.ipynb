{
 "cells": [
  {
   "cell_type": "code",
   "execution_count": 2,
   "id": "5c6ef5d6",
   "metadata": {},
   "outputs": [
    {
     "name": "stdout",
     "output_type": "stream",
     "text": [
      "hello\n"
     ]
    }
   ],
   "source": [
    "print(\"hello\")"
   ]
  },
  {
   "cell_type": "code",
   "execution_count": 3,
   "id": "cac1d601",
   "metadata": {},
   "outputs": [
    {
     "name": "stdout",
     "output_type": "stream",
     "text": [
      "Hello World\n"
     ]
    }
   ],
   "source": [
    "print(\"Hello World\")"
   ]
  },
  {
   "cell_type": "markdown",
   "id": "9deb5da1",
   "metadata": {},
   "source": [
    "# Hi hello"
   ]
  },
  {
   "cell_type": "markdown",
   "id": "d0ac13a7",
   "metadata": {},
   "source": [
    "## Headline"
   ]
  },
  {
   "cell_type": "markdown",
   "id": "fc1d783f",
   "metadata": {},
   "source": [
    "###### Headline 3"
   ]
  },
  {
   "cell_type": "markdown",
   "id": "24c88c0e",
   "metadata": {},
   "source": [
    "> What happend to you"
   ]
  },
  {
   "cell_type": "markdown",
   "id": "37f23ba4",
   "metadata": {},
   "source": [
    "# <font color='red'> Color </font>"
   ]
  },
  {
   "cell_type": "markdown",
   "id": "828c8edd",
   "metadata": {},
   "source": [
    "![charli](https://upload.wikimedia.org/wikipedia/commons/thumb/0/00/Charlie_Chaplin.jpg/1200px-Charlie_Chaplin.jpg)"
   ]
  },
  {
   "cell_type": "code",
   "execution_count": 10,
   "id": "67331ce8",
   "metadata": {},
   "outputs": [
    {
     "name": "stdout",
     "output_type": "stream",
     "text": [
      "Enter a number :2\n",
      "It is a even number\n"
     ]
    }
   ],
   "source": [
    "a=int(input(\"Enter a number :\"))\n",
    "b=int(input())\n",
    "if a%2==0:\n",
    "    print(\"It is a even number\")\n",
    "elif a==a:\n",
    "    print(\"same number\")\n",
    "else:\n",
    "    print(\"It is odd number\")\n"
   ]
  },
  {
   "cell_type": "code",
   "execution_count": null,
   "id": "92932cc2",
   "metadata": {},
   "outputs": [],
   "source": []
  }
 ],
 "metadata": {
  "kernelspec": {
   "display_name": "Python 3 (ipykernel)",
   "language": "python",
   "name": "python3"
  },
  "language_info": {
   "codemirror_mode": {
    "name": "ipython",
    "version": 3
   },
   "file_extension": ".py",
   "mimetype": "text/x-python",
   "name": "python",
   "nbconvert_exporter": "python",
   "pygments_lexer": "ipython3",
   "version": "3.9.13"
  }
 },
 "nbformat": 4,
 "nbformat_minor": 5
}
