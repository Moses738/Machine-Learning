{
 "cells": [
  {
   "cell_type": "markdown",
   "id": "88d2a3c4",
   "metadata": {
    "id": "88d2a3c4"
   },
   "source": [
    "# Variable"
   ]
  },
  {
   "cell_type": "markdown",
   "id": "7b192aa7",
   "metadata": {
    "id": "7b192aa7"
   },
   "source": [
    "italicized text##### A variable is a container ,which is used to store the data or the information\n",
    "##### It can store the data of any data type"
   ]
  },
  {
   "cell_type": "code",
   "execution_count": 2,
   "id": "e3469488",
   "metadata": {
    "executionInfo": {
     "elapsed": 6,
     "status": "ok",
     "timestamp": 1676379442105,
     "user": {
      "displayName": "Shanawaz Anwar",
      "userId": "00672617778523589116"
     },
     "user_tz": -330
    },
    "id": "e3469488"
   },
   "outputs": [],
   "source": [
    "# storing the value of integer - integer data type\n",
    "x = 10"
   ]
  },
  {
   "cell_type": "code",
   "execution_count": 3,
   "id": "e6a9da15",
   "metadata": {
    "id": "e6a9da15",
    "outputId": "680d43e9-cb36-4afa-cc5e-1c54e4b180f0"
   },
   "outputs": [
    {
     "data": {
      "text/plain": [
       "10"
      ]
     },
     "execution_count": 3,
     "metadata": {},
     "output_type": "execute_result"
    }
   ],
   "source": [
    "# printing the value of variable,which it stored\n",
    "x"
   ]
  },
  {
   "cell_type": "code",
   "execution_count": null,
   "id": "cf298de0",
   "metadata": {
    "id": "cf298de0",
    "outputId": "e04357bc-1d93-4c71-cfc9-41625a178bbd"
   },
   "outputs": [
    {
     "name": "stdout",
     "output_type": "stream",
     "text": [
      "10\n"
     ]
    }
   ],
   "source": [
    "# using the print function to print the value\n",
    "print(x)"
   ]
  },
  {
   "cell_type": "code",
   "execution_count": null,
   "id": "8117a74a",
   "metadata": {
    "id": "8117a74a",
    "outputId": "81369a0a-aa01-4ac8-9b60-47275f178001"
   },
   "outputs": [
    {
     "data": {
      "text/plain": [
       "int"
      ]
     },
     "execution_count": 4,
     "metadata": {},
     "output_type": "execute_result"
    }
   ],
   "source": [
    "# checking the type of data stored in a variable\n",
    "type(x)"
   ]
  },
  {
   "cell_type": "code",
   "execution_count": null,
   "id": "78407ec2",
   "metadata": {
    "id": "78407ec2"
   },
   "outputs": [],
   "source": [
    "# storing the different data types into the variables - string data type\n",
    "a = \"python\""
   ]
  },
  {
   "cell_type": "code",
   "execution_count": null,
   "id": "ac2c355b",
   "metadata": {
    "id": "ac2c355b",
    "outputId": "4a08c436-8813-4a05-f82b-e1f36e2b0d21"
   },
   "outputs": [
    {
     "name": "stdout",
     "output_type": "stream",
     "text": [
      "python\n"
     ]
    }
   ],
   "source": [
    "print(a)"
   ]
  },
  {
   "cell_type": "code",
   "execution_count": null,
   "id": "99617cee",
   "metadata": {
    "id": "99617cee",
    "outputId": "1ec892af-a7f5-408d-f0f1-77ebf831732a"
   },
   "outputs": [
    {
     "data": {
      "text/plain": [
       "str"
      ]
     },
     "execution_count": 8,
     "metadata": {},
     "output_type": "execute_result"
    }
   ],
   "source": [
    "type(a)"
   ]
  },
  {
   "cell_type": "code",
   "execution_count": null,
   "id": "987bd016",
   "metadata": {
    "id": "987bd016",
    "outputId": "7d1874bc-24b5-439a-89b5-e2382e808d54"
   },
   "outputs": [
    {
     "data": {
      "text/plain": [
       "6"
      ]
     },
     "execution_count": 9,
     "metadata": {},
     "output_type": "execute_result"
    }
   ],
   "source": [
    "# measuring the length of the string\n",
    "len(a)"
   ]
  },
  {
   "cell_type": "code",
   "execution_count": null,
   "id": "13fbbff9",
   "metadata": {
    "id": "13fbbff9"
   },
   "outputs": [],
   "source": [
    "# Storing the complex data type\n",
    "a = 4+5j"
   ]
  },
  {
   "cell_type": "code",
   "execution_count": null,
   "id": "2961e592",
   "metadata": {
    "id": "2961e592",
    "outputId": "0378dc56-02d9-4bf2-9a3d-eb469a56d810"
   },
   "outputs": [
    {
     "data": {
      "text/plain": [
       "(4+5j)"
      ]
     },
     "execution_count": 11,
     "metadata": {},
     "output_type": "execute_result"
    }
   ],
   "source": [
    "a"
   ]
  },
  {
   "cell_type": "code",
   "execution_count": null,
   "id": "f5eda2cc",
   "metadata": {
    "id": "f5eda2cc",
    "outputId": "abf5ab7a-140d-4e87-848c-5987f4065a00"
   },
   "outputs": [
    {
     "data": {
      "text/plain": [
       "complex"
      ]
     },
     "execution_count": 12,
     "metadata": {},
     "output_type": "execute_result"
    }
   ],
   "source": [
    "type(a)"
   ]
  },
  {
   "cell_type": "code",
   "execution_count": null,
   "id": "aebc7808",
   "metadata": {
    "id": "aebc7808"
   },
   "outputs": [],
   "source": [
    "#storing the boolean data type\n",
    "a = True"
   ]
  },
  {
   "cell_type": "code",
   "execution_count": null,
   "id": "ec69ff05",
   "metadata": {
    "id": "ec69ff05",
    "outputId": "b1838356-6064-4a93-a9d8-7da9920ea074"
   },
   "outputs": [
    {
     "data": {
      "text/plain": [
       "bool"
      ]
     },
     "execution_count": 14,
     "metadata": {},
     "output_type": "execute_result"
    }
   ],
   "source": [
    "type(a)"
   ]
  },
  {
   "cell_type": "code",
   "execution_count": null,
   "id": "02ca28a2",
   "metadata": {
    "id": "02ca28a2",
    "outputId": "e5c0b4b6-9051-42e6-a2ed-92c17cc46851"
   },
   "outputs": [
    {
     "data": {
      "text/plain": [
       "True"
      ]
     },
     "execution_count": 15,
     "metadata": {},
     "output_type": "execute_result"
    }
   ],
   "source": [
    "a"
   ]
  },
  {
   "cell_type": "markdown",
   "id": "67d9de23",
   "metadata": {
    "id": "67d9de23"
   },
   "source": [
    "# Memory allocation in python"
   ]
  },
  {
   "cell_type": "markdown",
   "id": "518a694d",
   "metadata": {
    "id": "518a694d"
   },
   "source": [
    "##### when we are storing a value into variable , it will store in a specific memory"
   ]
  },
  {
   "cell_type": "code",
   "execution_count": 4,
   "id": "359804a3",
   "metadata": {
    "executionInfo": {
     "elapsed": 794,
     "status": "ok",
     "timestamp": 1676379617168,
     "user": {
      "displayName": "Shanawaz Anwar",
      "userId": "00672617778523589116"
     },
     "user_tz": -330
    },
    "id": "359804a3"
   },
   "outputs": [],
   "source": [
    "import os\n",
    "import sys"
   ]
  },
  {
   "cell_type": "code",
   "execution_count": 4,
   "id": "0ab09128",
   "metadata": {
    "executionInfo": {
     "elapsed": 364,
     "status": "ok",
     "timestamp": 1676379609075,
     "user": {
      "displayName": "Shanawaz Anwar",
      "userId": "00672617778523589116"
     },
     "user_tz": -330
    },
    "id": "0ab09128"
   },
   "outputs": [],
   "source": [
    "a = 10"
   ]
  },
  {
   "cell_type": "code",
   "execution_count": 5,
   "id": "6702d613",
   "metadata": {
    "colab": {
     "base_uri": "https://localhost:8080/"
    },
    "executionInfo": {
     "elapsed": 631,
     "status": "ok",
     "timestamp": 1676379620705,
     "user": {
      "displayName": "Shanawaz Anwar",
      "userId": "00672617778523589116"
     },
     "user_tz": -330
    },
    "id": "6702d613",
    "outputId": "a3195c28-7677-4a26-efa5-030eaab64ec4"
   },
   "outputs": [
    {
     "data": {
      "text/plain": [
       "2229921868368"
      ]
     },
     "execution_count": 5,
     "metadata": {},
     "output_type": "execute_result"
    }
   ],
   "source": [
    "# checking the memory id of that variable\n",
    "id(a)"
   ]
  },
  {
   "cell_type": "code",
   "execution_count": 6,
   "id": "00553e0b",
   "metadata": {
    "colab": {
     "base_uri": "https://localhost:8080/"
    },
    "executionInfo": {
     "elapsed": 380,
     "status": "ok",
     "timestamp": 1676379632999,
     "user": {
      "displayName": "Shanawaz Anwar",
      "userId": "00672617778523589116"
     },
     "user_tz": -330
    },
    "id": "00553e0b",
    "outputId": "f315bc0b-bca5-492d-ff03-e4362f1bfaa1"
   },
   "outputs": [
    {
     "data": {
      "text/plain": [
       "140191855738032"
      ]
     },
     "execution_count": 6,
     "metadata": {},
     "output_type": "execute_result"
    }
   ],
   "source": [
    "# checking the memory id of sting variable\n",
    "b = \"python\"\n",
    "id(b)"
   ]
  },
  {
   "cell_type": "code",
   "execution_count": 7,
   "id": "1c2eb768",
   "metadata": {
    "executionInfo": {
     "elapsed": 15,
     "status": "ok",
     "timestamp": 1676379674279,
     "user": {
      "displayName": "Shanawaz Anwar",
      "userId": "00672617778523589116"
     },
     "user_tz": -330
    },
    "id": "1c2eb768"
   },
   "outputs": [],
   "source": [
    "# checking the storage id for 2 variable, storing the same value into the different variable \n",
    "a ,b = 10,10"
   ]
  },
  {
   "cell_type": "code",
   "execution_count": 8,
   "id": "d3382232",
   "metadata": {
    "colab": {
     "base_uri": "https://localhost:8080/"
    },
    "executionInfo": {
     "elapsed": 401,
     "status": "ok",
     "timestamp": 1676379690261,
     "user": {
      "displayName": "Shanawaz Anwar",
      "userId": "00672617778523589116"
     },
     "user_tz": -330
    },
    "id": "d3382232",
    "outputId": "77d17bfc-c2d2-47d9-af6b-2c843e5394c0"
   },
   "outputs": [
    {
     "data": {
      "text/plain": [
       "(9793376, 9793376)"
      ]
     },
     "execution_count": 8,
     "metadata": {},
     "output_type": "execute_result"
    }
   ],
   "source": [
    "# checking the storing space id for both variables, it is getting stored in the same space\n",
    "id(a),id(b)"
   ]
  },
  {
   "cell_type": "code",
   "execution_count": 9,
   "id": "21a7b241",
   "metadata": {
    "executionInfo": {
     "elapsed": 364,
     "status": "ok",
     "timestamp": 1676379745916,
     "user": {
      "displayName": "Shanawaz Anwar",
      "userId": "00672617778523589116"
     },
     "user_tz": -330
    },
    "id": "21a7b241"
   },
   "outputs": [],
   "source": [
    "# storing the values of higher\n",
    "a,b = 1000,1000"
   ]
  },
  {
   "cell_type": "code",
   "execution_count": 10,
   "id": "523a026a",
   "metadata": {
    "colab": {
     "base_uri": "https://localhost:8080/"
    },
    "executionInfo": {
     "elapsed": 367,
     "status": "ok",
     "timestamp": 1676379749979,
     "user": {
      "displayName": "Shanawaz Anwar",
      "userId": "00672617778523589116"
     },
     "user_tz": -330
    },
    "id": "523a026a",
    "outputId": "b38536c8-4981-4b85-bba3-97a47dcafd02"
   },
   "outputs": [
    {
     "data": {
      "text/plain": [
       "(140191292760400, 140191292760400)"
      ]
     },
     "execution_count": 10,
     "metadata": {},
     "output_type": "execute_result"
    }
   ],
   "source": [
    "# checking the storing space id for both variables, it is getting stored in the same space\n",
    "id(a),id(b)"
   ]
  },
  {
   "cell_type": "code",
   "execution_count": 11,
   "id": "cd32b7cb",
   "metadata": {
    "executionInfo": {
     "elapsed": 6,
     "status": "ok",
     "timestamp": 1676379764198,
     "user": {
      "displayName": "Shanawaz Anwar",
      "userId": "00672617778523589116"
     },
     "user_tz": -330
    },
    "id": "cd32b7cb"
   },
   "outputs": [],
   "source": [
    "# simple strings \n",
    "a,b = \"hello\",\"hello\""
   ]
  },
  {
   "cell_type": "code",
   "execution_count": 12,
   "id": "8e811234",
   "metadata": {
    "colab": {
     "base_uri": "https://localhost:8080/"
    },
    "executionInfo": {
     "elapsed": 381,
     "status": "ok",
     "timestamp": 1676379769453,
     "user": {
      "displayName": "Shanawaz Anwar",
      "userId": "00672617778523589116"
     },
     "user_tz": -330
    },
    "id": "8e811234",
    "outputId": "238e8585-1b35-4ff5-9ae5-e9926cb1f076"
   },
   "outputs": [
    {
     "data": {
      "text/plain": [
       "(140191306518832, 140191306518832)"
      ]
     },
     "execution_count": 12,
     "metadata": {},
     "output_type": "execute_result"
    }
   ],
   "source": [
    "# simple strings are stored in the same memory\n",
    "id(a),id(b)"
   ]
  },
  {
   "cell_type": "code",
   "execution_count": 13,
   "id": "6d6ee275",
   "metadata": {
    "executionInfo": {
     "elapsed": 483,
     "status": "ok",
     "timestamp": 1676379783135,
     "user": {
      "displayName": "Shanawaz Anwar",
      "userId": "00672617778523589116"
     },
     "user_tz": -330
    },
    "id": "6d6ee275"
   },
   "outputs": [],
   "source": [
    "#complex strings \n",
    "a,b = \"hell all\",\"hello all\""
   ]
  },
  {
   "cell_type": "code",
   "execution_count": 14,
   "id": "f88fc511",
   "metadata": {
    "colab": {
     "base_uri": "https://localhost:8080/"
    },
    "executionInfo": {
     "elapsed": 713,
     "status": "ok",
     "timestamp": 1676379794712,
     "user": {
      "displayName": "Shanawaz Anwar",
      "userId": "00672617778523589116"
     },
     "user_tz": -330
    },
    "id": "f88fc511",
    "outputId": "49ff6ce4-e2e3-4f7d-c3ba-0577249e2fe9"
   },
   "outputs": [
    {
     "data": {
      "text/plain": [
       "(140191306602608, 140191306603248)"
      ]
     },
     "execution_count": 14,
     "metadata": {},
     "output_type": "execute_result"
    }
   ],
   "source": [
    "# complex strings are stored in different memory spaces\n",
    "id(a),id(b)"
   ]
  },
  {
   "cell_type": "markdown",
   "id": "fabcca6c",
   "metadata": {
    "id": "fabcca6c"
   },
   "source": [
    "##### NOTE : Python stores -5 to 255 values and simple strings in the same memory allocation"
   ]
  },
  {
   "cell_type": "markdown",
   "id": "2dc6fc14",
   "metadata": {
    "id": "2dc6fc14"
   },
   "source": [
    "# Data types in Python"
   ]
  },
  {
   "cell_type": "code",
   "execution_count": 7,
   "id": "aa26f8a9",
   "metadata": {},
   "outputs": [
    {
     "name": "stdout",
     "output_type": "stream",
     "text": [
      "Requirement already satisfied: opencv-python in c:\\users\\user\\anaconda3\\lib\\site-packages (4.7.0.72)\n",
      "Requirement already satisfied: numpy>=1.17.0 in c:\\users\\user\\anaconda3\\lib\\site-packages (from opencv-python) (1.21.5)\n"
     ]
    }
   ],
   "source": [
    "!pip install opencv-python"
   ]
  },
  {
   "cell_type": "code",
   "execution_count": 6,
   "id": "7e0c8666",
   "metadata": {
    "id": "7e0c8666"
   },
   "outputs": [],
   "source": [
    "import cv2\n",
    "import matplotlib.pyplot as plt"
   ]
  },
  {
   "cell_type": "code",
   "execution_count": 10,
   "id": "efb66ad2",
   "metadata": {},
   "outputs": [
    {
     "data": {
      "image/png": "[encoded data removed]",
      "text/plain": [
       "<Figure size 640x480 with 1 Axes>"
      ]
     },
     "metadata": {},
     "output_type": "display_data"
    }
   ],
   "source": [
    "plt.imshow(cv2.imread(r\"C:\\Users\\user\\Downloads\\Charlie-Chaplin-5.jpg\"))\n",
    "plt.show()"
   ]
  },
  {
   "cell_type": "code",
   "execution_count": null,
   "id": "5e722f56",
   "metadata": {
    "id": "5e722f56",
    "outputId": "57e5d00b-e133-4803-f5e0-6f0f51903f61"
   },
   "outputs": [
    {
     "data": {
      "text/plain": [
       "<matplotlib.image.AxesImage at 0x20bf1b65f48>"
      ]
     },
     "execution_count": 34,
     "metadata": {},
     "output_type": "execute_result"
    },
    {
     "data": {
      "image/png": "[encoded data removed]",
      "text/plain": [
       "<Figure size 576x1080 with 1 Axes>"
      ]
     },
     "metadata": {
      "needs_background": "light"
     },
     "output_type": "display_data"
    }
   ],
   "source": [
    "plt.figure(figsize=(8,15))\n",
    "plt.imshow(cv2.imread(\"python-data-types.jpg\"))"
   ]
  },
  {
   "cell_type": "markdown",
   "id": "bd0f4849",
   "metadata": {
    "id": "bd0f4849"
   },
   "source": [
    "#### 1.Numeric Data type"
   ]
  },
  {
   "cell_type": "code",
   "execution_count": 15,
   "id": "a202c84b",
   "metadata": {
    "executionInfo": {
     "elapsed": 453,
     "status": "ok",
     "timestamp": 1676380086811,
     "user": {
      "displayName": "Shanawaz Anwar",
      "userId": "00672617778523589116"
     },
     "user_tz": -330
    },
    "id": "a202c84b"
   },
   "outputs": [],
   "source": [
    "# storing the value of numeric into a variable\n",
    "a = 100"
   ]
  },
  {
   "cell_type": "code",
   "execution_count": 16,
   "id": "5a04fca8",
   "metadata": {
    "colab": {
     "base_uri": "https://localhost:8080/"
    },
    "executionInfo": {
     "elapsed": 565,
     "status": "ok",
     "timestamp": 1676380091684,
     "user": {
      "displayName": "Shanawaz Anwar",
      "userId": "00672617778523589116"
     },
     "user_tz": -330
    },
    "id": "5a04fca8",
    "outputId": "fe54523c-58b8-453d-e31c-588458561189"
   },
   "outputs": [
    {
     "data": {
      "text/plain": [
       "int"
      ]
     },
     "execution_count": 16,
     "metadata": {},
     "output_type": "execute_result"
    }
   ],
   "source": [
    "# displays the type of variable\n",
    "type(a)"
   ]
  },
  {
   "cell_type": "code",
   "execution_count": 17,
   "id": "fb992f81",
   "metadata": {
    "colab": {
     "base_uri": "https://localhost:8080/"
    },
    "executionInfo": {
     "elapsed": 372,
     "status": "ok",
     "timestamp": 1676380101022,
     "user": {
      "displayName": "Shanawaz Anwar",
      "userId": "00672617778523589116"
     },
     "user_tz": -330
    },
    "id": "fb992f81",
    "outputId": "17c78da3-58eb-4e3a-c368-9cc72f7966e5",
    "scrolled": true
   },
   "outputs": [
    {
     "data": {
      "text/plain": [
       "7"
      ]
     },
     "execution_count": 17,
     "metadata": {},
     "output_type": "execute_result"
    }
   ],
   "source": [
    "# gives the length of bit\n",
    "a.bit_length()"
   ]
  },
  {
   "cell_type": "code",
   "execution_count": null,
   "id": "e42b74e3",
   "metadata": {
    "id": "e42b74e3",
    "outputId": "e7fb9a27-ca43-43e5-868b-8a4c78b0720c"
   },
   "outputs": [
    {
     "data": {
      "text/plain": [
       "100"
      ]
     },
     "execution_count": 43,
     "metadata": {},
     "output_type": "execute_result"
    }
   ],
   "source": [
    "# gives the real value of the number\n",
    "a.real"
   ]
  },
  {
   "cell_type": "code",
   "execution_count": null,
   "id": "23261bfa",
   "metadata": {
    "id": "23261bfa",
    "outputId": "2c23293e-e3c8-49a2-cca3-8dbad78d132e"
   },
   "outputs": [
    {
     "data": {
      "text/plain": [
       "100"
      ]
     },
     "execution_count": 50,
     "metadata": {},
     "output_type": "execute_result"
    }
   ],
   "source": [
    "a.conjugate()"
   ]
  },
  {
   "cell_type": "code",
   "execution_count": null,
   "id": "aab6f2c0",
   "metadata": {
    "id": "aab6f2c0",
    "outputId": "066b5b07-3566-438a-9d29-835df5df5a2d"
   },
   "outputs": [
    {
     "data": {
      "text/plain": [
       "1"
      ]
     },
     "execution_count": 56,
     "metadata": {},
     "output_type": "execute_result"
    }
   ],
   "source": [
    "# displays the denominator\n",
    "a.denominator"
   ]
  },
  {
   "cell_type": "code",
   "execution_count": null,
   "id": "d53b8aa6",
   "metadata": {
    "id": "d53b8aa6"
   },
   "outputs": [],
   "source": [
    "# displays the real value of out of complex value\n",
    "a = 4+8j"
   ]
  },
  {
   "cell_type": "code",
   "execution_count": null,
   "id": "65588bab",
   "metadata": {
    "id": "65588bab",
    "outputId": "ecc2db77-bcfb-488d-bc93-02e53b234de7"
   },
   "outputs": [
    {
     "data": {
      "text/plain": [
       "complex"
      ]
     },
     "execution_count": 54,
     "metadata": {},
     "output_type": "execute_result"
    }
   ],
   "source": [
    "type(a)"
   ]
  },
  {
   "cell_type": "code",
   "execution_count": null,
   "id": "266defe3",
   "metadata": {
    "id": "266defe3",
    "outputId": "018cad5b-b8cb-4a37-e2de-d4f95b4457e7",
    "scrolled": true
   },
   "outputs": [
    {
     "data": {
      "text/plain": [
       "4.0"
      ]
     },
     "execution_count": 45,
     "metadata": {},
     "output_type": "execute_result"
    }
   ],
   "source": [
    "a.real"
   ]
  },
  {
   "cell_type": "code",
   "execution_count": null,
   "id": "88a7c021",
   "metadata": {
    "id": "88a7c021",
    "outputId": "d552218b-9e88-439b-d4dd-3cb0a87373d0"
   },
   "outputs": [
    {
     "data": {
      "text/plain": [
       "8.0"
      ]
     },
     "execution_count": 53,
     "metadata": {},
     "output_type": "execute_result"
    }
   ],
   "source": [
    "# displays the imaginary number\n",
    "a.imag"
   ]
  },
  {
   "cell_type": "code",
   "execution_count": null,
   "id": "d44c597b",
   "metadata": {
    "id": "d44c597b",
    "outputId": "eff4ca18-cef9-4c7b-ac33-b5f3d93c5e31"
   },
   "outputs": [
    {
     "data": {
      "text/plain": [
       "(4-8j)"
      ]
     },
     "execution_count": 47,
     "metadata": {},
     "output_type": "execute_result"
    }
   ],
   "source": [
    "# displays the conjugate(opposite of the number) - only for complex values\n",
    "a.conjugate()"
   ]
  },
  {
   "cell_type": "code",
   "execution_count": null,
   "id": "7a693449",
   "metadata": {
    "id": "7a693449"
   },
   "outputs": [],
   "source": [
    "# boolean type\n",
    "a = 5.0"
   ]
  },
  {
   "cell_type": "code",
   "execution_count": null,
   "id": "88549df7",
   "metadata": {
    "id": "88549df7",
    "outputId": "39f448f6-4194-4087-f31f-b7fec24cc8e2"
   },
   "outputs": [
    {
     "data": {
      "text/plain": [
       "float"
      ]
     },
     "execution_count": 61,
     "metadata": {},
     "output_type": "execute_result"
    }
   ],
   "source": [
    "type(a)"
   ]
  },
  {
   "cell_type": "code",
   "execution_count": null,
   "id": "0854e0bd",
   "metadata": {
    "id": "0854e0bd",
    "outputId": "a0a5064a-3486-4b69-de1c-9cf6d73b1f0b"
   },
   "outputs": [
    {
     "data": {
      "text/plain": [
       "5.0"
      ]
     },
     "execution_count": 62,
     "metadata": {},
     "output_type": "execute_result"
    }
   ],
   "source": [
    "a.real"
   ]
  },
  {
   "cell_type": "code",
   "execution_count": null,
   "id": "8efd9607",
   "metadata": {
    "id": "8efd9607",
    "outputId": "6a6c8ca9-181d-40fc-95df-789cdc4bf8d4"
   },
   "outputs": [
    {
     "data": {
      "text/plain": [
       "True"
      ]
     },
     "execution_count": 64,
     "metadata": {},
     "output_type": "execute_result"
    }
   ],
   "source": [
    "a.is_integer()"
   ]
  },
  {
   "cell_type": "markdown",
   "id": "08496a87",
   "metadata": {
    "id": "08496a87"
   },
   "source": [
    "#### 2.String Data type"
   ]
  },
  {
   "cell_type": "code",
   "execution_count": 11,
   "id": "10cf7042",
   "metadata": {
    "executionInfo": {
     "elapsed": 375,
     "status": "ok",
     "timestamp": 1676380120512,
     "user": {
      "displayName": "Shanawaz Anwar",
      "userId": "00672617778523589116"
     },
     "user_tz": -330
    },
    "id": "10cf7042"
   },
   "outputs": [],
   "source": [
    "# intializing the string variable\n",
    "a = \"hello , welcome to python tutorials\""
   ]
  },
  {
   "cell_type": "code",
   "execution_count": 19,
   "id": "6feef4e3",
   "metadata": {
    "colab": {
     "base_uri": "https://localhost:8080/",
     "height": 36
    },
    "executionInfo": {
     "elapsed": 21,
     "status": "ok",
     "timestamp": 1676380123564,
     "user": {
      "displayName": "Shanawaz Anwar",
      "userId": "00672617778523589116"
     },
     "user_tz": -330
    },
    "id": "6feef4e3",
    "outputId": "21a7cfb4-9798-4122-b0f6-00e15022cdc8"
   },
   "outputs": [
    {
     "data": {
      "application/vnd.google.colaboratory.intrinsic+json": {
       "type": "string"
      },
      "text/plain": [
       "'hello , welcome to python tutorials'"
      ]
     },
     "execution_count": 19,
     "metadata": {},
     "output_type": "execute_result"
    }
   ],
   "source": [
    "a"
   ]
  },
  {
   "cell_type": "code",
   "execution_count": 20,
   "id": "cfd386e3",
   "metadata": {
    "colab": {
     "base_uri": "https://localhost:8080/"
    },
    "executionInfo": {
     "elapsed": 6,
     "status": "ok",
     "timestamp": 1676380125558,
     "user": {
      "displayName": "Shanawaz Anwar",
      "userId": "00672617778523589116"
     },
     "user_tz": -330
    },
    "id": "cfd386e3",
    "outputId": "a2593dda-ef02-4305-aa67-58a9604a9e5a"
   },
   "outputs": [
    {
     "data": {
      "text/plain": [
       "str"
      ]
     },
     "execution_count": 20,
     "metadata": {},
     "output_type": "execute_result"
    }
   ],
   "source": [
    "type(a) # checking the variable type"
   ]
  },
  {
   "cell_type": "code",
   "execution_count": 21,
   "id": "32a74954",
   "metadata": {
    "colab": {
     "base_uri": "https://localhost:8080/"
    },
    "executionInfo": {
     "elapsed": 592,
     "status": "ok",
     "timestamp": 1676380136543,
     "user": {
      "displayName": "Shanawaz Anwar",
      "userId": "00672617778523589116"
     },
     "user_tz": -330
    },
    "id": "32a74954",
    "outputId": "5ba8600c-2ffc-4624-9bf7-4e4312d3cbc3"
   },
   "outputs": [
    {
     "data": {
      "text/plain": [
       "35"
      ]
     },
     "execution_count": 21,
     "metadata": {},
     "output_type": "execute_result"
    }
   ],
   "source": [
    "len(a)  # checking the length of the variable"
   ]
  },
  {
   "cell_type": "code",
   "execution_count": 22,
   "id": "74fa9a69",
   "metadata": {
    "colab": {
     "base_uri": "https://localhost:8080/",
     "height": 36
    },
    "executionInfo": {
     "elapsed": 416,
     "status": "ok",
     "timestamp": 1676380169853,
     "user": {
      "displayName": "Shanawaz Anwar",
      "userId": "00672617778523589116"
     },
     "user_tz": -330
    },
    "id": "74fa9a69",
    "outputId": "0f388f62-430c-45a4-a7f0-0b2051c808f4"
   },
   "outputs": [
    {
     "data": {
      "application/vnd.google.colaboratory.intrinsic+json": {
       "type": "string"
      },
      "text/plain": [
       "'Hello , welcome to python tutorials'"
      ]
     },
     "execution_count": 22,
     "metadata": {},
     "output_type": "execute_result"
    }
   ],
   "source": [
    "a= a.capitalize() # capitalizing the sentense first letter\n",
    "a"
   ]
  },
  {
   "cell_type": "code",
   "execution_count": 26,
   "id": "c74debf1",
   "metadata": {
    "colab": {
     "base_uri": "https://localhost:8080/",
     "height": 36
    },
    "executionInfo": {
     "elapsed": 14,
     "status": "ok",
     "timestamp": 1676380267439,
     "user": {
      "displayName": "Shanawaz Anwar",
      "userId": "00672617778523589116"
     },
     "user_tz": -330
    },
    "id": "c74debf1",
    "outputId": "33989c7a-566e-4c9a-ec6c-3602abe5f310"
   },
   "outputs": [
    {
     "data": {
      "application/vnd.google.colaboratory.intrinsic+json": {
       "type": "string"
      },
      "text/plain": [
       "'hello , welcome to python tutorials'"
      ]
     },
     "execution_count": 26,
     "metadata": {},
     "output_type": "execute_result"
    }
   ],
   "source": [
    "b = a.casefold() # uncapitalizing the first letter\n",
    "b"
   ]
  },
  {
   "cell_type": "code",
   "execution_count": 31,
   "id": "7a885fd7",
   "metadata": {
    "colab": {
     "base_uri": "https://localhost:8080/"
    },
    "executionInfo": {
     "elapsed": 357,
     "status": "ok",
     "timestamp": 1676380343022,
     "user": {
      "displayName": "Shanawaz Anwar",
      "userId": "00672617778523589116"
     },
     "user_tz": -330
    },
    "id": "7a885fd7",
    "outputId": "9361a61f-baaa-4bca-d131-c5912f942d26"
   },
   "outputs": [
    {
     "data": {
      "text/plain": [
       "1"
      ]
     },
     "execution_count": 31,
     "metadata": {},
     "output_type": "execute_result"
    }
   ],
   "source": [
    "a.count(\"a\") # getting the count of specific letter"
   ]
  },
  {
   "cell_type": "code",
   "execution_count": 32,
   "id": "c784cf00",
   "metadata": {
    "colab": {
     "base_uri": "https://localhost:8080/"
    },
    "executionInfo": {
     "elapsed": 639,
     "status": "ok",
     "timestamp": 1676380376989,
     "user": {
      "displayName": "Shanawaz Anwar",
      "userId": "00672617778523589116"
     },
     "user_tz": -330
    },
    "id": "c784cf00",
    "outputId": "5bb37995-8c3d-455d-df49-c189e126ce23"
   },
   "outputs": [
    {
     "data": {
      "text/plain": [
       "False"
      ]
     },
     "execution_count": 32,
     "metadata": {},
     "output_type": "execute_result"
    }
   ],
   "source": [
    "a.endswith(\"a\") # checking whether statement ends with \"a\"  or not"
   ]
  },
  {
   "cell_type": "code",
   "execution_count": 33,
   "id": "514920b1",
   "metadata": {
    "colab": {
     "base_uri": "https://localhost:8080/"
    },
    "executionInfo": {
     "elapsed": 413,
     "status": "ok",
     "timestamp": 1676380389027,
     "user": {
      "displayName": "Shanawaz Anwar",
      "userId": "00672617778523589116"
     },
     "user_tz": -330
    },
    "id": "514920b1",
    "outputId": "920898c0-15d2-47f8-9d45-a3051a2e3ed7"
   },
   "outputs": [
    {
     "data": {
      "text/plain": [
       "True"
      ]
     },
     "execution_count": 33,
     "metadata": {},
     "output_type": "execute_result"
    }
   ],
   "source": [
    "a.endswith(\"s\") # checking for ends with \"s\""
   ]
  },
  {
   "cell_type": "code",
   "execution_count": 34,
   "id": "963836f8",
   "metadata": {
    "colab": {
     "base_uri": "https://localhost:8080/"
    },
    "executionInfo": {
     "elapsed": 6,
     "status": "ok",
     "timestamp": 1676380518858,
     "user": {
      "displayName": "Shanawaz Anwar",
      "userId": "00672617778523589116"
     },
     "user_tz": -330
    },
    "id": "963836f8",
    "outputId": "dc14d80c-c0d1-4189-fe46-e72b1619e5c7"
   },
   "outputs": [
    {
     "data": {
      "text/plain": [
       "4"
      ]
     },
     "execution_count": 34,
     "metadata": {},
     "output_type": "execute_result"
    }
   ],
   "source": [
    "a.find(\"o\") # getting the index position of the required letter"
   ]
  },
  {
   "cell_type": "code",
   "execution_count": 12,
   "id": "4612c13a",
   "metadata": {
    "id": "4612c13a",
    "outputId": "4bc6739b-d453-4a7f-ee79-d096880e36fa"
   },
   "outputs": [
    {
     "data": {
      "text/plain": [
       "32"
      ]
     },
     "execution_count": 12,
     "metadata": {},
     "output_type": "execute_result"
    }
   ],
   "source": [
    "a.index(\"a\") # returns the first index position of the letter specified "
   ]
  },
  {
   "cell_type": "code",
   "execution_count": null,
   "id": "1184226e",
   "metadata": {
    "id": "1184226e",
    "outputId": "a55e4aee-3ec1-4021-f399-ea3f92e2ff78"
   },
   "outputs": [
    {
     "data": {
      "text/plain": [
       "False"
      ]
     },
     "execution_count": 25,
     "metadata": {},
     "output_type": "execute_result"
    }
   ],
   "source": [
    "a.isalnum()"
   ]
  },
  {
   "cell_type": "code",
   "execution_count": null,
   "id": "f2669bd7",
   "metadata": {
    "id": "f2669bd7",
    "outputId": "d1f785cf-f59c-4063-a187-ebe0205981e8"
   },
   "outputs": [
    {
     "data": {
      "text/plain": [
       "False"
      ]
     },
     "execution_count": 26,
     "metadata": {},
     "output_type": "execute_result"
    }
   ],
   "source": [
    "a.islower() # checking the senstence is lower case or not"
   ]
  },
  {
   "cell_type": "code",
   "execution_count": null,
   "id": "61d33247",
   "metadata": {
    "id": "61d33247",
    "outputId": "045500f7-9274-4f4d-ff30-7252764c4be9"
   },
   "outputs": [
    {
     "data": {
      "text/plain": [
       "False"
      ]
     },
     "execution_count": 27,
     "metadata": {},
     "output_type": "execute_result"
    }
   ],
   "source": [
    "a.isupper() # cheking the sentense is upper case or not"
   ]
  },
  {
   "cell_type": "code",
   "execution_count": null,
   "id": "00ba334f",
   "metadata": {
    "id": "00ba334f",
    "outputId": "158b2c52-9069-4dbe-ae62-3cc6a2a359a3"
   },
   "outputs": [
    {
     "data": {
      "text/plain": [
       "'hello , welcome to python tutorials'"
      ]
     },
     "execution_count": 28,
     "metadata": {},
     "output_type": "execute_result"
    }
   ],
   "source": [
    "a.lower() # converting to lower case"
   ]
  },
  {
   "cell_type": "code",
   "execution_count": null,
   "id": "3fa9d135",
   "metadata": {
    "id": "3fa9d135",
    "outputId": "feab4321-a7c5-4d2c-83e9-c608c5aa601d"
   },
   "outputs": [
    {
     "data": {
      "text/plain": [
       "'HELLO , WELCOME TO PYTHON TUTORIALS'"
      ]
     },
     "execution_count": 29,
     "metadata": {},
     "output_type": "execute_result"
    }
   ],
   "source": [
    "a.upper() # converting to upper case"
   ]
  },
  {
   "cell_type": "code",
   "execution_count": null,
   "id": "c8145630",
   "metadata": {
    "id": "c8145630",
    "outputId": "bf2ee884-a9bd-4291-87d8-9249a6994f9b"
   },
   "outputs": [
    {
     "data": {
      "text/plain": [
       "'Hello , welcome to python tutorials'"
      ]
     },
     "execution_count": 30,
     "metadata": {},
     "output_type": "execute_result"
    }
   ],
   "source": [
    "a.strip() # stripping the white spaces"
   ]
  },
  {
   "cell_type": "code",
   "execution_count": null,
   "id": "664f9ca9",
   "metadata": {
    "id": "664f9ca9",
    "outputId": "1dba0343-2a48-4b3d-cee5-6612fdffd666"
   },
   "outputs": [
    {
     "data": {
      "text/plain": [
       "('Hello', ' ', ', welcome to python tutorials')"
      ]
     },
     "execution_count": 34,
     "metadata": {},
     "output_type": "execute_result"
    }
   ],
   "source": [
    "a.partition(\" \")"
   ]
  },
  {
   "cell_type": "code",
   "execution_count": null,
   "id": "bc9efebd",
   "metadata": {
    "id": "bc9efebd",
    "outputId": "59cd2c63-2068-4cbd-a0f9-4176f1943860"
   },
   "outputs": [
    {
     "data": {
      "text/plain": [
       "['Hello', ',', 'welcome', 'to', 'python', 'tutorials']"
      ]
     },
     "execution_count": 35,
     "metadata": {},
     "output_type": "execute_result"
    }
   ],
   "source": [
    "a.split() # splits the sentense into words"
   ]
  },
  {
   "cell_type": "markdown",
   "id": "b3b8afe8",
   "metadata": {
    "id": "b3b8afe8"
   },
   "source": [
    "#### Boolean"
   ]
  },
  {
   "cell_type": "code",
   "execution_count": null,
   "id": "15346c48",
   "metadata": {
    "id": "15346c48"
   },
   "outputs": [],
   "source": [
    "a,b = True,False"
   ]
  },
  {
   "cell_type": "code",
   "execution_count": null,
   "id": "5f54c83e",
   "metadata": {
    "id": "5f54c83e",
    "outputId": "79d6bdf5-3a0e-4ffa-ef52-ef67bccc8bce"
   },
   "outputs": [
    {
     "data": {
      "text/plain": [
       "(True, False)"
      ]
     },
     "execution_count": 46,
     "metadata": {},
     "output_type": "execute_result"
    }
   ],
   "source": [
    "a,b"
   ]
  },
  {
   "cell_type": "code",
   "execution_count": null,
   "id": "f52d7e1c",
   "metadata": {
    "id": "f52d7e1c",
    "outputId": "17dc6b0f-4bbc-468b-b144-d213da63b554"
   },
   "outputs": [
    {
     "data": {
      "text/plain": [
       "(bool, bool)"
      ]
     },
     "execution_count": 47,
     "metadata": {},
     "output_type": "execute_result"
    }
   ],
   "source": [
    "type(a),type(b)"
   ]
  },
  {
   "cell_type": "code",
   "execution_count": null,
   "id": "1ce3a753",
   "metadata": {
    "id": "1ce3a753",
    "outputId": "b0f53a49-57b3-475c-bfe5-5462aef0073e"
   },
   "outputs": [
    {
     "data": {
      "text/plain": [
       "1"
      ]
     },
     "execution_count": 49,
     "metadata": {},
     "output_type": "execute_result"
    }
   ],
   "source": [
    "# true indicates the value as 1\n",
    "a.conjugate()"
   ]
  },
  {
   "cell_type": "code",
   "execution_count": null,
   "id": "090d0b2b",
   "metadata": {
    "id": "090d0b2b",
    "outputId": "6000cc84-683a-4dfb-bff1-674a03df182a"
   },
   "outputs": [
    {
     "data": {
      "text/plain": [
       "False"
      ]
     },
     "execution_count": 54,
     "metadata": {},
     "output_type": "execute_result"
    }
   ],
   "source": [
    "a == b # 1==0, so false is displayed"
   ]
  },
  {
   "cell_type": "code",
   "execution_count": null,
   "id": "9ac6240b",
   "metadata": {
    "id": "9ac6240b",
    "outputId": "502b713b-9c1e-4e9d-cc56-a23482698654"
   },
   "outputs": [
    {
     "data": {
      "text/plain": [
       "True"
      ]
     },
     "execution_count": 55,
     "metadata": {},
     "output_type": "execute_result"
    }
   ],
   "source": [
    "a!=b # both are not equal , so displayed True"
   ]
  },
  {
   "cell_type": "code",
   "execution_count": null,
   "id": "d142e7f8",
   "metadata": {
    "id": "d142e7f8",
    "outputId": "b4daabac-fd68-4a6e-cc58-0974e878c42e"
   },
   "outputs": [
    {
     "data": {
      "text/plain": [
       "True"
      ]
     },
     "execution_count": 56,
     "metadata": {},
     "output_type": "execute_result"
    }
   ],
   "source": [
    "a>b # 1 is greater than 0"
   ]
  },
  {
   "cell_type": "code",
   "execution_count": null,
   "id": "a8a0b27c",
   "metadata": {
    "id": "a8a0b27c",
    "outputId": "c139b823-cde9-45d0-bcc0-5356f6755e08"
   },
   "outputs": [
    {
     "data": {
      "text/plain": [
       "False"
      ]
     },
     "execution_count": 57,
     "metadata": {},
     "output_type": "execute_result"
    }
   ],
   "source": [
    "a<b # 1 is not less than o"
   ]
  },
  {
   "cell_type": "markdown",
   "id": "4bb9633c",
   "metadata": {
    "id": "4bb9633c"
   },
   "source": [
    "# Series or Non - primitive data types"
   ]
  },
  {
   "cell_type": "markdown",
   "id": "39cf0324",
   "metadata": {
    "id": "39cf0324"
   },
   "source": [
    "#### List , Tuple , set and dictionary "
   ]
  },
  {
   "cell_type": "markdown",
   "id": "a33faad5",
   "metadata": {
    "id": "a33faad5"
   },
   "source": [
    "## 1.List"
   ]
  },
  {
   "cell_type": "code",
   "execution_count": 14,
   "id": "a98da403",
   "metadata": {
    "executionInfo": {
     "elapsed": 3,
     "status": "ok",
     "timestamp": 1676380810244,
     "user": {
      "displayName": "Shanawaz Anwar",
      "userId": "00672617778523589116"
     },
     "user_tz": -330
    },
    "id": "a98da403"
   },
   "outputs": [],
   "source": [
    "# intilizing the elements in the variable \n",
    "a = [1,2,3,4,5,6,7,6,9,10,'good']"
   ]
  },
  {
   "cell_type": "code",
   "execution_count": 15,
   "id": "f49240f1",
   "metadata": {
    "id": "f49240f1"
   },
   "outputs": [
    {
     "data": {
      "text/plain": [
       "['__add__',\n",
       " '__class__',\n",
       " '__class_getitem__',\n",
       " '__contains__',\n",
       " '__delattr__',\n",
       " '__delitem__',\n",
       " '__dir__',\n",
       " '__doc__',\n",
       " '__eq__',\n",
       " '__format__',\n",
       " '__ge__',\n",
       " '__getattribute__',\n",
       " '__getitem__',\n",
       " '__gt__',\n",
       " '__hash__',\n",
       " '__iadd__',\n",
       " '__imul__',\n",
       " '__init__',\n",
       " '__init_subclass__',\n",
       " '__iter__',\n",
       " '__le__',\n",
       " '__len__',\n",
       " '__lt__',\n",
       " '__mul__',\n",
       " '__ne__',\n",
       " '__new__',\n",
       " '__reduce__',\n",
       " '__reduce_ex__',\n",
       " '__repr__',\n",
       " '__reversed__',\n",
       " '__rmul__',\n",
       " '__setattr__',\n",
       " '__setitem__',\n",
       " '__sizeof__',\n",
       " '__str__',\n",
       " '__subclasshook__',\n",
       " 'append',\n",
       " 'clear',\n",
       " 'copy',\n",
       " 'count',\n",
       " 'extend',\n",
       " 'index',\n",
       " 'insert',\n",
       " 'pop',\n",
       " 'remove',\n",
       " 'reverse',\n",
       " 'sort']"
      ]
     },
     "execution_count": 15,
     "metadata": {},
     "output_type": "execute_result"
    }
   ],
   "source": [
    "dir(a) # to know list of functions "
   ]
  },
  {
   "cell_type": "code",
   "execution_count": 16,
   "id": "89215b57",
   "metadata": {
    "colab": {
     "base_uri": "https://localhost:8080/"
    },
    "executionInfo": {
     "elapsed": 6,
     "status": "ok",
     "timestamp": 1676380816067,
     "user": {
      "displayName": "Shanawaz Anwar",
      "userId": "00672617778523589116"
     },
     "user_tz": -330
    },
    "id": "89215b57",
    "outputId": "dff0ec8a-b8ca-408a-c0a4-628060d45ce5"
   },
   "outputs": [
    {
     "data": {
      "text/plain": [
       "list"
      ]
     },
     "execution_count": 16,
     "metadata": {},
     "output_type": "execute_result"
    }
   ],
   "source": [
    "type(a) # checking the type of data"
   ]
  },
  {
   "cell_type": "code",
   "execution_count": 17,
   "id": "f209e7f5",
   "metadata": {
    "colab": {
     "base_uri": "https://localhost:8080/"
    },
    "executionInfo": {
     "elapsed": 497,
     "status": "ok",
     "timestamp": 1676380823514,
     "user": {
      "displayName": "Shanawaz Anwar",
      "userId": "00672617778523589116"
     },
     "user_tz": -330
    },
    "id": "f209e7f5",
    "outputId": "7990a1d5-8798-4f39-e470-907e5dcf74c9"
   },
   "outputs": [
    {
     "data": {
      "text/plain": [
       "11"
      ]
     },
     "execution_count": 17,
     "metadata": {},
     "output_type": "execute_result"
    }
   ],
   "source": [
    "len(a) # checking the no of elements in the list"
   ]
  },
  {
   "cell_type": "code",
   "execution_count": 22,
   "id": "c3cd2572",
   "metadata": {
    "executionInfo": {
     "elapsed": 801,
     "status": "ok",
     "timestamp": 1676381024246,
     "user": {
      "displayName": "Shanawaz Anwar",
      "userId": "00672617778523589116"
     },
     "user_tz": -330
    },
    "id": "c3cd2572"
   },
   "outputs": [],
   "source": [
    "a.append(67) # used to add only one element and it adds to the end of the list"
   ]
  },
  {
   "cell_type": "code",
   "execution_count": 23,
   "id": "2f93b2c0",
   "metadata": {
    "colab": {
     "base_uri": "https://localhost:8080/"
    },
    "executionInfo": {
     "elapsed": 6,
     "status": "ok",
     "timestamp": 1676380851126,
     "user": {
      "displayName": "Shanawaz Anwar",
      "userId": "00672617778523589116"
     },
     "user_tz": -330
    },
    "id": "2f93b2c0",
    "outputId": "394175ff-072c-404c-e12e-ab2ac4cc3deb"
   },
   "outputs": [
    {
     "data": {
      "text/plain": [
       "[1, 2, 3, 4, 5, 6, 7, 6, 9, 10, 'good', 50, 11, 12, 15, 18, 20, 67]"
      ]
     },
     "execution_count": 23,
     "metadata": {},
     "output_type": "execute_result"
    }
   ],
   "source": [
    "a"
   ]
  },
  {
   "cell_type": "code",
   "execution_count": 20,
   "id": "dae67fed",
   "metadata": {
    "executionInfo": {
     "elapsed": 6,
     "status": "ok",
     "timestamp": 1676380996524,
     "user": {
      "displayName": "Shanawaz Anwar",
      "userId": "00672617778523589116"
     },
     "user_tz": -330
    },
    "id": "dae67fed"
   },
   "outputs": [],
   "source": [
    "a.extend([11,12,15,18,20]) # it adds multiple elements in the list"
   ]
  },
  {
   "cell_type": "code",
   "execution_count": 21,
   "id": "7bc4ceba",
   "metadata": {
    "colab": {
     "base_uri": "https://localhost:8080/"
    },
    "executionInfo": {
     "elapsed": 421,
     "status": "ok",
     "timestamp": 1676381000864,
     "user": {
      "displayName": "Shanawaz Anwar",
      "userId": "00672617778523589116"
     },
     "user_tz": -330
    },
    "id": "7bc4ceba",
    "outputId": "22cd8a7b-2488-416b-c2e3-49bc278e8e65"
   },
   "outputs": [
    {
     "data": {
      "text/plain": [
       "[1, 2, 3, 4, 5, 6, 7, 6, 9, 10, 'good', 50, 11, 12, 15, 18, 20]"
      ]
     },
     "execution_count": 21,
     "metadata": {},
     "output_type": "execute_result"
    }
   ],
   "source": [
    "a"
   ]
  },
  {
   "cell_type": "code",
   "execution_count": 25,
   "id": "8bbe3572",
   "metadata": {
    "colab": {
     "base_uri": "https://localhost:8080/"
    },
    "executionInfo": {
     "elapsed": 390,
     "status": "ok",
     "timestamp": 1676381097233,
     "user": {
      "displayName": "Shanawaz Anwar",
      "userId": "00672617778523589116"
     },
     "user_tz": -330
    },
    "id": "8bbe3572",
    "outputId": "83fcabad-dee1-46a0-8496-542f23eaecec"
   },
   "outputs": [
    {
     "data": {
      "text/plain": [
       "4"
      ]
     },
     "execution_count": 25,
     "metadata": {},
     "output_type": "execute_result"
    }
   ],
   "source": [
    "a[3] # calling the element in the index number 0 - indexing "
   ]
  },
  {
   "cell_type": "code",
   "execution_count": 26,
   "id": "DOWjy1e6GeYL",
   "metadata": {
    "colab": {
     "base_uri": "https://localhost:8080/"
    },
    "executionInfo": {
     "elapsed": 12,
     "status": "ok",
     "timestamp": 1676381127856,
     "user": {
      "displayName": "Shanawaz Anwar",
      "userId": "00672617778523589116"
     },
     "user_tz": -330
    },
    "id": "DOWjy1e6GeYL",
    "outputId": "4ad0e2b6-6c99-49d6-c72e-45e66c6d4232"
   },
   "outputs": [
    {
     "data": {
      "text/plain": [
       "50"
      ]
     },
     "execution_count": 26,
     "metadata": {},
     "output_type": "execute_result"
    }
   ],
   "source": [
    "a[11]"
   ]
  },
  {
   "cell_type": "code",
   "execution_count": 29,
   "id": "45a9f59d",
   "metadata": {
    "colab": {
     "base_uri": "https://localhost:8080/"
    },
    "executionInfo": {
     "elapsed": 5,
     "status": "ok",
     "timestamp": 1676381169864,
     "user": {
      "displayName": "Shanawaz Anwar",
      "userId": "00672617778523589116"
     },
     "user_tz": -330
    },
    "id": "45a9f59d",
    "outputId": "2737c478-7134-4b1e-c69d-9df601b32fa8"
   },
   "outputs": [
    {
     "data": {
      "text/plain": [
       "[6, 7, 6, 9, 10]"
      ]
     },
     "execution_count": 29,
     "metadata": {},
     "output_type": "execute_result"
    }
   ],
   "source": [
    "a[5:10] # retreving the list of elements - slicing operation"
   ]
  },
  {
   "cell_type": "code",
   "execution_count": 30,
   "id": "07e141c8",
   "metadata": {},
   "outputs": [
    {
     "data": {
      "text/plain": [
       "3"
      ]
     },
     "execution_count": 30,
     "metadata": {},
     "output_type": "execute_result"
    }
   ],
   "source": [
    "a[2]"
   ]
  },
  {
   "cell_type": "code",
   "execution_count": 33,
   "id": "5cb57c41",
   "metadata": {
    "executionInfo": {
     "elapsed": 11,
     "status": "ok",
     "timestamp": 1676381453704,
     "user": {
      "displayName": "Shanawaz Anwar",
      "userId": "00672617778523589116"
     },
     "user_tz": -330
    },
    "id": "5cb57c41"
   },
   "outputs": [],
   "source": [
    "a[5] = 150 #replacing the existing value in the list  - Mutable"
   ]
  },
  {
   "cell_type": "code",
   "execution_count": 34,
   "id": "ff021bab",
   "metadata": {
    "colab": {
     "base_uri": "https://localhost:8080/"
    },
    "executionInfo": {
     "elapsed": 361,
     "status": "ok",
     "timestamp": 1676381460221,
     "user": {
      "displayName": "Shanawaz Anwar",
      "userId": "00672617778523589116"
     },
     "user_tz": -330
    },
    "id": "ff021bab",
    "outputId": "fa939793-6fed-4d44-b540-76b9f6cb6cc7"
   },
   "outputs": [
    {
     "data": {
      "text/plain": [
       "[1, 2, 100, 4, 5, 150, 7, 6, 9, 10, 'good', 50, 11, 12, 15, 18, 20, 67]"
      ]
     },
     "execution_count": 34,
     "metadata": {},
     "output_type": "execute_result"
    }
   ],
   "source": [
    "a"
   ]
  },
  {
   "cell_type": "code",
   "execution_count": 35,
   "id": "f5c90d98",
   "metadata": {
    "colab": {
     "base_uri": "https://localhost:8080/"
    },
    "executionInfo": {
     "elapsed": 388,
     "status": "ok",
     "timestamp": 1676381478617,
     "user": {
      "displayName": "Shanawaz Anwar",
      "userId": "00672617778523589116"
     },
     "user_tz": -330
    },
    "id": "f5c90d98",
    "outputId": "6439d89f-6539-46ba-a5d4-87c1b3e3d770"
   },
   "outputs": [
    {
     "data": {
      "text/plain": [
       "[1,\n",
       " 2,\n",
       " 100,\n",
       " 4,\n",
       " 5,\n",
       " 150,\n",
       " 7,\n",
       " 6,\n",
       " 9,\n",
       " 10,\n",
       " 'good',\n",
       " 50,\n",
       " 11,\n",
       " 12,\n",
       " 15,\n",
       " 18,\n",
       " 20,\n",
       " 67,\n",
       " 1,\n",
       " 2,\n",
       " 100,\n",
       " 4,\n",
       " 5,\n",
       " 150,\n",
       " 7,\n",
       " 6,\n",
       " 9,\n",
       " 10,\n",
       " 'good',\n",
       " 50,\n",
       " 11,\n",
       " 12,\n",
       " 15,\n",
       " 18,\n",
       " 20,\n",
       " 67]"
      ]
     },
     "execution_count": 35,
     "metadata": {},
     "output_type": "execute_result"
    }
   ],
   "source": [
    "a+a # adding two lists"
   ]
  },
  {
   "cell_type": "code",
   "execution_count": 53,
   "id": "fd916a33",
   "metadata": {
    "colab": {
     "base_uri": "https://localhost:8080/"
    },
    "executionInfo": {
     "elapsed": 402,
     "status": "ok",
     "timestamp": 1676381488931,
     "user": {
      "displayName": "Shanawaz Anwar",
      "userId": "00672617778523589116"
     },
     "user_tz": -330
    },
    "id": "fd916a33",
    "outputId": "74c0734e-02c2-4e8d-fb2f-56817d5ffe79"
   },
   "outputs": [
    {
     "data": {
      "text/plain": [
       "[1,\n",
       " 2,\n",
       " 100,\n",
       " 4,\n",
       " 5,\n",
       " 6,\n",
       " 7,\n",
       " 6,\n",
       " 9,\n",
       " 10,\n",
       " 50,\n",
       " 11,\n",
       " 12,\n",
       " 11,\n",
       " 12,\n",
       " 15,\n",
       " 18,\n",
       " 20,\n",
       " 50,\n",
       " 1,\n",
       " 2,\n",
       " 100,\n",
       " 4,\n",
       " 5,\n",
       " 6,\n",
       " 7,\n",
       " 6,\n",
       " 9,\n",
       " 10,\n",
       " 50,\n",
       " 11,\n",
       " 12,\n",
       " 11,\n",
       " 12,\n",
       " 15,\n",
       " 18,\n",
       " 20,\n",
       " 50]"
      ]
     },
     "execution_count": 53,
     "metadata": {},
     "output_type": "execute_result"
    }
   ],
   "source": [
    "2 * a # one list is repeated 2 times itself"
   ]
  },
  {
   "cell_type": "code",
   "execution_count": 36,
   "id": "29b32ebb",
   "metadata": {
    "executionInfo": {
     "elapsed": 485,
     "status": "ok",
     "timestamp": 1676381509953,
     "user": {
      "displayName": "Shanawaz Anwar",
      "userId": "00672617778523589116"
     },
     "user_tz": -330
    },
    "id": "29b32ebb"
   },
   "outputs": [],
   "source": [
    "b = a # storing the elements of a into b"
   ]
  },
  {
   "cell_type": "code",
   "execution_count": 37,
   "id": "39887e71",
   "metadata": {
    "colab": {
     "base_uri": "https://localhost:8080/"
    },
    "executionInfo": {
     "elapsed": 10,
     "status": "ok",
     "timestamp": 1676381511678,
     "user": {
      "displayName": "Shanawaz Anwar",
      "userId": "00672617778523589116"
     },
     "user_tz": -330
    },
    "id": "39887e71",
    "outputId": "e639d6cb-ffda-45b1-fb47-0953c014b6a8"
   },
   "outputs": [
    {
     "data": {
      "text/plain": [
       "[1, 2, 100, 4, 5, 150, 7, 6, 9, 10, 'good', 50, 11, 12, 15, 18, 20, 67]"
      ]
     },
     "execution_count": 37,
     "metadata": {},
     "output_type": "execute_result"
    }
   ],
   "source": [
    "b"
   ]
  },
  {
   "cell_type": "code",
   "execution_count": 38,
   "id": "e8be41f7",
   "metadata": {
    "executionInfo": {
     "elapsed": 376,
     "status": "ok",
     "timestamp": 1676381526314,
     "user": {
      "displayName": "Shanawaz Anwar",
      "userId": "00672617778523589116"
     },
     "user_tz": -330
    },
    "id": "e8be41f7"
   },
   "outputs": [],
   "source": [
    "b.clear() # removing all the elements from the list b"
   ]
  },
  {
   "cell_type": "code",
   "execution_count": 39,
   "id": "2877ae00",
   "metadata": {
    "colab": {
     "base_uri": "https://localhost:8080/"
    },
    "executionInfo": {
     "elapsed": 9,
     "status": "ok",
     "timestamp": 1676381528691,
     "user": {
      "displayName": "Shanawaz Anwar",
      "userId": "00672617778523589116"
     },
     "user_tz": -330
    },
    "id": "2877ae00",
    "outputId": "7f3f1f73-0875-4660-e9dc-c38122623523"
   },
   "outputs": [
    {
     "data": {
      "text/plain": [
       "[]"
      ]
     },
     "execution_count": 39,
     "metadata": {},
     "output_type": "execute_result"
    }
   ],
   "source": [
    "b # it removes from b as well as from a"
   ]
  },
  {
   "cell_type": "code",
   "execution_count": 58,
   "id": "6bef802b",
   "metadata": {
    "colab": {
     "base_uri": "https://localhost:8080/"
    },
    "executionInfo": {
     "elapsed": 855,
     "status": "ok",
     "timestamp": 1676381544902,
     "user": {
      "displayName": "Shanawaz Anwar",
      "userId": "00672617778523589116"
     },
     "user_tz": -330
    },
    "id": "6bef802b",
    "outputId": "7fa8e5de-2a44-41ea-d2a8-1af58863dd78"
   },
   "outputs": [
    {
     "data": {
      "text/plain": [
       "[]"
      ]
     },
     "execution_count": 58,
     "metadata": {},
     "output_type": "execute_result"
    }
   ],
   "source": [
    "a"
   ]
  },
  {
   "cell_type": "code",
   "execution_count": 40,
   "id": "97ff8ff1",
   "metadata": {
    "executionInfo": {
     "elapsed": 395,
     "status": "ok",
     "timestamp": 1676381568241,
     "user": {
      "displayName": "Shanawaz Anwar",
      "userId": "00672617778523589116"
     },
     "user_tz": -330
    },
    "id": "97ff8ff1"
   },
   "outputs": [],
   "source": [
    "a = [1,2,3,4,4,5,6,7]"
   ]
  },
  {
   "cell_type": "code",
   "execution_count": 41,
   "id": "2f8326a9",
   "metadata": {
    "executionInfo": {
     "elapsed": 394,
     "status": "ok",
     "timestamp": 1676381586510,
     "user": {
      "displayName": "Shanawaz Anwar",
      "userId": "00672617778523589116"
     },
     "user_tz": -330
    },
    "id": "2f8326a9"
   },
   "outputs": [],
   "source": [
    "c = a.copy() # copying elements of a into bb"
   ]
  },
  {
   "cell_type": "code",
   "execution_count": 43,
   "id": "9d5e1719",
   "metadata": {},
   "outputs": [
    {
     "data": {
      "text/plain": [
       "[1, 2, 3, 4, 4, 5, 6, 7]"
      ]
     },
     "execution_count": 43,
     "metadata": {},
     "output_type": "execute_result"
    }
   ],
   "source": [
    "a"
   ]
  },
  {
   "cell_type": "code",
   "execution_count": 42,
   "id": "3da987c3",
   "metadata": {},
   "outputs": [
    {
     "data": {
      "text/plain": [
       "[1, 2, 3, 4, 4, 5, 6, 7]"
      ]
     },
     "execution_count": 42,
     "metadata": {},
     "output_type": "execute_result"
    }
   ],
   "source": [
    "c"
   ]
  },
  {
   "cell_type": "code",
   "execution_count": 61,
   "id": "4ce4f4b0",
   "metadata": {
    "colab": {
     "base_uri": "https://localhost:8080/"
    },
    "executionInfo": {
     "elapsed": 12,
     "status": "ok",
     "timestamp": 1676381589230,
     "user": {
      "displayName": "Shanawaz Anwar",
      "userId": "00672617778523589116"
     },
     "user_tz": -330
    },
    "id": "4ce4f4b0",
    "outputId": "4dfdeabf-6a11-45c5-8f24-fc0c44657bae"
   },
   "outputs": [
    {
     "data": {
      "text/plain": [
       "[1, 2, 3, 4, 4, 5, 6, 7]"
      ]
     },
     "execution_count": 61,
     "metadata": {},
     "output_type": "execute_result"
    }
   ],
   "source": [
    "b"
   ]
  },
  {
   "cell_type": "code",
   "execution_count": 62,
   "id": "VAAloTGfITga",
   "metadata": {
    "colab": {
     "base_uri": "https://localhost:8080/"
    },
    "executionInfo": {
     "elapsed": 6,
     "status": "ok",
     "timestamp": 1676381603415,
     "user": {
      "displayName": "Shanawaz Anwar",
      "userId": "00672617778523589116"
     },
     "user_tz": -330
    },
    "id": "VAAloTGfITga",
    "outputId": "3b33d2ec-1809-41c9-d79c-7e7f537906e8"
   },
   "outputs": [
    {
     "data": {
      "text/plain": [
       "[1, 2, 3, 4, 4, 5, 6, 7]"
      ]
     },
     "execution_count": 62,
     "metadata": {},
     "output_type": "execute_result"
    }
   ],
   "source": [
    "a"
   ]
  },
  {
   "cell_type": "code",
   "execution_count": 63,
   "id": "4b434f13",
   "metadata": {
    "colab": {
     "base_uri": "https://localhost:8080/"
    },
    "executionInfo": {
     "elapsed": 361,
     "status": "ok",
     "timestamp": 1676381625414,
     "user": {
      "displayName": "Shanawaz Anwar",
      "userId": "00672617778523589116"
     },
     "user_tz": -330
    },
    "id": "4b434f13",
    "outputId": "fbf018c2-1b43-4f06-a1db-7d7bfcee1b84"
   },
   "outputs": [
    {
     "data": {
      "text/plain": [
       "2"
      ]
     },
     "execution_count": 63,
     "metadata": {},
     "output_type": "execute_result"
    }
   ],
   "source": [
    "a.count(4) # gives the count of element 4 in the list"
   ]
  },
  {
   "cell_type": "code",
   "execution_count": 46,
   "id": "f7cf598f",
   "metadata": {
    "executionInfo": {
     "elapsed": 361,
     "status": "ok",
     "timestamp": 1676381663534,
     "user": {
      "displayName": "Shanawaz Anwar",
      "userId": "00672617778523589116"
     },
     "user_tz": -330
    },
    "id": "f7cf598f"
   },
   "outputs": [],
   "source": [
    "a.insert(5,143) # inserting the element using index number"
   ]
  },
  {
   "cell_type": "code",
   "execution_count": 47,
   "id": "ed9feb2c",
   "metadata": {
    "colab": {
     "base_uri": "https://localhost:8080/"
    },
    "executionInfo": {
     "elapsed": 928,
     "status": "ok",
     "timestamp": 1676381697701,
     "user": {
      "displayName": "Shanawaz Anwar",
      "userId": "00672617778523589116"
     },
     "user_tz": -330
    },
    "id": "ed9feb2c",
    "outputId": "612cf8bd-4b83-40e2-9368-ac6bd33b9b34"
   },
   "outputs": [
    {
     "data": {
      "text/plain": [
       "[1, 2, 1111, 3, 4, 143, 4, 5, 6, 7]"
      ]
     },
     "execution_count": 47,
     "metadata": {},
     "output_type": "execute_result"
    }
   ],
   "source": [
    "a"
   ]
  },
  {
   "cell_type": "code",
   "execution_count": 52,
   "id": "a5531104",
   "metadata": {
    "colab": {
     "base_uri": "https://localhost:8080/"
    },
    "executionInfo": {
     "elapsed": 8,
     "status": "ok",
     "timestamp": 1676381700054,
     "user": {
      "displayName": "Shanawaz Anwar",
      "userId": "00672617778523589116"
     },
     "user_tz": -330
    },
    "id": "a5531104",
    "outputId": "2ecd5339-1265-49f6-9e73-9ea2a9619589"
   },
   "outputs": [
    {
     "data": {
      "text/plain": [
       "5"
      ]
     },
     "execution_count": 52,
     "metadata": {},
     "output_type": "execute_result"
    }
   ],
   "source": [
    "a.pop(5) # removing the particular value from the list using index number"
   ]
  },
  {
   "cell_type": "code",
   "execution_count": 53,
   "id": "6e116ee3",
   "metadata": {
    "colab": {
     "base_uri": "https://localhost:8080/"
    },
    "executionInfo": {
     "elapsed": 680,
     "status": "ok",
     "timestamp": 1676381707645,
     "user": {
      "displayName": "Shanawaz Anwar",
      "userId": "00672617778523589116"
     },
     "user_tz": -330
    },
    "id": "6e116ee3",
    "outputId": "8e22a3dd-b4c1-4df8-dc7a-b893fd3471dc"
   },
   "outputs": [
    {
     "data": {
      "text/plain": [
       "[1, 2, 3, 4, 143, 6, 7]"
      ]
     },
     "execution_count": 53,
     "metadata": {},
     "output_type": "execute_result"
    }
   ],
   "source": [
    "a"
   ]
  },
  {
   "cell_type": "code",
   "execution_count": 69,
   "id": "4bfc89fb",
   "metadata": {
    "executionInfo": {
     "elapsed": 7,
     "status": "ok",
     "timestamp": 1676381741259,
     "user": {
      "displayName": "Shanawaz Anwar",
      "userId": "00672617778523589116"
     },
     "user_tz": -330
    },
    "id": "4bfc89fb"
   },
   "outputs": [],
   "source": [
    "a.remove(5) # removing the particular value using value of element"
   ]
  },
  {
   "cell_type": "code",
   "execution_count": 70,
   "id": "b261e314",
   "metadata": {
    "colab": {
     "base_uri": "https://localhost:8080/"
    },
    "executionInfo": {
     "elapsed": 394,
     "status": "ok",
     "timestamp": 1676381743774,
     "user": {
      "displayName": "Shanawaz Anwar",
      "userId": "00672617778523589116"
     },
     "user_tz": -330
    },
    "id": "b261e314",
    "outputId": "0036ef50-c11f-4f4a-9b6a-22a43b784a1f"
   },
   "outputs": [
    {
     "data": {
      "text/plain": [
       "[1, 2, 3, 4, 4, 6, 7]"
      ]
     },
     "execution_count": 70,
     "metadata": {},
     "output_type": "execute_result"
    }
   ],
   "source": [
    "a"
   ]
  },
  {
   "cell_type": "code",
   "execution_count": 56,
   "id": "6a1561c8",
   "metadata": {
    "executionInfo": {
     "elapsed": 5,
     "status": "ok",
     "timestamp": 1676381766376,
     "user": {
      "displayName": "Shanawaz Anwar",
      "userId": "00672617778523589116"
     },
     "user_tz": -330
    },
    "id": "6a1561c8"
   },
   "outputs": [],
   "source": [
    "a.sort() # used to sort the values"
   ]
  },
  {
   "cell_type": "code",
   "execution_count": 57,
   "id": "39c827fa",
   "metadata": {
    "colab": {
     "base_uri": "https://localhost:8080/"
    },
    "executionInfo": {
     "elapsed": 9,
     "status": "ok",
     "timestamp": 1676381768245,
     "user": {
      "displayName": "Shanawaz Anwar",
      "userId": "00672617778523589116"
     },
     "user_tz": -330
    },
    "id": "39c827fa",
    "outputId": "ac76ce96-a0cb-427d-8b0b-6959d373edca"
   },
   "outputs": [
    {
     "data": {
      "text/plain": [
       "[1, 2, 3, 4, 6, 7, 143]"
      ]
     },
     "execution_count": 57,
     "metadata": {},
     "output_type": "execute_result"
    }
   ],
   "source": [
    "a"
   ]
  },
  {
   "cell_type": "code",
   "execution_count": 73,
   "id": "6b25933c",
   "metadata": {
    "executionInfo": {
     "elapsed": 983,
     "status": "ok",
     "timestamp": 1676381780449,
     "user": {
      "displayName": "Shanawaz Anwar",
      "userId": "00672617778523589116"
     },
     "user_tz": -330
    },
    "id": "6b25933c"
   },
   "outputs": [],
   "source": [
    "b = a"
   ]
  },
  {
   "cell_type": "code",
   "execution_count": 58,
   "id": "4a1f3a7c",
   "metadata": {
    "colab": {
     "base_uri": "https://localhost:8080/"
    },
    "executionInfo": {
     "elapsed": 411,
     "status": "ok",
     "timestamp": 1676381785157,
     "user": {
      "displayName": "Shanawaz Anwar",
      "userId": "00672617778523589116"
     },
     "user_tz": -330
    },
    "id": "4a1f3a7c",
    "outputId": "d19ce845-166d-4908-dfdf-f7953f5090cd"
   },
   "outputs": [
    {
     "data": {
      "text/plain": [
       "False"
      ]
     },
     "execution_count": 58,
     "metadata": {},
     "output_type": "execute_result"
    }
   ],
   "source": [
    "a == b # follows the order of the elements in the "
   ]
  },
  {
   "cell_type": "code",
   "execution_count": 59,
   "id": "00d61e1a",
   "metadata": {
    "executionInfo": {
     "elapsed": 535,
     "status": "ok",
     "timestamp": 1676381864725,
     "user": {
      "displayName": "Shanawaz Anwar",
      "userId": "00672617778523589116"
     },
     "user_tz": -330
    },
    "id": "00d61e1a"
   },
   "outputs": [],
   "source": [
    "c = [6,5,4,2,3,1]"
   ]
  },
  {
   "cell_type": "code",
   "execution_count": 61,
   "id": "a8e9dbc0",
   "metadata": {},
   "outputs": [],
   "source": [
    "d=[6,5,4,2,3,1]"
   ]
  },
  {
   "cell_type": "code",
   "execution_count": 62,
   "id": "0459db5a",
   "metadata": {},
   "outputs": [
    {
     "data": {
      "text/plain": [
       "True"
      ]
     },
     "execution_count": 62,
     "metadata": {},
     "output_type": "execute_result"
    }
   ],
   "source": [
    "c==d"
   ]
  },
  {
   "cell_type": "code",
   "execution_count": 60,
   "id": "9777f0d3",
   "metadata": {
    "colab": {
     "base_uri": "https://localhost:8080/"
    },
    "executionInfo": {
     "elapsed": 6,
     "status": "ok",
     "timestamp": 1676381865115,
     "user": {
      "displayName": "Shanawaz Anwar",
      "userId": "00672617778523589116"
     },
     "user_tz": -330
    },
    "id": "9777f0d3",
    "outputId": "505909e3-f843-4e6e-9bf3-78839e9d8755"
   },
   "outputs": [
    {
     "data": {
      "text/plain": [
       "False"
      ]
     },
     "execution_count": 60,
     "metadata": {},
     "output_type": "execute_result"
    }
   ],
   "source": [
    "a==c # both list have same elements,but index is different"
   ]
  },
  {
   "cell_type": "markdown",
   "id": "0864a82c",
   "metadata": {
    "id": "0864a82c"
   },
   "source": [
    "## 2.Tuple"
   ]
  },
  {
   "cell_type": "code",
   "execution_count": 82,
   "id": "53c946b9",
   "metadata": {
    "executionInfo": {
     "elapsed": 708,
     "status": "ok",
     "timestamp": 1676381990601,
     "user": {
      "displayName": "Shanawaz Anwar",
      "userId": "00672617778523589116"
     },
     "user_tz": -330
    },
    "id": "53c946b9"
   },
   "outputs": [],
   "source": [
    "a = (1,2,3,4,5)"
   ]
  },
  {
   "cell_type": "code",
   "execution_count": 83,
   "id": "38d00612",
   "metadata": {
    "colab": {
     "base_uri": "https://localhost:8080/"
    },
    "executionInfo": {
     "elapsed": 7,
     "status": "ok",
     "timestamp": 1676381992741,
     "user": {
      "displayName": "Shanawaz Anwar",
      "userId": "00672617778523589116"
     },
     "user_tz": -330
    },
    "id": "38d00612",
    "outputId": "e333a727-744d-4f27-e7ec-e20e3c69be9d"
   },
   "outputs": [
    {
     "data": {
      "text/plain": [
       "tuple"
      ]
     },
     "execution_count": 83,
     "metadata": {},
     "output_type": "execute_result"
    }
   ],
   "source": [
    "type(a)"
   ]
  },
  {
   "cell_type": "code",
   "execution_count": 84,
   "id": "3a337110",
   "metadata": {
    "colab": {
     "base_uri": "https://localhost:8080/"
    },
    "executionInfo": {
     "elapsed": 4,
     "status": "ok",
     "timestamp": 1676381994737,
     "user": {
      "displayName": "Shanawaz Anwar",
      "userId": "00672617778523589116"
     },
     "user_tz": -330
    },
    "id": "3a337110",
    "outputId": "8d5c830b-7333-4202-9c79-a6f4ef6105c0"
   },
   "outputs": [
    {
     "data": {
      "text/plain": [
       "5"
      ]
     },
     "execution_count": 84,
     "metadata": {},
     "output_type": "execute_result"
    }
   ],
   "source": [
    "len(a)"
   ]
  },
  {
   "cell_type": "code",
   "execution_count": 85,
   "id": "7ab6ea65",
   "metadata": {
    "colab": {
     "base_uri": "https://localhost:8080/"
    },
    "executionInfo": {
     "elapsed": 7,
     "status": "ok",
     "timestamp": 1676381996256,
     "user": {
      "displayName": "Shanawaz Anwar",
      "userId": "00672617778523589116"
     },
     "user_tz": -330
    },
    "id": "7ab6ea65",
    "outputId": "fc71ffb1-7592-4770-e17b-a8684494f070"
   },
   "outputs": [
    {
     "data": {
      "text/plain": [
       "1"
      ]
     },
     "execution_count": 85,
     "metadata": {},
     "output_type": "execute_result"
    }
   ],
   "source": [
    "a[0] # indexing is possible"
   ]
  },
  {
   "cell_type": "code",
   "execution_count": 86,
   "id": "95007797",
   "metadata": {
    "colab": {
     "base_uri": "https://localhost:8080/"
    },
    "executionInfo": {
     "elapsed": 9,
     "status": "ok",
     "timestamp": 1676381997943,
     "user": {
      "displayName": "Shanawaz Anwar",
      "userId": "00672617778523589116"
     },
     "user_tz": -330
    },
    "id": "95007797",
    "outputId": "4ad4a47c-2c5e-4d96-d5b0-9a4c0d2605d2"
   },
   "outputs": [
    {
     "data": {
      "text/plain": [
       "(1, 2, 3)"
      ]
     },
     "execution_count": 86,
     "metadata": {},
     "output_type": "execute_result"
    }
   ],
   "source": [
    "a[0:3] # slicing is possible"
   ]
  },
  {
   "cell_type": "code",
   "execution_count": 87,
   "id": "e5dc38a5",
   "metadata": {
    "colab": {
     "base_uri": "https://localhost:8080/",
     "height": 171
    },
    "executionInfo": {
     "elapsed": 449,
     "status": "error",
     "timestamp": 1676382001285,
     "user": {
      "displayName": "Shanawaz Anwar",
      "userId": "00672617778523589116"
     },
     "user_tz": -330
    },
    "id": "e5dc38a5",
    "outputId": "9137b1a9-26e9-46a9-eeb9-a662ce509199"
   },
   "outputs": [
    {
     "ename": "TypeError",
     "evalue": "ignored",
     "output_type": "error",
     "traceback": [
      "\u001b[0;31m---------------------------------------------------------------------------\u001b[0m",
      "\u001b[0;31mTypeError\u001b[0m                                 Traceback (most recent call last)",
      "\u001b[0;32m<ipython-input-87-083543bd6f0d>\u001b[0m in \u001b[0;36m<module>\u001b[0;34m\u001b[0m\n\u001b[0;32m----> 1\u001b[0;31m \u001b[0ma\u001b[0m\u001b[0;34m[\u001b[0m\u001b[0;36m0\u001b[0m\u001b[0;34m]\u001b[0m\u001b[0;34m=\u001b[0m\u001b[0;36m100\u001b[0m \u001b[0;31m# tuples are immutable\u001b[0m\u001b[0;34m\u001b[0m\u001b[0;34m\u001b[0m\u001b[0m\n\u001b[0m",
      "\u001b[0;31mTypeError\u001b[0m: 'tuple' object does not support item assignment"
     ]
    }
   ],
   "source": [
    "a[0]=100 # tuples are immutable"
   ]
  },
  {
   "cell_type": "code",
   "execution_count": null,
   "id": "e95794ec",
   "metadata": {
    "id": "e95794ec",
    "outputId": "d66bbd0b-e9b4-4725-b3e7-3cc0d797a0e8"
   },
   "outputs": [
    {
     "data": {
      "text/plain": [
       "1"
      ]
     },
     "execution_count": 7,
     "metadata": {},
     "output_type": "execute_result"
    }
   ],
   "source": [
    "a.index(2) # retreving the element index number"
   ]
  },
  {
   "cell_type": "code",
   "execution_count": null,
   "id": "704879ea",
   "metadata": {
    "id": "704879ea",
    "outputId": "13232e12-b6a9-416e-f958-fc62501efae4"
   },
   "outputs": [
    {
     "data": {
      "text/plain": [
       "1"
      ]
     },
     "execution_count": 8,
     "metadata": {},
     "output_type": "execute_result"
    }
   ],
   "source": [
    "a.count(2)"
   ]
  },
  {
   "cell_type": "code",
   "execution_count": null,
   "id": "a1cd32d3",
   "metadata": {
    "id": "a1cd32d3"
   },
   "outputs": [],
   "source": [
    "b = (1,2,3,5,4)\n",
    "c  = (1,2,3,4,5)"
   ]
  },
  {
   "cell_type": "code",
   "execution_count": null,
   "id": "06d46d68",
   "metadata": {
    "id": "06d46d68",
    "outputId": "53ef1057-58b6-4ec7-f3dc-0cb963fa5e20"
   },
   "outputs": [
    {
     "data": {
      "text/plain": [
       "False"
      ]
     },
     "execution_count": 10,
     "metadata": {},
     "output_type": "execute_result"
    }
   ],
   "source": [
    "a==b  # tuples is a ordered"
   ]
  },
  {
   "cell_type": "code",
   "execution_count": null,
   "id": "ffb108e5",
   "metadata": {
    "id": "ffb108e5",
    "outputId": "c7db285c-13d4-4337-af18-9fb64f6cc084"
   },
   "outputs": [
    {
     "data": {
      "text/plain": [
       "True"
      ]
     },
     "execution_count": 11,
     "metadata": {},
     "output_type": "execute_result"
    }
   ],
   "source": [
    "a==c # follows the indexing order,so displays true"
   ]
  },
  {
   "cell_type": "code",
   "execution_count": null,
   "id": "8108e1ed",
   "metadata": {
    "id": "8108e1ed",
    "outputId": "8a0e165d-b6c4-4efb-ced0-6d174dc1ba54"
   },
   "outputs": [
    {
     "data": {
      "text/plain": [
       "['__add__',\n",
       " '__class__',\n",
       " '__contains__',\n",
       " '__delattr__',\n",
       " '__dir__',\n",
       " '__doc__',\n",
       " '__eq__',\n",
       " '__format__',\n",
       " '__ge__',\n",
       " '__getattribute__',\n",
       " '__getitem__',\n",
       " '__getnewargs__',\n",
       " '__gt__',\n",
       " '__hash__',\n",
       " '__init__',\n",
       " '__init_subclass__',\n",
       " '__iter__',\n",
       " '__le__',\n",
       " '__len__',\n",
       " '__lt__',\n",
       " '__mul__',\n",
       " '__ne__',\n",
       " '__new__',\n",
       " '__reduce__',\n",
       " '__reduce_ex__',\n",
       " '__repr__',\n",
       " '__rmul__',\n",
       " '__setattr__',\n",
       " '__sizeof__',\n",
       " '__str__',\n",
       " '__subclasshook__',\n",
       " 'count',\n",
       " 'index']"
      ]
     },
     "execution_count": 12,
     "metadata": {},
     "output_type": "execute_result"
    }
   ],
   "source": [
    "dir(a) # to know list of functions available in tuple"
   ]
  },
  {
   "cell_type": "markdown",
   "id": "436ba47d",
   "metadata": {
    "id": "436ba47d"
   },
   "source": [
    "## 3.Set"
   ]
  },
  {
   "cell_type": "code",
   "execution_count": 88,
   "id": "d081c7ad",
   "metadata": {
    "executionInfo": {
     "elapsed": 423,
     "status": "ok",
     "timestamp": 1676382079116,
     "user": {
      "displayName": "Shanawaz Anwar",
      "userId": "00672617778523589116"
     },
     "user_tz": -330
    },
    "id": "d081c7ad"
   },
   "outputs": [],
   "source": [
    "s1  = {1,2,3,4} #intializing the set "
   ]
  },
  {
   "cell_type": "code",
   "execution_count": 89,
   "id": "b7202a4d",
   "metadata": {
    "executionInfo": {
     "elapsed": 1307,
     "status": "ok",
     "timestamp": 1676382087164,
     "user": {
      "displayName": "Shanawaz Anwar",
      "userId": "00672617778523589116"
     },
     "user_tz": -330
    },
    "id": "b7202a4d"
   },
   "outputs": [],
   "source": [
    "abc = set()"
   ]
  },
  {
   "cell_type": "code",
   "execution_count": 90,
   "id": "4e80a255",
   "metadata": {
    "colab": {
     "base_uri": "https://localhost:8080/"
    },
    "executionInfo": {
     "elapsed": 846,
     "status": "ok",
     "timestamp": 1676382091207,
     "user": {
      "displayName": "Shanawaz Anwar",
      "userId": "00672617778523589116"
     },
     "user_tz": -330
    },
    "id": "4e80a255",
    "outputId": "53b8edda-d4fe-407f-ac76-bf38512f7143"
   },
   "outputs": [
    {
     "data": {
      "text/plain": [
       "set"
      ]
     },
     "execution_count": 90,
     "metadata": {},
     "output_type": "execute_result"
    }
   ],
   "source": [
    "type(s1) # checking for data type"
   ]
  },
  {
   "cell_type": "code",
   "execution_count": 91,
   "id": "d7a569de",
   "metadata": {
    "executionInfo": {
     "elapsed": 6,
     "status": "ok",
     "timestamp": 1676382093819,
     "user": {
      "displayName": "Shanawaz Anwar",
      "userId": "00672617778523589116"
     },
     "user_tz": -330
    },
    "id": "d7a569de"
   },
   "outputs": [],
   "source": [
    "s2 ={1,3,4,2}"
   ]
  },
  {
   "cell_type": "code",
   "execution_count": 92,
   "id": "a3805ae3",
   "metadata": {
    "colab": {
     "base_uri": "https://localhost:8080/"
    },
    "executionInfo": {
     "elapsed": 374,
     "status": "ok",
     "timestamp": 1676382099675,
     "user": {
      "displayName": "Shanawaz Anwar",
      "userId": "00672617778523589116"
     },
     "user_tz": -330
    },
    "id": "a3805ae3",
    "outputId": "40ea9597-fed7-4011-f472-531e52f65cb3"
   },
   "outputs": [
    {
     "data": {
      "text/plain": [
       "True"
      ]
     },
     "execution_count": 92,
     "metadata": {},
     "output_type": "execute_result"
    }
   ],
   "source": [
    "s1==s2  # unodered"
   ]
  },
  {
   "cell_type": "code",
   "execution_count": 93,
   "id": "150431db",
   "metadata": {
    "executionInfo": {
     "elapsed": 410,
     "status": "ok",
     "timestamp": 1676382149937,
     "user": {
      "displayName": "Shanawaz Anwar",
      "userId": "00672617778523589116"
     },
     "user_tz": -330
    },
    "id": "150431db"
   },
   "outputs": [],
   "source": [
    "s1 = {1,1,2,2,3,3,4,4} # intializing with duplicate values"
   ]
  },
  {
   "cell_type": "code",
   "execution_count": 94,
   "id": "2d3a384e",
   "metadata": {
    "colab": {
     "base_uri": "https://localhost:8080/"
    },
    "executionInfo": {
     "elapsed": 388,
     "status": "ok",
     "timestamp": 1676382165210,
     "user": {
      "displayName": "Shanawaz Anwar",
      "userId": "00672617778523589116"
     },
     "user_tz": -330
    },
    "id": "2d3a384e",
    "outputId": "8b54b701-eac5-442d-a782-bbc9976355f1"
   },
   "outputs": [
    {
     "data": {
      "text/plain": [
       "{1, 2, 3, 4}"
      ]
     },
     "execution_count": 94,
     "metadata": {},
     "output_type": "execute_result"
    }
   ],
   "source": [
    "s1# set will not take duplicate values"
   ]
  },
  {
   "cell_type": "code",
   "execution_count": 95,
   "id": "07305463",
   "metadata": {
    "colab": {
     "base_uri": "https://localhost:8080/"
    },
    "executionInfo": {
     "elapsed": 472,
     "status": "ok",
     "timestamp": 1676382191325,
     "user": {
      "displayName": "Shanawaz Anwar",
      "userId": "00672617778523589116"
     },
     "user_tz": -330
    },
    "id": "07305463",
    "outputId": "4182830f-795f-4b58-ed5b-085861c3c042"
   },
   "outputs": [
    {
     "data": {
      "text/plain": [
       "['__and__',\n",
       " '__class__',\n",
       " '__contains__',\n",
       " '__delattr__',\n",
       " '__dir__',\n",
       " '__doc__',\n",
       " '__eq__',\n",
       " '__format__',\n",
       " '__ge__',\n",
       " '__getattribute__',\n",
       " '__gt__',\n",
       " '__hash__',\n",
       " '__iand__',\n",
       " '__init__',\n",
       " '__init_subclass__',\n",
       " '__ior__',\n",
       " '__isub__',\n",
       " '__iter__',\n",
       " '__ixor__',\n",
       " '__le__',\n",
       " '__len__',\n",
       " '__lt__',\n",
       " '__ne__',\n",
       " '__new__',\n",
       " '__or__',\n",
       " '__rand__',\n",
       " '__reduce__',\n",
       " '__reduce_ex__',\n",
       " '__repr__',\n",
       " '__ror__',\n",
       " '__rsub__',\n",
       " '__rxor__',\n",
       " '__setattr__',\n",
       " '__sizeof__',\n",
       " '__str__',\n",
       " '__sub__',\n",
       " '__subclasshook__',\n",
       " '__xor__',\n",
       " 'add',\n",
       " 'clear',\n",
       " 'copy',\n",
       " 'difference',\n",
       " 'difference_update',\n",
       " 'discard',\n",
       " 'intersection',\n",
       " 'intersection_update',\n",
       " 'isdisjoint',\n",
       " 'issubset',\n",
       " 'issuperset',\n",
       " 'pop',\n",
       " 'remove',\n",
       " 'symmetric_difference',\n",
       " 'symmetric_difference_update',\n",
       " 'union',\n",
       " 'update']"
      ]
     },
     "execution_count": 95,
     "metadata": {},
     "output_type": "execute_result"
    }
   ],
   "source": [
    "dir(s1) # checking for list of functions"
   ]
  },
  {
   "cell_type": "code",
   "execution_count": 96,
   "id": "2c690287",
   "metadata": {
    "executionInfo": {
     "elapsed": 376,
     "status": "ok",
     "timestamp": 1676382204213,
     "user": {
      "displayName": "Shanawaz Anwar",
      "userId": "00672617778523589116"
     },
     "user_tz": -330
    },
    "id": "2c690287"
   },
   "outputs": [],
   "source": [
    "s1.add(67) # adding the element to the list"
   ]
  },
  {
   "cell_type": "code",
   "execution_count": 97,
   "id": "bce6a0be",
   "metadata": {
    "colab": {
     "base_uri": "https://localhost:8080/"
    },
    "executionInfo": {
     "elapsed": 398,
     "status": "ok",
     "timestamp": 1676382206731,
     "user": {
      "displayName": "Shanawaz Anwar",
      "userId": "00672617778523589116"
     },
     "user_tz": -330
    },
    "id": "bce6a0be",
    "outputId": "8fa54c79-65ba-4411-c132-a00e7d8872bc"
   },
   "outputs": [
    {
     "data": {
      "text/plain": [
       "{1, 2, 3, 4, 67}"
      ]
     },
     "execution_count": 97,
     "metadata": {},
     "output_type": "execute_result"
    }
   ],
   "source": [
    "s1"
   ]
  },
  {
   "cell_type": "code",
   "execution_count": 98,
   "id": "a2ed1a00",
   "metadata": {
    "executionInfo": {
     "elapsed": 423,
     "status": "ok",
     "timestamp": 1676382209435,
     "user": {
      "displayName": "Shanawaz Anwar",
      "userId": "00672617778523589116"
     },
     "user_tz": -330
    },
    "id": "a2ed1a00"
   },
   "outputs": [],
   "source": [
    "s11 = s1 # storing the elements of s1 into s11"
   ]
  },
  {
   "cell_type": "code",
   "execution_count": 99,
   "id": "e3756b8d",
   "metadata": {
    "executionInfo": {
     "elapsed": 378,
     "status": "ok",
     "timestamp": 1676382225083,
     "user": {
      "displayName": "Shanawaz Anwar",
      "userId": "00672617778523589116"
     },
     "user_tz": -330
    },
    "id": "e3756b8d"
   },
   "outputs": [],
   "source": [
    "s22 = set() # intializing an empty set"
   ]
  },
  {
   "cell_type": "code",
   "execution_count": 100,
   "id": "4b29b26e",
   "metadata": {
    "executionInfo": {
     "elapsed": 397,
     "status": "ok",
     "timestamp": 1676382233412,
     "user": {
      "displayName": "Shanawaz Anwar",
      "userId": "00672617778523589116"
     },
     "user_tz": -330
    },
    "id": "4b29b26e"
   },
   "outputs": [],
   "source": [
    "s22 = s1.copy() # copying the values of the s1 to s22"
   ]
  },
  {
   "cell_type": "code",
   "execution_count": 101,
   "id": "15124bc0",
   "metadata": {
    "executionInfo": {
     "elapsed": 385,
     "status": "ok",
     "timestamp": 1676382241579,
     "user": {
      "displayName": "Shanawaz Anwar",
      "userId": "00672617778523589116"
     },
     "user_tz": -330
    },
    "id": "15124bc0"
   },
   "outputs": [],
   "source": [
    "s1.add(1000)"
   ]
  },
  {
   "cell_type": "code",
   "execution_count": 103,
   "id": "ac215c16",
   "metadata": {
    "colab": {
     "base_uri": "https://localhost:8080/"
    },
    "executionInfo": {
     "elapsed": 6,
     "status": "ok",
     "timestamp": 1676382279477,
     "user": {
      "displayName": "Shanawaz Anwar",
      "userId": "00672617778523589116"
     },
     "user_tz": -330
    },
    "id": "ac215c16",
    "outputId": "ade97f2c-d1d3-4bbd-aae4-38cfaba415e8"
   },
   "outputs": [
    {
     "data": {
      "text/plain": [
       "({1, 2, 3, 4, 67, 1000}, {1, 2, 3, 4, 67})"
      ]
     },
     "execution_count": 103,
     "metadata": {},
     "output_type": "execute_result"
    }
   ],
   "source": [
    "s11,s22 # copying the value 1000 in both orginal adn duplicate set"
   ]
  },
  {
   "cell_type": "code",
   "execution_count": null,
   "id": "8c764396",
   "metadata": {
    "id": "8c764396",
    "outputId": "d191bde1-ceac-448a-9ac0-87b9ce5e2295"
   },
   "outputs": [
    {
     "data": {
      "text/plain": [
       "({1, 2, 3, 4, 67}, {1, 2, 3, 4, 67, 1000})"
      ]
     },
     "execution_count": 34,
     "metadata": {},
     "output_type": "execute_result"
    }
   ],
   "source": [
    "s22,s1 # 1000 is copied only in main set not to the duplicate set"
   ]
  },
  {
   "cell_type": "code",
   "execution_count": null,
   "id": "ZE5URy40LLB1",
   "metadata": {
    "id": "ZE5URy40LLB1"
   },
   "outputs": [],
   "source": []
  },
  {
   "cell_type": "markdown",
   "id": "ca45ea87",
   "metadata": {
    "id": "ca45ea87"
   },
   "source": [
    "## 4. Dictionary"
   ]
  },
  {
   "cell_type": "code",
   "execution_count": 67,
   "id": "81f29af1",
   "metadata": {
    "executionInfo": {
     "elapsed": 413,
     "status": "ok",
     "timestamp": 1676382406594,
     "user": {
      "displayName": "Shanawaz Anwar",
      "userId": "00672617778523589116"
     },
     "user_tz": -330
    },
    "id": "81f29af1"
   },
   "outputs": [],
   "source": [
    "# creating a dictionary\n",
    "Dict = {\"Name\":\"ram\",\"Age\":27} "
   ]
  },
  {
   "cell_type": "code",
   "execution_count": 65,
   "id": "ee0e7ee1",
   "metadata": {},
   "outputs": [],
   "source": [
    "anything={'values':[1,2,2,2],'numbers':[2,3,5,6]}"
   ]
  },
  {
   "cell_type": "code",
   "execution_count": 66,
   "id": "4b744132",
   "metadata": {},
   "outputs": [
    {
     "data": {
      "text/plain": [
       "{'values': [1, 2, 2, 2], 'numbers': [2, 3, 5, 6]}"
      ]
     },
     "execution_count": 66,
     "metadata": {},
     "output_type": "execute_result"
    }
   ],
   "source": [
    "anything"
   ]
  },
  {
   "cell_type": "code",
   "execution_count": 105,
   "id": "833d2504",
   "metadata": {
    "colab": {
     "base_uri": "https://localhost:8080/"
    },
    "executionInfo": {
     "elapsed": 6,
     "status": "ok",
     "timestamp": 1676382410521,
     "user": {
      "displayName": "Shanawaz Anwar",
      "userId": "00672617778523589116"
     },
     "user_tz": -330
    },
    "id": "833d2504",
    "outputId": "10f1da20-3559-4142-fa3a-f2edfe6a880f"
   },
   "outputs": [
    {
     "data": {
      "text/plain": [
       "{'Name': 'ram', 'Age': 27}"
      ]
     },
     "execution_count": 105,
     "metadata": {},
     "output_type": "execute_result"
    }
   ],
   "source": [
    "Dict"
   ]
  },
  {
   "cell_type": "code",
   "execution_count": 106,
   "id": "c3983bd4",
   "metadata": {
    "colab": {
     "base_uri": "https://localhost:8080/"
    },
    "executionInfo": {
     "elapsed": 8,
     "status": "ok",
     "timestamp": 1676382413902,
     "user": {
      "displayName": "Shanawaz Anwar",
      "userId": "00672617778523589116"
     },
     "user_tz": -330
    },
    "id": "c3983bd4",
    "outputId": "ec780dd0-b00c-42f7-9c98-711c353b2fb8"
   },
   "outputs": [
    {
     "data": {
      "text/plain": [
       "dict"
      ]
     },
     "execution_count": 106,
     "metadata": {},
     "output_type": "execute_result"
    }
   ],
   "source": [
    "# checking the data type\n",
    "type(Dict)"
   ]
  },
  {
   "cell_type": "code",
   "execution_count": 107,
   "id": "fcdb4e92",
   "metadata": {
    "colab": {
     "base_uri": "https://localhost:8080/"
    },
    "executionInfo": {
     "elapsed": 371,
     "status": "ok",
     "timestamp": 1676382422526,
     "user": {
      "displayName": "Shanawaz Anwar",
      "userId": "00672617778523589116"
     },
     "user_tz": -330
    },
    "id": "fcdb4e92",
    "outputId": "cd5e0280-cb4e-4258-9c61-bf8319a094d2"
   },
   "outputs": [
    {
     "data": {
      "text/plain": [
       "dict_items([('Name', 'ram'), ('Age', 27)])"
      ]
     },
     "execution_count": 107,
     "metadata": {},
     "output_type": "execute_result"
    }
   ],
   "source": [
    "# checking the items of the data type\n",
    "Dict.items()"
   ]
  },
  {
   "cell_type": "code",
   "execution_count": 108,
   "id": "448634db",
   "metadata": {
    "colab": {
     "base_uri": "https://localhost:8080/"
    },
    "executionInfo": {
     "elapsed": 597,
     "status": "ok",
     "timestamp": 1676382433506,
     "user": {
      "displayName": "Shanawaz Anwar",
      "userId": "00672617778523589116"
     },
     "user_tz": -330
    },
    "id": "448634db",
    "outputId": "472fe359-85d4-4acf-89da-3592ccb5a5bc"
   },
   "outputs": [
    {
     "data": {
      "text/plain": [
       "dict_keys(['Name', 'Age'])"
      ]
     },
     "execution_count": 108,
     "metadata": {},
     "output_type": "execute_result"
    }
   ],
   "source": [
    "# checking the keys of the dictionary\n",
    "Dict.keys()"
   ]
  },
  {
   "cell_type": "code",
   "execution_count": 109,
   "id": "7aa43672",
   "metadata": {
    "colab": {
     "base_uri": "https://localhost:8080/"
    },
    "executionInfo": {
     "elapsed": 932,
     "status": "ok",
     "timestamp": 1676382446223,
     "user": {
      "displayName": "Shanawaz Anwar",
      "userId": "00672617778523589116"
     },
     "user_tz": -330
    },
    "id": "7aa43672",
    "outputId": "7f544575-7f41-423c-ea05-8723e845ee4b"
   },
   "outputs": [
    {
     "data": {
      "text/plain": [
       "dict_values(['ram', 27])"
      ]
     },
     "execution_count": 109,
     "metadata": {},
     "output_type": "execute_result"
    }
   ],
   "source": [
    "# checking the values of the dictionary\n",
    "Dict.values()"
   ]
  },
  {
   "cell_type": "code",
   "execution_count": 110,
   "id": "2dca4e30",
   "metadata": {
    "colab": {
     "base_uri": "https://localhost:8080/",
     "height": 171
    },
    "executionInfo": {
     "elapsed": 371,
     "status": "error",
     "timestamp": 1676382453367,
     "user": {
      "displayName": "Shanawaz Anwar",
      "userId": "00672617778523589116"
     },
     "user_tz": -330
    },
    "id": "2dca4e30",
    "outputId": "4c56f3b9-69dc-4b48-d7ab-85cddb780f8a"
   },
   "outputs": [
    {
     "ename": "KeyError",
     "evalue": "ignored",
     "output_type": "error",
     "traceback": [
      "\u001b[0;31m---------------------------------------------------------------------------\u001b[0m",
      "\u001b[0;31mKeyError\u001b[0m                                  Traceback (most recent call last)",
      "\u001b[0;32m<ipython-input-110-d25f07d5c48e>\u001b[0m in \u001b[0;36m<module>\u001b[0;34m\u001b[0m\n\u001b[0;32m----> 1\u001b[0;31m \u001b[0mDict\u001b[0m\u001b[0;34m[\u001b[0m\u001b[0;36m0\u001b[0m\u001b[0;34m]\u001b[0m \u001b[0;31m# indexing is not possible\u001b[0m\u001b[0;34m\u001b[0m\u001b[0;34m\u001b[0m\u001b[0m\n\u001b[0m",
      "\u001b[0;31mKeyError\u001b[0m: 0"
     ]
    }
   ],
   "source": [
    "Dict[0] # indexing is not possible"
   ]
  },
  {
   "cell_type": "code",
   "execution_count": 111,
   "id": "57aac019",
   "metadata": {
    "executionInfo": {
     "elapsed": 407,
     "status": "ok",
     "timestamp": 1676382477762,
     "user": {
      "displayName": "Shanawaz Anwar",
      "userId": "00672617778523589116"
     },
     "user_tz": -330
    },
    "id": "57aac019"
   },
   "outputs": [],
   "source": [
    "Dict[\"salary\"]= 11111 # addition of elements is possible"
   ]
  },
  {
   "cell_type": "code",
   "execution_count": 112,
   "id": "de89410c",
   "metadata": {
    "colab": {
     "base_uri": "https://localhost:8080/"
    },
    "executionInfo": {
     "elapsed": 7,
     "status": "ok",
     "timestamp": 1676382480357,
     "user": {
      "displayName": "Shanawaz Anwar",
      "userId": "00672617778523589116"
     },
     "user_tz": -330
    },
    "id": "de89410c",
    "outputId": "a9365a12-0e92-429e-cd54-10dd7a52ab56"
   },
   "outputs": [
    {
     "data": {
      "text/plain": [
       "{'Name': 'ram', 'Age': 27, 'salary': 11111}"
      ]
     },
     "execution_count": 112,
     "metadata": {},
     "output_type": "execute_result"
    }
   ],
   "source": [
    "Dict"
   ]
  },
  {
   "cell_type": "code",
   "execution_count": 113,
   "id": "5c5389ce",
   "metadata": {
    "executionInfo": {
     "elapsed": 404,
     "status": "ok",
     "timestamp": 1676382490018,
     "user": {
      "displayName": "Shanawaz Anwar",
      "userId": "00672617778523589116"
     },
     "user_tz": -330
    },
    "id": "5c5389ce"
   },
   "outputs": [],
   "source": [
    "Dict['Name'] = \"tghj\" # dict are mutable, we can change the values"
   ]
  },
  {
   "cell_type": "code",
   "execution_count": 114,
   "id": "2c35b199",
   "metadata": {
    "colab": {
     "base_uri": "https://localhost:8080/"
    },
    "executionInfo": {
     "elapsed": 412,
     "status": "ok",
     "timestamp": 1676382493863,
     "user": {
      "displayName": "Shanawaz Anwar",
      "userId": "00672617778523589116"
     },
     "user_tz": -330
    },
    "id": "2c35b199",
    "outputId": "466183c7-109d-4b96-a9de-754108fdb2fb"
   },
   "outputs": [
    {
     "data": {
      "text/plain": [
       "{'Name': 'tghj', 'Age': 27, 'salary': 11111}"
      ]
     },
     "execution_count": 114,
     "metadata": {},
     "output_type": "execute_result"
    }
   ],
   "source": [
    "Dict"
   ]
  },
  {
   "cell_type": "code",
   "execution_count": null,
   "id": "c56e6bbb",
   "metadata": {
    "id": "c56e6bbb"
   },
   "outputs": [],
   "source": [
    "dict  ={'Age': 27, 'salary': 11111,'Name': 'tghj'}"
   ]
  },
  {
   "cell_type": "code",
   "execution_count": 117,
   "id": "eJWon3yRMB8t",
   "metadata": {
    "executionInfo": {
     "elapsed": 5,
     "status": "ok",
     "timestamp": 1676382582741,
     "user": {
      "displayName": "Shanawaz Anwar",
      "userId": "00672617778523589116"
     },
     "user_tz": -330
    },
    "id": "eJWon3yRMB8t"
   },
   "outputs": [],
   "source": [
    "DICT = {'Name': 'tghj', 'Age': 27, 'salary': 11111}"
   ]
  },
  {
   "cell_type": "code",
   "execution_count": 119,
   "id": "31bbc81e",
   "metadata": {
    "colab": {
     "base_uri": "https://localhost:8080/"
    },
    "executionInfo": {
     "elapsed": 381,
     "status": "ok",
     "timestamp": 1676382624920,
     "user": {
      "displayName": "Shanawaz Anwar",
      "userId": "00672617778523589116"
     },
     "user_tz": -330
    },
    "id": "31bbc81e",
    "outputId": "06e05114-359e-4348-df65-a6723b3a7391"
   },
   "outputs": [
    {
     "data": {
      "text/plain": [
       "False"
      ]
     },
     "execution_count": 119,
     "metadata": {},
     "output_type": "execute_result"
    }
   ],
   "source": [
    "Dict == dict  # Dictionaries are unordered"
   ]
  },
  {
   "cell_type": "markdown",
   "id": "91e498dc",
   "metadata": {
    "id": "91e498dc"
   },
   "source": [
    "# Keywords"
   ]
  },
  {
   "cell_type": "markdown",
   "id": "fabbf187",
   "metadata": {
    "id": "fabbf187"
   },
   "source": [
    "##### Keywords are the special type of words, which has some specific purpose"
   ]
  },
  {
   "cell_type": "code",
   "execution_count": null,
   "id": "88bf423a",
   "metadata": {
    "id": "88bf423a"
   },
   "outputs": [],
   "source": [
    "import keyword"
   ]
  },
  {
   "cell_type": "code",
   "execution_count": null,
   "id": "7e0d7d37",
   "metadata": {
    "id": "7e0d7d37",
    "outputId": "e08f1039-e3a8-412a-a9de-414dd95cb2ce"
   },
   "outputs": [
    {
     "data": {
      "text/plain": [
       "['False',\n",
       " 'None',\n",
       " 'True',\n",
       " 'and',\n",
       " 'as',\n",
       " 'assert',\n",
       " 'async',\n",
       " 'await',\n",
       " 'break',\n",
       " 'class',\n",
       " 'continue',\n",
       " 'def',\n",
       " 'del',\n",
       " 'elif',\n",
       " 'else',\n",
       " 'except',\n",
       " 'finally',\n",
       " 'for',\n",
       " 'from',\n",
       " 'global',\n",
       " 'if',\n",
       " 'import',\n",
       " 'in',\n",
       " 'is',\n",
       " 'lambda',\n",
       " 'nonlocal',\n",
       " 'not',\n",
       " 'or',\n",
       " 'pass',\n",
       " 'raise',\n",
       " 'return',\n",
       " 'try',\n",
       " 'while',\n",
       " 'with',\n",
       " 'yield']"
      ]
     },
     "execution_count": 72,
     "metadata": {},
     "output_type": "execute_result"
    }
   ],
   "source": [
    "keyword.kwlist"
   ]
  },
  {
   "cell_type": "markdown",
   "id": "1bc8f5e7",
   "metadata": {
    "id": "1bc8f5e7"
   },
   "source": [
    "# Loops and Statements"
   ]
  },
  {
   "cell_type": "markdown",
   "id": "f21f0eca",
   "metadata": {
    "id": "f21f0eca"
   },
   "source": [
    "##### A program loop is a series of statements that executes for a specified number of repetitions or until specified conditions are met."
   ]
  },
  {
   "cell_type": "markdown",
   "id": "e2657cc4",
   "metadata": {
    "id": "e2657cc4"
   },
   "source": [
    "##### Conditional statements are those statements where a hypothesis is followed by a conclusion. It is also known as an \" If-then\" statement. If the hypothesis is true and the conclusion is false, then the conditional statement is false. Likewise, if the hypothesis is false the whole statement is false"
   ]
  },
  {
   "cell_type": "markdown",
   "id": "065f339b",
   "metadata": {
    "id": "065f339b"
   },
   "source": [
    "## If statement"
   ]
  },
  {
   "cell_type": "code",
   "execution_count": 122,
   "id": "66979c43",
   "metadata": {
    "colab": {
     "base_uri": "https://localhost:8080/"
    },
    "executionInfo": {
     "elapsed": 4926,
     "status": "ok",
     "timestamp": 1676382881684,
     "user": {
      "displayName": "Shanawaz Anwar",
      "userId": "00672617778523589116"
     },
     "user_tz": -330
    },
    "id": "66979c43",
    "outputId": "349ea89b-4db3-490d-9118-de719794923c"
   },
   "outputs": [
    {
     "name": "stdout",
     "output_type": "stream",
     "text": [
      "Enter the number6\n",
      "Number is even\n"
     ]
    }
   ],
   "source": [
    "# if a number is even %2\n",
    "num = int(input(\"Enter the number\"))\n",
    "if num%2 == 0:\n",
    "    print(\"Number is even\")"
   ]
  },
  {
   "cell_type": "code",
   "execution_count": 123,
   "id": "e0557e5a",
   "metadata": {
    "colab": {
     "base_uri": "https://localhost:8080/"
    },
    "executionInfo": {
     "elapsed": 354,
     "status": "ok",
     "timestamp": 1676382910282,
     "user": {
      "displayName": "Shanawaz Anwar",
      "userId": "00672617778523589116"
     },
     "user_tz": -330
    },
    "id": "e0557e5a",
    "outputId": "0a0106c6-6d20-4d17-c01c-f4cc3ff3bba1"
   },
   "outputs": [
    {
     "name": "stdout",
     "output_type": "stream",
     "text": [
      "hello world\n"
     ]
    }
   ],
   "source": [
    "# writing a program to print the statement with condition\n",
    "a = 20\n",
    "b = 30\n",
    "if a<b:\n",
    "    print(\"hello world\")"
   ]
  },
  {
   "cell_type": "code",
   "execution_count": 124,
   "id": "8a85a125",
   "metadata": {
    "executionInfo": {
     "elapsed": 18,
     "status": "ok",
     "timestamp": 1676382924179,
     "user": {
      "displayName": "Shanawaz Anwar",
      "userId": "00672617778523589116"
     },
     "user_tz": -330
    },
    "id": "8a85a125"
   },
   "outputs": [],
   "source": [
    "# if the condition is not satisfied, the print statement will not execute\n",
    "a = 20\n",
    "b = 30\n",
    "if a>b:\n",
    "    print(\"hello world\")"
   ]
  },
  {
   "cell_type": "markdown",
   "id": "f0e5884d",
   "metadata": {
    "id": "f0e5884d"
   },
   "source": [
    "## 2.IF-else"
   ]
  },
  {
   "cell_type": "code",
   "execution_count": 68,
   "id": "0084f9cc",
   "metadata": {
    "colab": {
     "base_uri": "https://localhost:8080/"
    },
    "executionInfo": {
     "elapsed": 4974,
     "status": "ok",
     "timestamp": 1676382975127,
     "user": {
      "displayName": "Shanawaz Anwar",
      "userId": "00672617778523589116"
     },
     "user_tz": -330
    },
    "id": "0084f9cc",
    "outputId": "c44cef62-40d1-4299-fb5e-f382124a34c3"
   },
   "outputs": [
    {
     "name": "stdout",
     "output_type": "stream",
     "text": [
      "Enter the number5\n",
      "number is odd\n"
     ]
    }
   ],
   "source": [
    "# writing a program to check the number is even or odd\n",
    "num = int(input(\"Enter the number\"))\n",
    "if num%2 == 0:\n",
    "    print(\"Number is even\")\n",
    "else:\n",
    "    print(\"number is odd\")"
   ]
  },
  {
   "cell_type": "code",
   "execution_count": 69,
   "id": "e3ae46a2",
   "metadata": {
    "colab": {
     "base_uri": "https://localhost:8080/"
    },
    "executionInfo": {
     "elapsed": 6853,
     "status": "ok",
     "timestamp": 1676383009938,
     "user": {
      "displayName": "Shanawaz Anwar",
      "userId": "00672617778523589116"
     },
     "user_tz": -330
    },
    "id": "e3ae46a2",
    "outputId": "8a98bcc5-6a48-4072-ce52-150b688c561c"
   },
   "outputs": [
    {
     "name": "stdout",
     "output_type": "stream",
     "text": [
      "Enter the number8\n",
      "Number is even\n"
     ]
    }
   ],
   "source": [
    "# writing a program to check the number is even or odd\n",
    "num = int(input(\"Enter the number\"))\n",
    "if num%2 == 0:\n",
    "    print(\"Number is even\")\n",
    "else:\n",
    "    print(\"number is odd\")"
   ]
  },
  {
   "cell_type": "code",
   "execution_count": 70,
   "id": "77a66301",
   "metadata": {
    "colab": {
     "base_uri": "https://localhost:8080/"
    },
    "executionInfo": {
     "elapsed": 8575,
     "status": "ok",
     "timestamp": 1676383063309,
     "user": {
      "displayName": "Shanawaz Anwar",
      "userId": "00672617778523589116"
     },
     "user_tz": -330
    },
    "id": "77a66301",
    "outputId": "fb2f9c71-91f7-4eb6-d4c5-b5a4ccf07b71"
   },
   "outputs": [
    {
     "name": "stdout",
     "output_type": "stream",
     "text": [
      "Enter the number2\n",
      "Enter the number4\n",
      "b is greater\n",
      "4\n"
     ]
    }
   ],
   "source": [
    "# writing a program to check the greatest of two numbers\n",
    "\n",
    "a = int(input(\"Enter the number\"))\n",
    "b = int(input(\"Enter the number\"))\n",
    "if a<b:\n",
    "    print(\"b is greater\")\n",
    "    print(b)\n",
    "else:\n",
    "    print(\"a is greater\")\n",
    "    print(a)"
   ]
  },
  {
   "cell_type": "markdown",
   "id": "1d4b6784",
   "metadata": {
    "id": "1d4b6784"
   },
   "source": [
    "## 3.Nested If else"
   ]
  },
  {
   "cell_type": "code",
   "execution_count": 131,
   "id": "82ffe4fc",
   "metadata": {
    "colab": {
     "base_uri": "https://localhost:8080/"
    },
    "executionInfo": {
     "elapsed": 6357,
     "status": "ok",
     "timestamp": 1676383125149,
     "user": {
      "displayName": "Shanawaz Anwar",
      "userId": "00672617778523589116"
     },
     "user_tz": -330
    },
    "id": "82ffe4fc",
    "outputId": "74d72667-7e38-420e-a9f6-52a100fecd35"
   },
   "outputs": [
    {
     "name": "stdout",
     "output_type": "stream",
     "text": [
      "Enter the number7\n",
      "Enter the number7\n",
      "a is equal to b\n"
     ]
    }
   ],
   "source": [
    "7# checking the greatest of the numbers with 3 conditions\n",
    "\n",
    "a = int(input(\"Enter the number\"))\n",
    "b = int(input(\"Enter the number\"))\n",
    "if a<b:\n",
    "    print(\"b is greater\")\n",
    "elif a==b:\n",
    "    print(\"a is equal to b\")\n",
    "elif :\n",
    "elif :\n",
    "else:\n",
    "    print(\"a is greater\")"
   ]
  },
  {
   "cell_type": "markdown",
   "id": "de9695cf",
   "metadata": {
    "id": "de9695cf"
   },
   "source": [
    "## 4.For loop"
   ]
  },
  {
   "cell_type": "markdown",
   "id": "a67e050c",
   "metadata": {
    "id": "a67e050c"
   },
   "source": [
    "##### A for loop is a control flow statement for specifying iteration, which allows code to be executed repeatedly. A for loop has two parts: a header specifying the iteration, and a body which is executed once per iteration."
   ]
  },
  {
   "cell_type": "code",
   "execution_count": 72,
   "id": "1e3ba443",
   "metadata": {
    "id": "1e3ba443"
   },
   "outputs": [],
   "source": [
    "# creating an empty list\n",
    "lst = []"
   ]
  },
  {
   "cell_type": "code",
   "execution_count": 73,
   "id": "d2631572",
   "metadata": {
    "id": "d2631572"
   },
   "outputs": [],
   "source": [
    "# using for loop appending the values\n",
    "\n",
    "for i in range(20):\n",
    "    lst.append(i)"
   ]
  },
  {
   "cell_type": "code",
   "execution_count": 74,
   "id": "846c41dc",
   "metadata": {},
   "outputs": [],
   "source": [
    "k=[]"
   ]
  },
  {
   "cell_type": "code",
   "execution_count": 75,
   "id": "e49bccee",
   "metadata": {},
   "outputs": [],
   "source": [
    "for i in range(10):\n",
    "    k.append(i)"
   ]
  },
  {
   "cell_type": "code",
   "execution_count": 76,
   "id": "25e37932",
   "metadata": {},
   "outputs": [
    {
     "data": {
      "text/plain": [
       "[0, 1, 2, 3, 4, 5, 6, 7, 8, 9]"
      ]
     },
     "execution_count": 76,
     "metadata": {},
     "output_type": "execute_result"
    }
   ],
   "source": [
    "k"
   ]
  },
  {
   "cell_type": "code",
   "execution_count": 77,
   "id": "73d15199",
   "metadata": {
    "id": "73d15199",
    "outputId": "737bc6cc-755f-4b63-a992-d3d9dd676d5f"
   },
   "outputs": [
    {
     "data": {
      "text/plain": [
       "[0, 1, 2, 3, 4, 5, 6, 7, 8, 9, 10, 11, 12, 13, 14, 15, 16, 17, 18, 19]"
      ]
     },
     "execution_count": 77,
     "metadata": {},
     "output_type": "execute_result"
    }
   ],
   "source": [
    "lst"
   ]
  },
  {
   "cell_type": "code",
   "execution_count": 78,
   "id": "2763e6ea",
   "metadata": {
    "id": "2763e6ea",
    "outputId": "aa15ec51-1505-4d78-d1e1-389aa0c4ea45"
   },
   "outputs": [
    {
     "name": "stdout",
     "output_type": "stream",
     "text": [
      "(0, 0)\n",
      "(1, 1)\n",
      "(2, 2)\n",
      "(3, 3)\n",
      "(4, 4)\n",
      "(5, 5)\n",
      "(6, 6)\n",
      "(7, 7)\n",
      "(8, 8)\n",
      "(9, 9)\n",
      "(10, 10)\n",
      "(11, 11)\n",
      "(12, 12)\n",
      "(13, 13)\n",
      "(14, 14)\n",
      "(15, 15)\n",
      "(16, 16)\n",
      "(17, 17)\n",
      "(18, 18)\n",
      "(19, 19)\n"
     ]
    }
   ],
   "source": [
    "# enumerate function with for loop, it displays index value\n",
    "\n",
    "for i in enumerate(lst):\n",
    "    print(i)"
   ]
  },
  {
   "cell_type": "code",
   "execution_count": null,
   "id": "bfda6743",
   "metadata": {
    "id": "bfda6743"
   },
   "outputs": [],
   "source": [
    "lst1 = [2,3,4,6,8,9] # creating a list"
   ]
  },
  {
   "cell_type": "code",
   "execution_count": null,
   "id": "76f3c27f",
   "metadata": {
    "id": "76f3c27f",
    "outputId": "2311eb1d-183a-4af2-b925-63fcf08f7f31"
   },
   "outputs": [
    {
     "name": "stdout",
     "output_type": "stream",
     "text": [
      "(0, 2)\n",
      "(1, 3)\n",
      "(2, 4)\n",
      "(3, 6)\n",
      "(4, 8)\n",
      "(5, 9)\n"
     ]
    }
   ],
   "source": [
    "# printing all the elements of the list along with index numbers\n",
    "\n",
    "for i in enumerate(lst1):\n",
    "    print(i)"
   ]
  },
  {
   "cell_type": "code",
   "execution_count": 82,
   "id": "1a8be65e",
   "metadata": {
    "id": "1a8be65e",
    "outputId": "e3204eac-ce58-4192-dff2-074404ad4752"
   },
   "outputs": [
    {
     "name": "stdout",
     "output_type": "stream",
     "text": [
      "smartbridge"
     ]
    }
   ],
   "source": [
    "# for loop with strings\n",
    "\n",
    "for i in \"smartbridge\":\n",
    "    print(i, end=\"\")"
   ]
  },
  {
   "cell_type": "markdown",
   "id": "39ff52f9",
   "metadata": {
    "id": "39ff52f9"
   },
   "source": [
    "## 5.While"
   ]
  },
  {
   "cell_type": "markdown",
   "id": "94ff3083",
   "metadata": {
    "id": "94ff3083"
   },
   "source": [
    "##### A while loop is a control flow statement that allows code to be executed repeatedly based on a given Boolean condition. The while loop can be thought of as a repeating if statement."
   ]
  },
  {
   "cell_type": "code",
   "execution_count": 83,
   "id": "ba62dcb2",
   "metadata": {
    "id": "ba62dcb2",
    "outputId": "89476646-3f0b-4ee6-c2dc-e3141f4488ff",
    "scrolled": true
   },
   "outputs": [
    {
     "name": "stdout",
     "output_type": "stream",
     "text": [
      "1\n",
      "2\n",
      "3\n",
      "4\n",
      "5\n",
      "6\n",
      "7\n"
     ]
    }
   ],
   "source": [
    "# print the values until the condition get false\n",
    "i = 0\n",
    "while i <7:\n",
    "    i +=1\n",
    "    print(i)"
   ]
  },
  {
   "cell_type": "markdown",
   "id": "cc271ea9",
   "metadata": {
    "id": "cc271ea9"
   },
   "source": [
    "#### while with continue"
   ]
  },
  {
   "cell_type": "code",
   "execution_count": null,
   "id": "b366eff5",
   "metadata": {
    "id": "b366eff5",
    "outputId": "76c43910-b34c-486a-d38d-63c4ec81b0dd"
   },
   "outputs": [
    {
     "name": "stdout",
     "output_type": "stream",
     "text": [
      "1\n",
      "2\n",
      "3\n",
      "4\n",
      "5\n",
      "7\n"
     ]
    }
   ],
   "source": [
    "# while loop with continue, prints all the values till condition get false and skip that if condition value\n",
    "i = 0\n",
    "while i <7:\n",
    "    i +=1\n",
    "    if i ==6:\n",
    "        continue\n",
    "    print(i)"
   ]
  },
  {
   "cell_type": "code",
   "execution_count": 84,
   "id": "5ec2ffce",
   "metadata": {},
   "outputs": [
    {
     "data": {
      "text/plain": [
       "11"
      ]
     },
     "execution_count": 84,
     "metadata": {},
     "output_type": "execute_result"
    }
   ],
   "source": [
    "str1 = \"smartbridge\"\n",
    "len(str1)"
   ]
  },
  {
   "cell_type": "code",
   "execution_count": null,
   "id": "1a433d2d",
   "metadata": {
    "id": "1a433d2d",
    "outputId": "455fec5c-151f-4547-a486-12b63f2cfbe9"
   },
   "outputs": [
    {
     "name": "stdout",
     "output_type": "stream",
     "text": [
      "present letter : s\n",
      "present letter : a\n",
      "present letter : r\n",
      "present letter : t\n",
      "present letter : b\n",
      "present letter : r\n",
      "present letter : i\n",
      "present letter : d\n",
      "present letter : e\n"
     ]
    }
   ],
   "source": [
    "# skip the values of the condition and prints remaining values of the string\n",
    "i = 0\n",
    "str1 = \"smartbridge\"\n",
    "\n",
    "while i<len(str1):\n",
    "    if str1[i]== 'm' or str1[i]==\"g\":\n",
    "        \n",
    "        i = i+1\n",
    "        continue\n",
    "    print('present letter :',str1[i])\n",
    "    i+=1"
   ]
  },
  {
   "cell_type": "markdown",
   "id": "d8b53e8a",
   "metadata": {
    "id": "d8b53e8a"
   },
   "source": [
    "#### while with break"
   ]
  },
  {
   "cell_type": "code",
   "execution_count": null,
   "id": "f6530ba8",
   "metadata": {
    "id": "f6530ba8",
    "outputId": "a77d6153-b58d-434f-9b93-756dc1f241fa"
   },
   "outputs": [
    {
     "name": "stdout",
     "output_type": "stream",
     "text": [
      "present letter : s\n",
      "present letter : m\n",
      "present letter : a\n",
      "present letter : r\n",
      "present letter : t\n",
      "present letter : b\n",
      "present letter : r\n",
      "present letter : i\n",
      "present letter : d\n"
     ]
    }
   ],
   "source": [
    "# print all the values of the string, until the break condition not approches,if it approaches it will stop printing\n",
    "i = 0\n",
    "str1 = \"smartbridge\"\n",
    "\n",
    "while i<len(str1):\n",
    "    if str1[i]== 'g':\n",
    "        \n",
    "        i = i+1\n",
    "        break\n",
    "    print('present letter :',str1[i])\n",
    "    i+=1"
   ]
  },
  {
   "cell_type": "markdown",
   "id": "6196095a",
   "metadata": {
    "id": "6196095a"
   },
   "source": [
    "#### while with pass"
   ]
  },
  {
   "cell_type": "code",
   "execution_count": null,
   "id": "05c29fbb",
   "metadata": {
    "id": "05c29fbb",
    "outputId": "17838640-437f-4f07-c9ad-cf11b6564ae1"
   },
   "outputs": [
    {
     "name": "stdout",
     "output_type": "stream",
     "text": [
      "present letter : s\n",
      "present letter : m\n",
      "present letter : a\n",
      "present letter : r\n",
      "present letter : t\n",
      "present letter : b\n",
      "present letter : r\n",
      "present letter : i\n",
      "present letter : d\n",
      "present letter : e\n"
     ]
    }
   ],
   "source": [
    "# pass statement will not execute the element satisfied with the condition and print remaining\n",
    "i = 0\n",
    "str1 = \"smartbridge\"\n",
    "\n",
    "while i<len(str1):\n",
    "    if str1[i]== 'g':\n",
    "        \n",
    "        i = i+1\n",
    "        pass\n",
    "    print('present letter :',str1[i])\n",
    "    i+=1"
   ]
  },
  {
   "cell_type": "markdown",
   "id": "7dfc518e",
   "metadata": {
    "id": "7dfc518e"
   },
   "source": [
    "# Functions"
   ]
  },
  {
   "cell_type": "markdown",
   "id": "8a2bd799",
   "metadata": {
    "id": "8a2bd799"
   },
   "source": [
    "##### function is a group of related statements that performs a specific task. Functions help break our program into smaller and modular chunks. As our program grows larger and larger, functions make it more organized and manageable. Furthermore, it avoids repetition and makes the code reusable."
   ]
  },
  {
   "cell_type": "markdown",
   "id": "4d17e231",
   "metadata": {
    "id": "4d17e231"
   },
   "source": [
    "#### 1.User-defined functions"
   ]
  },
  {
   "cell_type": "code",
   "execution_count": 85,
   "id": "193d9af4",
   "metadata": {
    "id": "193d9af4",
    "outputId": "01ac4fe4-fefe-4845-fc21-a6261f09f7e2"
   },
   "outputs": [
    {
     "data": {
      "text/plain": [
       "30"
      ]
     },
     "execution_count": 85,
     "metadata": {},
     "output_type": "execute_result"
    }
   ],
   "source": [
    "# function, which adds 2 numbers\n",
    "\n",
    "# defining the function with local variable with assigned values\n",
    "def addition():\n",
    "    a = 10\n",
    "    b = 20\n",
    "    c = a+b\n",
    "    return c\n",
    "# calling the function\n",
    "addition()"
   ]
  },
  {
   "cell_type": "code",
   "execution_count": 86,
   "id": "812d78f4",
   "metadata": {
    "id": "812d78f4"
   },
   "outputs": [],
   "source": [
    "# function with arguments\n",
    "def abc(name):\n",
    "    print(\"hello\",name)"
   ]
  },
  {
   "cell_type": "code",
   "execution_count": 87,
   "id": "4b55a146",
   "metadata": {
    "id": "4b55a146",
    "outputId": "7c4b6f00-9942-4b80-d3bf-2abd0e43cf3e"
   },
   "outputs": [
    {
     "name": "stdout",
     "output_type": "stream",
     "text": [
      "hello Moses\n"
     ]
    }
   ],
   "source": [
    "# caalling\n",
    "\n",
    "abc(\"Moses\")"
   ]
  },
  {
   "cell_type": "code",
   "execution_count": 88,
   "id": "2c731887",
   "metadata": {
    "id": "2c731887",
    "outputId": "12d4be60-8ed0-4043-e663-0ebd872c5ef2"
   },
   "outputs": [],
   "source": [
    "# function with mutliple arguments\n",
    "def abc(a,b):\n",
    "    c = a+b\n",
    "    return c\n",
    "# caalling\n",
    "\n"
   ]
  },
  {
   "cell_type": "code",
   "execution_count": 90,
   "id": "f5c965f1",
   "metadata": {},
   "outputs": [
    {
     "data": {
      "text/plain": [
       "10"
      ]
     },
     "execution_count": 90,
     "metadata": {},
     "output_type": "execute_result"
    }
   ],
   "source": [
    "abc(6,4)"
   ]
  },
  {
   "cell_type": "code",
   "execution_count": null,
   "id": "250cdfa8",
   "metadata": {
    "id": "250cdfa8",
    "outputId": "0877ed87-3303-4efd-c0db-21fb56720837"
   },
   "outputs": [
    {
     "name": "stdout",
     "output_type": "stream",
     "text": [
      "Enter the value of a: 22\n",
      "Enter the value of b: 33\n",
      "22\n",
      "33\n"
     ]
    },
    {
     "data": {
      "text/plain": [
       "55"
      ]
     },
     "execution_count": 76,
     "metadata": {},
     "output_type": "execute_result"
    }
   ],
   "source": [
    "# function with mutliple arguments, with input keyword\n",
    "def abc(a,b):\n",
    "    c = a+b\n",
    "    print(a)\n",
    "    print(b)\n",
    "    return c\n",
    "# values from the user\n",
    "\n",
    "a = int(input(\"Enter the value of a: \"))\n",
    "b = int(input(\"Enter the value of b: \"))\n",
    "\n",
    "abc(a,b)"
   ]
  },
  {
   "cell_type": "code",
   "execution_count": 91,
   "id": "864bfcfa",
   "metadata": {
    "id": "864bfcfa",
    "outputId": "ec66487f-5587-46f7-ee34-a485254ff73e"
   },
   "outputs": [],
   "source": [
    "# function with arg and kwargs\n",
    "def details(name,age = 22):\n",
    "    print(\"My name is\", name,\"and my age is\",age)\n",
    "\n"
   ]
  },
  {
   "cell_type": "code",
   "execution_count": 92,
   "id": "2f93b010",
   "metadata": {},
   "outputs": [
    {
     "name": "stdout",
     "output_type": "stream",
     "text": [
      "My name is Moses and my age is 22\n"
     ]
    }
   ],
   "source": [
    "details(name = \"Moses\")"
   ]
  },
  {
   "cell_type": "markdown",
   "id": "003b9586",
   "metadata": {
    "id": "003b9586"
   },
   "source": [
    "#### 2.Built in functions"
   ]
  },
  {
   "cell_type": "code",
   "execution_count": null,
   "id": "b63e212c",
   "metadata": {
    "id": "b63e212c"
   },
   "outputs": [],
   "source": [
    "import builtins"
   ]
  },
  {
   "cell_type": "code",
   "execution_count": null,
   "id": "06535bbe",
   "metadata": {
    "id": "06535bbe",
    "outputId": "5c8b5599-6472-4fb8-cfdd-e82bb1f845b9"
   },
   "outputs": [
    {
     "data": {
      "text/plain": [
       "['ArithmeticError',\n",
       " 'AssertionError',\n",
       " 'AttributeError',\n",
       " 'BaseException',\n",
       " 'BlockingIOError',\n",
       " 'BrokenPipeError',\n",
       " 'BufferError',\n",
       " 'BytesWarning',\n",
       " 'ChildProcessError',\n",
       " 'ConnectionAbortedError',\n",
       " 'ConnectionError',\n",
       " 'ConnectionRefusedError',\n",
       " 'ConnectionResetError',\n",
       " 'DeprecationWarning',\n",
       " 'EOFError',\n",
       " 'Ellipsis',\n",
       " 'EnvironmentError',\n",
       " 'Exception',\n",
       " 'False',\n",
       " 'FileExistsError',\n",
       " 'FileNotFoundError',\n",
       " 'FloatingPointError',\n",
       " 'FutureWarning',\n",
       " 'GeneratorExit',\n",
       " 'IOError',\n",
       " 'ImportError',\n",
       " 'ImportWarning',\n",
       " 'IndentationError',\n",
       " 'IndexError',\n",
       " 'InterruptedError',\n",
       " 'IsADirectoryError',\n",
       " 'KeyError',\n",
       " 'KeyboardInterrupt',\n",
       " 'LookupError',\n",
       " 'MemoryError',\n",
       " 'ModuleNotFoundError',\n",
       " 'NameError',\n",
       " 'None',\n",
       " 'NotADirectoryError',\n",
       " 'NotImplemented',\n",
       " 'NotImplementedError',\n",
       " 'OSError',\n",
       " 'OverflowError',\n",
       " 'PendingDeprecationWarning',\n",
       " 'PermissionError',\n",
       " 'ProcessLookupError',\n",
       " 'RecursionError',\n",
       " 'ReferenceError',\n",
       " 'ResourceWarning',\n",
       " 'RuntimeError',\n",
       " 'RuntimeWarning',\n",
       " 'StopAsyncIteration',\n",
       " 'StopIteration',\n",
       " 'SyntaxError',\n",
       " 'SyntaxWarning',\n",
       " 'SystemError',\n",
       " 'SystemExit',\n",
       " 'TabError',\n",
       " 'TimeoutError',\n",
       " 'True',\n",
       " 'TypeError',\n",
       " 'UnboundLocalError',\n",
       " 'UnicodeDecodeError',\n",
       " 'UnicodeEncodeError',\n",
       " 'UnicodeError',\n",
       " 'UnicodeTranslateError',\n",
       " 'UnicodeWarning',\n",
       " 'UserWarning',\n",
       " 'ValueError',\n",
       " 'Warning',\n",
       " 'WindowsError',\n",
       " 'ZeroDivisionError',\n",
       " '__IPYTHON__',\n",
       " '__build_class__',\n",
       " '__debug__',\n",
       " '__doc__',\n",
       " '__import__',\n",
       " '__loader__',\n",
       " '__name__',\n",
       " '__package__',\n",
       " '__spec__',\n",
       " 'abs',\n",
       " 'all',\n",
       " 'any',\n",
       " 'ascii',\n",
       " 'bin',\n",
       " 'bool',\n",
       " 'breakpoint',\n",
       " 'bytearray',\n",
       " 'bytes',\n",
       " 'callable',\n",
       " 'chr',\n",
       " 'classmethod',\n",
       " 'compile',\n",
       " 'complex',\n",
       " 'copyright',\n",
       " 'credits',\n",
       " 'delattr',\n",
       " 'dict',\n",
       " 'dir',\n",
       " 'display',\n",
       " 'divmod',\n",
       " 'enumerate',\n",
       " 'eval',\n",
       " 'exec',\n",
       " 'execfile',\n",
       " 'filter',\n",
       " 'float',\n",
       " 'format',\n",
       " 'frozenset',\n",
       " 'get_ipython',\n",
       " 'getattr',\n",
       " 'globals',\n",
       " 'hasattr',\n",
       " 'hash',\n",
       " 'help',\n",
       " 'hex',\n",
       " 'id',\n",
       " 'input',\n",
       " 'int',\n",
       " 'isinstance',\n",
       " 'issubclass',\n",
       " 'iter',\n",
       " 'len',\n",
       " 'license',\n",
       " 'list',\n",
       " 'locals',\n",
       " 'map',\n",
       " 'max',\n",
       " 'memoryview',\n",
       " 'min',\n",
       " 'next',\n",
       " 'object',\n",
       " 'oct',\n",
       " 'open',\n",
       " 'ord',\n",
       " 'pow',\n",
       " 'print',\n",
       " 'property',\n",
       " 'range',\n",
       " 'repr',\n",
       " 'reversed',\n",
       " 'round',\n",
       " 'runfile',\n",
       " 'set',\n",
       " 'setattr',\n",
       " 'slice',\n",
       " 'sorted',\n",
       " 'staticmethod',\n",
       " 'str',\n",
       " 'sum',\n",
       " 'super',\n",
       " 'tuple',\n",
       " 'type',\n",
       " 'vars',\n",
       " 'zip']"
      ]
     },
     "execution_count": 79,
     "metadata": {},
     "output_type": "execute_result"
    }
   ],
   "source": [
    "dir(builtins) # list of built in functions in python"
   ]
  },
  {
   "cell_type": "code",
   "execution_count": null,
   "id": "140e150b",
   "metadata": {
    "id": "140e150b"
   },
   "outputs": [],
   "source": [
    "# creating a list and checking the list of built in functions\n",
    "a = [2,3,4,6]"
   ]
  },
  {
   "cell_type": "code",
   "execution_count": null,
   "id": "e6d817ee",
   "metadata": {
    "id": "e6d817ee",
    "outputId": "ed9fa83f-67c4-48dd-f2d9-d974adec34d4"
   },
   "outputs": [
    {
     "data": {
      "text/plain": [
       "['__add__',\n",
       " '__class__',\n",
       " '__contains__',\n",
       " '__delattr__',\n",
       " '__delitem__',\n",
       " '__dir__',\n",
       " '__doc__',\n",
       " '__eq__',\n",
       " '__format__',\n",
       " '__ge__',\n",
       " '__getattribute__',\n",
       " '__getitem__',\n",
       " '__gt__',\n",
       " '__hash__',\n",
       " '__iadd__',\n",
       " '__imul__',\n",
       " '__init__',\n",
       " '__init_subclass__',\n",
       " '__iter__',\n",
       " '__le__',\n",
       " '__len__',\n",
       " '__lt__',\n",
       " '__mul__',\n",
       " '__ne__',\n",
       " '__new__',\n",
       " '__reduce__',\n",
       " '__reduce_ex__',\n",
       " '__repr__',\n",
       " '__reversed__',\n",
       " '__rmul__',\n",
       " '__setattr__',\n",
       " '__setitem__',\n",
       " '__sizeof__',\n",
       " '__str__',\n",
       " '__subclasshook__',\n",
       " 'append',\n",
       " 'clear',\n",
       " 'copy',\n",
       " 'count',\n",
       " 'extend',\n",
       " 'index',\n",
       " 'insert',\n",
       " 'pop',\n",
       " 'remove',\n",
       " 'reverse',\n",
       " 'sort']"
      ]
     },
     "execution_count": 81,
     "metadata": {},
     "output_type": "execute_result"
    }
   ],
   "source": [
    "dir(a) # functions available for list"
   ]
  },
  {
   "cell_type": "markdown",
   "id": "f5b4947f",
   "metadata": {
    "id": "f5b4947f"
   },
   "source": [
    "#### 3.Lambda function"
   ]
  },
  {
   "cell_type": "markdown",
   "id": "12ce7377",
   "metadata": {
    "id": "12ce7377"
   },
   "source": [
    "##### A lambda function is a small anonymous function. A lambda function can take any number of arguments, but can only have one expression."
   ]
  },
  {
   "cell_type": "code",
   "execution_count": null,
   "id": "7e046e65",
   "metadata": {
    "id": "7e046e65",
    "outputId": "6870eb70-f75f-4b76-9ac5-94f9fd1cc62d"
   },
   "outputs": [
    {
     "data": {
      "text/plain": [
       "<function __main__.<lambda>(arguments)>"
      ]
     },
     "execution_count": 82,
     "metadata": {},
     "output_type": "execute_result"
    }
   ],
   "source": [
    "# syntax of lambda function\n",
    "lambda arguments:expression"
   ]
  },
  {
   "cell_type": "code",
   "execution_count": null,
   "id": "b78b93f4",
   "metadata": {
    "id": "b78b93f4",
    "outputId": "f3ca762b-ae99-470b-c9c5-ec338cd965e6"
   },
   "outputs": [
    {
     "data": {
      "text/plain": [
       "40"
      ]
     },
     "execution_count": 83,
     "metadata": {},
     "output_type": "execute_result"
    }
   ],
   "source": [
    "# intializing the function and adding 2 numbers using lambda\n",
    "\n",
    "\n",
    "x = lambda a,b:a+b\n",
    "\n",
    "#calling the function\n",
    "\n",
    "x(10,30)"
   ]
  },
  {
   "cell_type": "code",
   "execution_count": null,
   "id": "ab59d4d4",
   "metadata": {
    "id": "ab59d4d4",
    "outputId": "4d56b982-d367-4c0c-98ab-60f7ec660267"
   },
   "outputs": [
    {
     "data": {
      "text/plain": [
       "'i am  srikanth'"
      ]
     },
     "execution_count": 84,
     "metadata": {},
     "output_type": "execute_result"
    }
   ],
   "source": [
    "# performing lambda function on string variables\n",
    "\n",
    "x = lambda a,b:a+b\n",
    "\n",
    "x(\"i am \",\" srikanth\")\n"
   ]
  },
  {
   "cell_type": "markdown",
   "id": "77249538",
   "metadata": {
    "id": "77249538"
   },
   "source": [
    "###### lambda with filter"
   ]
  },
  {
   "cell_type": "code",
   "execution_count": null,
   "id": "cbb6c7ab",
   "metadata": {
    "id": "cbb6c7ab"
   },
   "outputs": [],
   "source": [
    "# without filter it prints all the values\n",
    "\n",
    "lst = (1,2,3,4,5,6)\n",
    "\n",
    "evennumbers = list((lambda x : (x%2==0),lst))"
   ]
  },
  {
   "cell_type": "code",
   "execution_count": null,
   "id": "e0e4b096",
   "metadata": {
    "id": "e0e4b096",
    "outputId": "99e69c37-2c3d-44b3-c5b7-00c114bf7b72"
   },
   "outputs": [
    {
     "data": {
      "text/plain": [
       "[<function __main__.<lambda>(x)>, (1, 2, 3, 4, 5, 6)]"
      ]
     },
     "execution_count": 96,
     "metadata": {},
     "output_type": "execute_result"
    }
   ],
   "source": [
    "evennumbers"
   ]
  },
  {
   "cell_type": "code",
   "execution_count": null,
   "id": "51679464",
   "metadata": {
    "id": "51679464"
   },
   "outputs": [],
   "source": [
    "# checking and filter the even numbers using lamda and filter\n",
    "\n",
    "lst = (1,2,3,4,5,6)\n",
    "\n",
    "evennumbers = list(filter(lambda x : (x%2==0),lst))"
   ]
  },
  {
   "cell_type": "code",
   "execution_count": null,
   "id": "7b34bf97",
   "metadata": {
    "id": "7b34bf97",
    "outputId": "f0c6766a-d1d8-4938-f6c4-f2a4b23fb163"
   },
   "outputs": [
    {
     "data": {
      "text/plain": [
       "[2, 4, 6]"
      ]
     },
     "execution_count": 92,
     "metadata": {},
     "output_type": "execute_result"
    }
   ],
   "source": [
    "evennumbers"
   ]
  },
  {
   "cell_type": "code",
   "execution_count": null,
   "id": "31ba13b3",
   "metadata": {
    "id": "31ba13b3"
   },
   "outputs": [],
   "source": []
  }
 ],
 "metadata": {
  "colab": {
   "provenance": []
  },
  "kernelspec": {
   "display_name": "Python 3 (ipykernel)",
   "language": "python",
   "name": "python3"
  },
  "language_info": {
   "codemirror_mode": {
    "name": "ipython",
    "version": 3
   },
   "file_extension": ".py",
   "mimetype": "text/x-python",
   "name": "python",
   "nbconvert_exporter": "python",
   "pygments_lexer": "ipython3",
   "version": "3.9.13"
  }
 },
 "nbformat": 4,
 "nbformat_minor": 5
}
