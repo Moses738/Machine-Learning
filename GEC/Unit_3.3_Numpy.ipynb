{
 "cells": [
  {
   "cell_type": "raw",
   "id": "b14a2ebd",
   "metadata": {
    "id": "b14a2ebd"
   },
   "source": [
    "The programming requirements of data science demands a very versatile yet flexible language which is simple to write the code but can handle highly complex mathematical processing. Python is most suited for such requirements as it has already established itself both as a language for general computing as well as scientific computing. More over it is being continuously upgraded in form of new addition to its plethora of libraries aimed at different programming requirements."
   ]
  },
  {
   "cell_type": "markdown",
   "id": "16de5af7",
   "metadata": {
    "id": "16de5af7"
   },
   "source": [
    "### Numpy\n",
    "Numpy is the core library for scientific computing in python. It provides a high- performance multidimentional array object, and tools for working with these arrays."
   ]
  },
  {
   "cell_type": "markdown",
   "id": "67a936ff",
   "metadata": {
    "id": "67a936ff"
   },
   "source": [
    "### Arrays\n",
    "##### A numpy array is agrid of values, all of the same type, and is indexed by a tuple of non-negative integers.\n",
    "The number of dimensions is the rank of the array;the shape of an array is a tuple of integers giving the size of the array along each dimension.\n",
    "\n",
    "* numpy also has a powerful data type to define vectors(1-dimensional array), matrices(2-dimensional array)\n",
    "\n",
    "* With these data types numpy also allows us to do linear algebra -\n",
    "matrix multiplication and matrix-vector solutions"
   ]
  },
  {
   "cell_type": "raw",
   "id": "7bd4ccb7",
   "metadata": {
    "id": "7bd4ccb7"
   },
   "source": [
    "Benifits of Numpy\n",
    "1.Compact data storage\n",
    "\n",
    "2.High-speed processing of arrays,and\n",
    "\n",
    "3.Data compatibilty with lots of other libraries"
   ]
  },
  {
   "cell_type": "code",
   "execution_count": 1,
   "id": "e119aca3",
   "metadata": {
    "id": "e119aca3",
    "outputId": "e120ea0f-bd3b-476c-e7fd-185d218b3182"
   },
   "outputs": [
    {
     "name": "stdout",
     "output_type": "stream",
     "text": [
      "Requirement already satisfied: numpy in c:\\users\\user\\anaconda3\\lib\\site-packages (1.21.5)\n"
     ]
    }
   ],
   "source": [
    "#Installation code\n",
    "!pip install numpy"
   ]
  },
  {
   "cell_type": "code",
   "execution_count": 4,
   "id": "ebbe8327",
   "metadata": {
    "id": "ebbe8327"
   },
   "outputs": [],
   "source": [
    "#Importing numpy library\n",
    "import numpy as np"
   ]
  },
  {
   "cell_type": "code",
   "execution_count": 5,
   "id": "5d3d1989",
   "metadata": {},
   "outputs": [],
   "source": [
    "list_1 = [1,2,3,4,5]"
   ]
  },
  {
   "cell_type": "code",
   "execution_count": 11,
   "id": "019e09b0",
   "metadata": {},
   "outputs": [],
   "source": [
    "arr= np.array(list_1)"
   ]
  },
  {
   "cell_type": "code",
   "execution_count": 12,
   "id": "b7662555",
   "metadata": {},
   "outputs": [
    {
     "data": {
      "text/plain": [
       "numpy.ndarray"
      ]
     },
     "execution_count": 12,
     "metadata": {},
     "output_type": "execute_result"
    }
   ],
   "source": [
    "type(arr)"
   ]
  },
  {
   "cell_type": "code",
   "execution_count": 13,
   "id": "78b91176",
   "metadata": {},
   "outputs": [
    {
     "data": {
      "text/plain": [
       "1"
      ]
     },
     "execution_count": 13,
     "metadata": {},
     "output_type": "execute_result"
    }
   ],
   "source": [
    "arr.min()"
   ]
  },
  {
   "cell_type": "code",
   "execution_count": 14,
   "id": "0f57b416",
   "metadata": {},
   "outputs": [
    {
     "data": {
      "text/plain": [
       "5"
      ]
     },
     "execution_count": 14,
     "metadata": {},
     "output_type": "execute_result"
    }
   ],
   "source": [
    "arr.max()"
   ]
  },
  {
   "cell_type": "code",
   "execution_count": 7,
   "id": "62236b7d",
   "metadata": {
    "id": "62236b7d",
    "outputId": "c4f93a75-d21d-4a46-b204-7283023ee8db"
   },
   "outputs": [
    {
     "name": "stdout",
     "output_type": "stream",
     "text": [
      "<class 'numpy.ndarray'>\n"
     ]
    }
   ],
   "source": [
    "# Creating an array using list\n",
    "list_1 = [1,2,3,4,5]\n",
    "arr = np.array(list_1)\n",
    "print(type(arr))"
   ]
  },
  {
   "cell_type": "code",
   "execution_count": 8,
   "id": "03bf79c9",
   "metadata": {
    "id": "03bf79c9",
    "outputId": "38d12481-062f-4c2b-fd10-d8a3345d94a6"
   },
   "outputs": [
    {
     "data": {
      "text/plain": [
       "(5,)"
      ]
     },
     "execution_count": 8,
     "metadata": {},
     "output_type": "execute_result"
    }
   ],
   "source": [
    "arr.shape   # shape is attribue"
   ]
  },
  {
   "cell_type": "code",
   "execution_count": 9,
   "id": "fb3c7deb",
   "metadata": {
    "id": "fb3c7deb",
    "outputId": "fb1b14bb-4635-4874-e60c-01c352c03510"
   },
   "outputs": [
    {
     "data": {
      "text/plain": [
       "1"
      ]
     },
     "execution_count": 9,
     "metadata": {},
     "output_type": "execute_result"
    }
   ],
   "source": [
    "arr.min()   # checking the minimum value of the array using min() function"
   ]
  },
  {
   "cell_type": "code",
   "execution_count": 10,
   "id": "d3a06389",
   "metadata": {
    "id": "d3a06389",
    "outputId": "bab2fa6f-27ee-4b30-962e-df5949087476"
   },
   "outputs": [
    {
     "data": {
      "text/plain": [
       "5"
      ]
     },
     "execution_count": 10,
     "metadata": {},
     "output_type": "execute_result"
    }
   ],
   "source": [
    "arr.max()  # checking the maximun value of the array using max() function"
   ]
  },
  {
   "cell_type": "code",
   "execution_count": 20,
   "id": "5dfc7b6f",
   "metadata": {},
   "outputs": [
    {
     "data": {
      "text/plain": [
       "1"
      ]
     },
     "execution_count": 20,
     "metadata": {},
     "output_type": "execute_result"
    }
   ],
   "source": [
    "arr.ndim"
   ]
  },
  {
   "cell_type": "code",
   "execution_count": 19,
   "id": "0f412550",
   "metadata": {
    "id": "0f412550",
    "outputId": "90346def-68b5-48e5-94b4-187906204963"
   },
   "outputs": [
    {
     "data": {
      "text/plain": [
       "1"
      ]
     },
     "execution_count": 19,
     "metadata": {},
     "output_type": "execute_result"
    }
   ],
   "source": [
    "#accessing array\n",
    "arr[0]"
   ]
  },
  {
   "cell_type": "code",
   "execution_count": 30,
   "id": "6432475c",
   "metadata": {},
   "outputs": [
    {
     "data": {
      "text/plain": [
       "[[1, 2, 3, 4]]"
      ]
     },
     "execution_count": 30,
     "metadata": {},
     "output_type": "execute_result"
    }
   ],
   "source": [
    "lst2=[[3,4,5,6],[1,2,3,4]]\n",
    "lst2[1:3]"
   ]
  },
  {
   "cell_type": "code",
   "execution_count": 25,
   "id": "1bd2b010",
   "metadata": {},
   "outputs": [],
   "source": [
    "twod=np.array(lst2)"
   ]
  },
  {
   "cell_type": "code",
   "execution_count": 26,
   "id": "fd58441b",
   "metadata": {},
   "outputs": [
    {
     "data": {
      "text/plain": [
       "array([[3, 4, 5, 6],\n",
       "       [1, 2, 3, 4]])"
      ]
     },
     "execution_count": 26,
     "metadata": {},
     "output_type": "execute_result"
    }
   ],
   "source": [
    "twod"
   ]
  },
  {
   "cell_type": "code",
   "execution_count": 24,
   "id": "38edef98",
   "metadata": {},
   "outputs": [
    {
     "data": {
      "text/plain": [
       "2"
      ]
     },
     "execution_count": 24,
     "metadata": {},
     "output_type": "execute_result"
    }
   ],
   "source": [
    "twod.ndim"
   ]
  },
  {
   "cell_type": "code",
   "execution_count": null,
   "id": "a7bcdf95",
   "metadata": {
    "id": "a7bcdf95"
   },
   "outputs": [],
   "source": [
    "#two dimensional array\n",
    "list_2 = [[1,2,3],[4,5,6]]\n",
    "arr2d = np.array(list_2)"
   ]
  },
  {
   "cell_type": "code",
   "execution_count": null,
   "id": "dcb6e016",
   "metadata": {
    "id": "dcb6e016",
    "outputId": "24c3d926-b05b-47cf-93e1-bf093a3dc99d"
   },
   "outputs": [
    {
     "data": {
      "text/plain": [
       "numpy.ndarray"
      ]
     },
     "execution_count": 10,
     "metadata": {},
     "output_type": "execute_result"
    }
   ],
   "source": [
    "type(arr2d)  # checking the type"
   ]
  },
  {
   "cell_type": "code",
   "execution_count": null,
   "id": "34428d21",
   "metadata": {
    "id": "34428d21",
    "outputId": "c73e8e1d-fd26-4d13-87f8-5817e6e6a74c"
   },
   "outputs": [
    {
     "data": {
      "text/plain": [
       "(2, 3)"
      ]
     },
     "execution_count": 11,
     "metadata": {},
     "output_type": "execute_result"
    }
   ],
   "source": [
    "arr2d.shape"
   ]
  },
  {
   "cell_type": "code",
   "execution_count": null,
   "id": "fc16aff1",
   "metadata": {
    "id": "fc16aff1",
    "outputId": "46fc7de7-de8b-49b4-ccf8-f6249b992747"
   },
   "outputs": [
    {
     "data": {
      "text/plain": [
       "array([[1, 2, 3],\n",
       "       [4, 5, 6]])"
      ]
     },
     "execution_count": 12,
     "metadata": {},
     "output_type": "execute_result"
    }
   ],
   "source": [
    "arr2d"
   ]
  },
  {
   "cell_type": "code",
   "execution_count": null,
   "id": "3d1e6ae1",
   "metadata": {
    "id": "3d1e6ae1",
    "outputId": "dcc34a16-78bf-44df-a80c-69a7f0515843"
   },
   "outputs": [
    {
     "data": {
      "text/plain": [
       "2"
      ]
     },
     "execution_count": 13,
     "metadata": {},
     "output_type": "execute_result"
    }
   ],
   "source": [
    "arr2d.ndim  # checking the dimension of the array"
   ]
  },
  {
   "cell_type": "code",
   "execution_count": null,
   "id": "b21d4d7d",
   "metadata": {
    "id": "b21d4d7d",
    "outputId": "bb5a81df-ed82-4bd0-c4bb-91ba95e3d51d"
   },
   "outputs": [
    {
     "data": {
      "text/plain": [
       "1"
      ]
     },
     "execution_count": 14,
     "metadata": {},
     "output_type": "execute_result"
    }
   ],
   "source": [
    "arr.ndim"
   ]
  },
  {
   "cell_type": "code",
   "execution_count": 27,
   "id": "0656b6d9",
   "metadata": {
    "id": "0656b6d9"
   },
   "outputs": [],
   "source": [
    "list_3 = [[1,2,3],[4,5,6],[7,8,9]]\n",
    "arr_3 = np.array(list_3)"
   ]
  },
  {
   "cell_type": "code",
   "execution_count": 28,
   "id": "3acac999",
   "metadata": {
    "id": "3acac999",
    "outputId": "e5c7fabd-f142-4326-bf70-7a5a9b5a89f0"
   },
   "outputs": [
    {
     "data": {
      "text/plain": [
       "array([[1, 2, 3],\n",
       "       [4, 5, 6],\n",
       "       [7, 8, 9]])"
      ]
     },
     "execution_count": 28,
     "metadata": {},
     "output_type": "execute_result"
    }
   ],
   "source": [
    "arr_3"
   ]
  },
  {
   "cell_type": "code",
   "execution_count": 29,
   "id": "a927bfc0",
   "metadata": {
    "id": "a927bfc0",
    "outputId": "212fbe4a-0599-4e21-bca2-9f27da0ae575"
   },
   "outputs": [
    {
     "data": {
      "text/plain": [
       "(3, 3)"
      ]
     },
     "execution_count": 29,
     "metadata": {},
     "output_type": "execute_result"
    }
   ],
   "source": [
    "arr_3.shape"
   ]
  },
  {
   "cell_type": "code",
   "execution_count": null,
   "id": "fe332069",
   "metadata": {},
   "outputs": [],
   "source": []
  },
  {
   "cell_type": "markdown",
   "id": "143c2b5d",
   "metadata": {
    "id": "143c2b5d"
   },
   "source": [
    "#### Indexing and Slicing"
   ]
  },
  {
   "cell_type": "code",
   "execution_count": 31,
   "id": "6175b33d",
   "metadata": {
    "id": "6175b33d",
    "outputId": "45e55b64-747e-44f3-ff8c-4a99315b2dcf"
   },
   "outputs": [
    {
     "data": {
      "text/plain": [
       "array([[ 1,  2,  3,  4],\n",
       "       [ 5,  6,  7,  8],\n",
       "       [ 9, 10, 11, 12],\n",
       "       [13, 14, 15, 16]])"
      ]
     },
     "execution_count": 31,
     "metadata": {},
     "output_type": "execute_result"
    }
   ],
   "source": [
    "list_4 = [[1,2,3,4],[5,6,7,8],[9,10,11,12],[13,14,15,16]]\n",
    "arr_4 = np.array(list_4)\n",
    "arr_4"
   ]
  },
  {
   "cell_type": "code",
   "execution_count": 34,
   "id": "60b026d6",
   "metadata": {
    "id": "60b026d6",
    "outputId": "6df86140-9dfe-41d2-eb9f-36ae6a4b4169"
   },
   "outputs": [
    {
     "data": {
      "text/plain": [
       "array([[ 5,  6,  7,  8],\n",
       "       [ 9, 10, 11, 12],\n",
       "       [13, 14, 15, 16]])"
      ]
     },
     "execution_count": 34,
     "metadata": {},
     "output_type": "execute_result"
    }
   ],
   "source": [
    "arr_4[1:4] # slicing"
   ]
  },
  {
   "cell_type": "code",
   "execution_count": 36,
   "id": "9e32f7ff",
   "metadata": {},
   "outputs": [
    {
     "data": {
      "text/plain": [
       "array([[ 1,  2,  3,  4],\n",
       "       [ 5,  6,  7,  8],\n",
       "       [ 9, 10, 11, 12],\n",
       "       [13, 14, 15, 16]])"
      ]
     },
     "execution_count": 36,
     "metadata": {},
     "output_type": "execute_result"
    }
   ],
   "source": [
    "arr_4"
   ]
  },
  {
   "cell_type": "code",
   "execution_count": 45,
   "id": "b0e06db8",
   "metadata": {},
   "outputs": [
    {
     "data": {
      "text/plain": [
       "6"
      ]
     },
     "execution_count": 45,
     "metadata": {},
     "output_type": "execute_result"
    }
   ],
   "source": [
    "arr_4[1,1]"
   ]
  },
  {
   "cell_type": "code",
   "execution_count": 46,
   "id": "e2a30bff",
   "metadata": {
    "id": "e2a30bff",
    "outputId": "a5774f95-8a49-4427-937d-c07ab042b3a7"
   },
   "outputs": [
    {
     "data": {
      "text/plain": [
       "7"
      ]
     },
     "execution_count": 46,
     "metadata": {},
     "output_type": "execute_result"
    }
   ],
   "source": [
    "arr_4[1,2]"
   ]
  },
  {
   "cell_type": "code",
   "execution_count": 7,
   "id": "9b8d7f84",
   "metadata": {
    "id": "9b8d7f84",
    "outputId": "20721a51-0cec-44e2-8053-19de1d489cdb"
   },
   "outputs": [
    {
     "data": {
      "text/plain": [
       "10"
      ]
     },
     "execution_count": 7,
     "metadata": {},
     "output_type": "execute_result"
    }
   ],
   "source": [
    "arr_4[2,1]"
   ]
  },
  {
   "cell_type": "code",
   "execution_count": 14,
   "id": "672864d6",
   "metadata": {},
   "outputs": [
    {
     "data": {
      "text/plain": [
       "array([[ 1,  2,  3,  4],\n",
       "       [ 5,  6,  7,  8],\n",
       "       [ 9, 10, 11, 12],\n",
       "       [13, 14, 15, 16]])"
      ]
     },
     "execution_count": 14,
     "metadata": {},
     "output_type": "execute_result"
    }
   ],
   "source": [
    "arr_4"
   ]
  },
  {
   "cell_type": "code",
   "execution_count": 48,
   "id": "d576961e",
   "metadata": {},
   "outputs": [
    {
     "data": {
      "text/plain": [
       "array([[1],\n",
       "       [5]])"
      ]
     },
     "execution_count": 48,
     "metadata": {},
     "output_type": "execute_result"
    }
   ],
   "source": [
    "arr_4[0:2,0:1]"
   ]
  },
  {
   "cell_type": "code",
   "execution_count": 49,
   "id": "47ed9853",
   "metadata": {
    "id": "47ed9853",
    "outputId": "eb98ebf0-12a6-4afd-cd3b-9cbd047b3722"
   },
   "outputs": [
    {
     "data": {
      "text/plain": [
       "array([[11, 12],\n",
       "       [15, 16]])"
      ]
     },
     "execution_count": 49,
     "metadata": {},
     "output_type": "execute_result"
    }
   ],
   "source": [
    "arr_4[2:4,2:4]"
   ]
  },
  {
   "cell_type": "code",
   "execution_count": null,
   "id": "9ee061db",
   "metadata": {
    "id": "9ee061db",
    "outputId": "7a1ce1d2-4eca-4301-89ec-bb43f51e4982"
   },
   "outputs": [
    {
     "data": {
      "text/plain": [
       "array([[ 2,  3,  4],\n",
       "       [ 6,  7,  8],\n",
       "       [10, 11, 12]])"
      ]
     },
     "execution_count": 23,
     "metadata": {},
     "output_type": "execute_result"
    }
   ],
   "source": [
    "arr_4[0:3,1:4]"
   ]
  },
  {
   "cell_type": "code",
   "execution_count": 53,
   "id": "aff58202",
   "metadata": {},
   "outputs": [
    {
     "data": {
      "text/plain": [
       "array([[ 3,  3,  3,  3],\n",
       "       [ 3,  3,  3,  3],\n",
       "       [ 9, 10, 11, 12],\n",
       "       [13, 14, 15, 16]])"
      ]
     },
     "execution_count": 53,
     "metadata": {},
     "output_type": "execute_result"
    }
   ],
   "source": [
    "arr_4[0:2]=3\n",
    "arr_4"
   ]
  },
  {
   "cell_type": "code",
   "execution_count": 52,
   "id": "5bebe779",
   "metadata": {
    "id": "5bebe779",
    "outputId": "3dc637fb-204b-4c4d-c598-a6365133d96c"
   },
   "outputs": [
    {
     "data": {
      "text/plain": [
       "array([[ 2,  2,  2,  2],\n",
       "       [ 2,  2,  2,  2],\n",
       "       [ 9, 10, 11, 12],\n",
       "       [13, 14, 15, 16]])"
      ]
     },
     "execution_count": 52,
     "metadata": {},
     "output_type": "execute_result"
    }
   ],
   "source": [
    "# Broadcasting similar elements\n",
    "arr_4[0:2] = 2\n",
    "arr_4"
   ]
  },
  {
   "cell_type": "markdown",
   "id": "14c7196d",
   "metadata": {
    "id": "14c7196d"
   },
   "source": [
    "### Functions used to creat Numpy arrays"
   ]
  },
  {
   "cell_type": "raw",
   "id": "8f48f6d7",
   "metadata": {
    "id": "8f48f6d7"
   },
   "source": [
    "1.Zeros\n",
    "2.Ones\n",
    "3.eye\n",
    "4.random.rand\n",
    "5.rand.randint\n",
    "6.linspace\n",
    "7.arrange\n",
    "8.concatenate\n",
    "10.delete\n",
    "11.ravel\n",
    "12.flatten"
   ]
  },
  {
   "cell_type": "code",
   "execution_count": 58,
   "id": "0b1f1695",
   "metadata": {
    "id": "0b1f1695",
    "outputId": "f261ed34-13b1-462e-ec4f-49c56c3d788e"
   },
   "outputs": [
    {
     "data": {
      "text/plain": [
       "array([0., 0., 0., 0., 0., 0.])"
      ]
     },
     "execution_count": 58,
     "metadata": {},
     "output_type": "execute_result"
    }
   ],
   "source": [
    "# Zeros\n",
    "zeros = np.zeros(6)\n",
    "zeros"
   ]
  },
  {
   "cell_type": "code",
   "execution_count": 60,
   "id": "9b9d3219",
   "metadata": {},
   "outputs": [
    {
     "data": {
      "text/plain": [
       "array([[0., 0.],\n",
       "       [0., 0.]])"
      ]
     },
     "execution_count": 60,
     "metadata": {},
     "output_type": "execute_result"
    }
   ],
   "source": [
    "np.zeros((2,2))"
   ]
  },
  {
   "cell_type": "code",
   "execution_count": null,
   "id": "f7bf8ee5",
   "metadata": {
    "id": "f7bf8ee5",
    "outputId": "feb37ca0-a9bf-4e6a-ada8-4baaeaa52843"
   },
   "outputs": [
    {
     "data": {
      "text/plain": [
       "array([[0., 0., 0.],\n",
       "       [0., 0., 0.],\n",
       "       [0., 0., 0.]])"
      ]
     },
     "execution_count": 26,
     "metadata": {},
     "output_type": "execute_result"
    }
   ],
   "source": [
    "zeros = np.zeros((3,3))\n",
    "zeros"
   ]
  },
  {
   "cell_type": "code",
   "execution_count": 63,
   "id": "9e584748",
   "metadata": {},
   "outputs": [
    {
     "data": {
      "text/plain": [
       "array([[1., 1., 1.],\n",
       "       [1., 1., 1.],\n",
       "       [1., 1., 1.]])"
      ]
     },
     "execution_count": 63,
     "metadata": {},
     "output_type": "execute_result"
    }
   ],
   "source": [
    "np.ones((3,3))"
   ]
  },
  {
   "cell_type": "code",
   "execution_count": 61,
   "id": "2c7c87bf",
   "metadata": {
    "id": "2c7c87bf",
    "outputId": "b82eb12c-9bdc-453e-bd43-decea1c5060c"
   },
   "outputs": [
    {
     "data": {
      "text/plain": [
       "array([[1., 0., 0., 0., 0.],\n",
       "       [0., 1., 0., 0., 0.],\n",
       "       [0., 0., 1., 0., 0.],\n",
       "       [0., 0., 0., 1., 0.],\n",
       "       [0., 0., 0., 0., 1.]])"
      ]
     },
     "execution_count": 61,
     "metadata": {},
     "output_type": "execute_result"
    }
   ],
   "source": [
    "# eye\n",
    "eye = np.eye(5,5)  # Identity matrix\n",
    "eye"
   ]
  },
  {
   "cell_type": "code",
   "execution_count": 64,
   "id": "1b33b43e",
   "metadata": {},
   "outputs": [
    {
     "name": "stdout",
     "output_type": "stream",
     "text": [
      "0\n",
      "1\n",
      "2\n",
      "3\n",
      "4\n",
      "5\n",
      "6\n",
      "7\n",
      "8\n",
      "9\n"
     ]
    }
   ],
   "source": [
    "for i in range(10):\n",
    "    print(i)"
   ]
  },
  {
   "cell_type": "code",
   "execution_count": 65,
   "id": "fc9f55f9",
   "metadata": {
    "id": "fc9f55f9",
    "outputId": "96ea5d2d-f247-4048-9bf2-3b11875e01ca"
   },
   "outputs": [
    {
     "data": {
      "text/plain": [
       "array([0, 1, 2, 3, 4, 5, 6, 7, 8, 9])"
      ]
     },
     "execution_count": 65,
     "metadata": {},
     "output_type": "execute_result"
    }
   ],
   "source": [
    "# arange\n",
    "np.arange(10)"
   ]
  },
  {
   "cell_type": "code",
   "execution_count": 66,
   "id": "9a8b5824",
   "metadata": {
    "id": "9a8b5824",
    "outputId": "2bc6bca3-51c7-455e-bcf4-0f76cf56ed30"
   },
   "outputs": [
    {
     "data": {
      "text/plain": [
       "array([10, 12, 14, 16, 18])"
      ]
     },
     "execution_count": 66,
     "metadata": {},
     "output_type": "execute_result"
    }
   ],
   "source": [
    "np.arange(10,20,2) #starting,ending,stepsize"
   ]
  },
  {
   "cell_type": "code",
   "execution_count": 68,
   "id": "fe028a44",
   "metadata": {},
   "outputs": [
    {
     "data": {
      "text/plain": [
       "array([ 5.        ,  5.05050505,  5.1010101 ,  5.15151515,  5.2020202 ,\n",
       "        5.25252525,  5.3030303 ,  5.35353535,  5.4040404 ,  5.45454545,\n",
       "        5.50505051,  5.55555556,  5.60606061,  5.65656566,  5.70707071,\n",
       "        5.75757576,  5.80808081,  5.85858586,  5.90909091,  5.95959596,\n",
       "        6.01010101,  6.06060606,  6.11111111,  6.16161616,  6.21212121,\n",
       "        6.26262626,  6.31313131,  6.36363636,  6.41414141,  6.46464646,\n",
       "        6.51515152,  6.56565657,  6.61616162,  6.66666667,  6.71717172,\n",
       "        6.76767677,  6.81818182,  6.86868687,  6.91919192,  6.96969697,\n",
       "        7.02020202,  7.07070707,  7.12121212,  7.17171717,  7.22222222,\n",
       "        7.27272727,  7.32323232,  7.37373737,  7.42424242,  7.47474747,\n",
       "        7.52525253,  7.57575758,  7.62626263,  7.67676768,  7.72727273,\n",
       "        7.77777778,  7.82828283,  7.87878788,  7.92929293,  7.97979798,\n",
       "        8.03030303,  8.08080808,  8.13131313,  8.18181818,  8.23232323,\n",
       "        8.28282828,  8.33333333,  8.38383838,  8.43434343,  8.48484848,\n",
       "        8.53535354,  8.58585859,  8.63636364,  8.68686869,  8.73737374,\n",
       "        8.78787879,  8.83838384,  8.88888889,  8.93939394,  8.98989899,\n",
       "        9.04040404,  9.09090909,  9.14141414,  9.19191919,  9.24242424,\n",
       "        9.29292929,  9.34343434,  9.39393939,  9.44444444,  9.49494949,\n",
       "        9.54545455,  9.5959596 ,  9.64646465,  9.6969697 ,  9.74747475,\n",
       "        9.7979798 ,  9.84848485,  9.8989899 ,  9.94949495, 10.        ])"
      ]
     },
     "execution_count": 68,
     "metadata": {},
     "output_type": "execute_result"
    }
   ],
   "source": [
    "np.linspace(5,10,100)"
   ]
  },
  {
   "cell_type": "code",
   "execution_count": null,
   "id": "d6a76423",
   "metadata": {
    "id": "d6a76423",
    "outputId": "36d960d8-c36f-4ff3-cba6-9d377e929dd4"
   },
   "outputs": [
    {
     "data": {
      "text/plain": [
       "array([ 0.        ,  0.52631579,  1.05263158,  1.57894737,  2.10526316,\n",
       "        2.63157895,  3.15789474,  3.68421053,  4.21052632,  4.73684211,\n",
       "        5.26315789,  5.78947368,  6.31578947,  6.84210526,  7.36842105,\n",
       "        7.89473684,  8.42105263,  8.94736842,  9.47368421, 10.        ])"
      ]
     },
     "execution_count": 30,
     "metadata": {},
     "output_type": "execute_result"
    }
   ],
   "source": [
    "# linspace\n",
    "linspace = np.linspace(0,10,20)  #linearly space elements , \n",
    "            #20 is the number how many u want to linearly space the values\n",
    "linspace"
   ]
  },
  {
   "cell_type": "code",
   "execution_count": 72,
   "id": "b93f928c",
   "metadata": {
    "id": "b93f928c",
    "outputId": "6cdc8968-76ef-4e27-af5d-19ee630bffe6"
   },
   "outputs": [
    {
     "data": {
      "text/plain": [
       "array([0.92984003, 0.27984405, 0.32383358, 0.44849345, 0.57203944])"
      ]
     },
     "execution_count": 72,
     "metadata": {},
     "output_type": "execute_result"
    }
   ],
   "source": [
    "# random.rand\n",
    "np.random.rand(5)# (0,1 -->numbers will be within 0 & 1)"
   ]
  },
  {
   "cell_type": "code",
   "execution_count": 74,
   "id": "9cf9b66d",
   "metadata": {
    "id": "9cf9b66d",
    "outputId": "77a056e9-640e-40ff-812d-e1dfd21f99cd"
   },
   "outputs": [
    {
     "data": {
      "text/plain": [
       "array([[0.81539311, 0.13415465, 0.01726861, 0.54321623],\n",
       "       [0.93252332, 0.2113118 , 0.75753834, 0.56451397],\n",
       "       [0.11552746, 0.25556354, 0.11012877, 0.54836121],\n",
       "       [0.41226216, 0.66957174, 0.49718549, 0.50345197]])"
      ]
     },
     "execution_count": 74,
     "metadata": {},
     "output_type": "execute_result"
    }
   ],
   "source": [
    "np.random.rand(4,4) # 3 rows and 5 columns"
   ]
  },
  {
   "cell_type": "code",
   "execution_count": 77,
   "id": "2fa791dd",
   "metadata": {
    "id": "2fa791dd",
    "outputId": "5ace0312-7da5-4408-9251-fd7917466cc1"
   },
   "outputs": [
    {
     "data": {
      "text/plain": [
       "79"
      ]
     },
     "execution_count": 77,
     "metadata": {},
     "output_type": "execute_result"
    }
   ],
   "source": [
    "# randint\n",
    "np.random.randint(1,100)"
   ]
  },
  {
   "cell_type": "code",
   "execution_count": 78,
   "id": "661391e3",
   "metadata": {
    "id": "661391e3",
    "outputId": "860cabcb-c8e1-43c7-88db-0828b9fbbba7"
   },
   "outputs": [
    {
     "data": {
      "text/plain": [
       "95"
      ]
     },
     "execution_count": 78,
     "metadata": {},
     "output_type": "execute_result"
    }
   ],
   "source": [
    "np.random.randint(1,100)"
   ]
  },
  {
   "cell_type": "code",
   "execution_count": 79,
   "id": "0d490975",
   "metadata": {
    "id": "0d490975",
    "outputId": "94192925-7627-4a02-a7c1-239b9fe73765"
   },
   "outputs": [
    {
     "data": {
      "text/plain": [
       "array([70, 52, 37, 23, 61])"
      ]
     },
     "execution_count": 79,
     "metadata": {},
     "output_type": "execute_result"
    }
   ],
   "source": [
    "np.random.randint(1,100,5) # 5 specifies number of elements u want to fetch"
   ]
  },
  {
   "cell_type": "code",
   "execution_count": 30,
   "id": "ed2a3e56",
   "metadata": {},
   "outputs": [
    {
     "data": {
      "text/plain": [
       "array([[ 1,  2,  3,  4],\n",
       "       [ 5,  6,  7,  8],\n",
       "       [ 9, 10, 11, 12],\n",
       "       [13, 14, 15, 16]])"
      ]
     },
     "execution_count": 30,
     "metadata": {},
     "output_type": "execute_result"
    }
   ],
   "source": [
    "arr = np.arange(1,17)\n",
    "arr.reshape(4,4)"
   ]
  },
  {
   "cell_type": "code",
   "execution_count": 87,
   "id": "bea8a192",
   "metadata": {},
   "outputs": [
    {
     "data": {
      "text/plain": [
       "array([[1, 2, 3],\n",
       "       [4, 5, 6],\n",
       "       [7, 8, 9]])"
      ]
     },
     "execution_count": 87,
     "metadata": {},
     "output_type": "execute_result"
    }
   ],
   "source": [
    "a=np.arange(1,10)\n",
    "a.reshape(3,3)"
   ]
  },
  {
   "cell_type": "code",
   "execution_count": 32,
   "id": "a4e668eb",
   "metadata": {
    "id": "a4e668eb",
    "outputId": "ff31e99a-eca9-40a8-ef14-921f85e00bd7"
   },
   "outputs": [
    {
     "data": {
      "text/plain": [
       "array([[ 1,  2,  3,  4],\n",
       "       [ 5,  6,  7,  8],\n",
       "       [ 9, 10, 11, 12],\n",
       "       [13, 14, 15, 16]])"
      ]
     },
     "execution_count": 32,
     "metadata": {},
     "output_type": "execute_result"
    }
   ],
   "source": [
    "# reshape -- Convert 1d  to 2d\n",
    "arr = np.arange(1,17)\n",
    "arr2 = arr.reshape(4,4)\n",
    "arr2"
   ]
  },
  {
   "cell_type": "code",
   "execution_count": 93,
   "id": "31bc6e12",
   "metadata": {
    "id": "31bc6e12",
    "outputId": "76104854-7295-45b3-acb9-62d5696897b1"
   },
   "outputs": [
    {
     "data": {
      "text/plain": [
       "array([[1, 2, 3],\n",
       "       [4, 5, 6],\n",
       "       [7, 8, 9]])"
      ]
     },
     "execution_count": 93,
     "metadata": {},
     "output_type": "execute_result"
    }
   ],
   "source": [
    "array1 = np.arange(1,10)\n",
    "array2 = array1.reshape(3,3)\n",
    "array2"
   ]
  },
  {
   "cell_type": "code",
   "execution_count": 90,
   "id": "5b933dfe",
   "metadata": {},
   "outputs": [],
   "source": [
    "w=np.linspace(0,7,9).reshape(3,3)"
   ]
  },
  {
   "cell_type": "code",
   "execution_count": 91,
   "id": "c5607fd7",
   "metadata": {
    "id": "c5607fd7",
    "outputId": "f456b7f2-d8f4-4967-ebdd-16631a7e7182"
   },
   "outputs": [
    {
     "data": {
      "text/plain": [
       "array([[0.   , 0.875, 1.75 ],\n",
       "       [2.625, 3.5  , 4.375],\n",
       "       [5.25 , 6.125, 7.   ]])"
      ]
     },
     "execution_count": 91,
     "metadata": {},
     "output_type": "execute_result"
    }
   ],
   "source": [
    "\n",
    "ar1 = np.linspace(0,7,9).reshape(3,3)\n",
    "ar1"
   ]
  },
  {
   "cell_type": "code",
   "execution_count": 38,
   "id": "b1a3abfc",
   "metadata": {
    "id": "b1a3abfc",
    "outputId": "7f7f28a8-01a3-4ea2-f5ab-7b17a1c90d57"
   },
   "outputs": [
    {
     "data": {
      "text/plain": [
       "'HelloWorld'"
      ]
     },
     "execution_count": 38,
     "metadata": {},
     "output_type": "execute_result"
    }
   ],
   "source": [
    "a = \"Hello\"\n",
    "b = \"World\"\n",
    "a+b"
   ]
  },
  {
   "cell_type": "code",
   "execution_count": 94,
   "id": "59096d2a",
   "metadata": {},
   "outputs": [
    {
     "data": {
      "text/plain": [
       "array([[1, 2, 3],\n",
       "       [4, 5, 6],\n",
       "       [7, 8, 9]])"
      ]
     },
     "execution_count": 94,
     "metadata": {},
     "output_type": "execute_result"
    }
   ],
   "source": [
    "array2"
   ]
  },
  {
   "cell_type": "code",
   "execution_count": 95,
   "id": "0dd50fc9",
   "metadata": {},
   "outputs": [
    {
     "data": {
      "text/plain": [
       "array([[0.   , 0.875, 1.75 ],\n",
       "       [2.625, 3.5  , 4.375],\n",
       "       [5.25 , 6.125, 7.   ]])"
      ]
     },
     "execution_count": 95,
     "metadata": {},
     "output_type": "execute_result"
    }
   ],
   "source": [
    "ar1"
   ]
  },
  {
   "cell_type": "code",
   "execution_count": 98,
   "id": "bbd285e0",
   "metadata": {},
   "outputs": [
    {
     "data": {
      "text/plain": [
       "array([[0.   , 0.875, 1.75 , 1.   , 2.   , 3.   ],\n",
       "       [2.625, 3.5  , 4.375, 4.   , 5.   , 6.   ],\n",
       "       [5.25 , 6.125, 7.   , 7.   , 8.   , 9.   ]])"
      ]
     },
     "execution_count": 98,
     "metadata": {},
     "output_type": "execute_result"
    }
   ],
   "source": [
    "np.concatenate((ar1,array2),axis=1)"
   ]
  },
  {
   "cell_type": "code",
   "execution_count": 99,
   "id": "780e285c",
   "metadata": {
    "id": "780e285c",
    "outputId": "c1e392f8-ed22-40bf-80d8-c90105fa6e26"
   },
   "outputs": [
    {
     "data": {
      "text/plain": [
       "array([[1.   , 2.   , 3.   ],\n",
       "       [4.   , 5.   , 6.   ],\n",
       "       [7.   , 8.   , 9.   ],\n",
       "       [0.   , 0.875, 1.75 ],\n",
       "       [2.625, 3.5  , 4.375],\n",
       "       [5.25 , 6.125, 7.   ]])"
      ]
     },
     "execution_count": 99,
     "metadata": {},
     "output_type": "execute_result"
    }
   ],
   "source": [
    "conc = np.concatenate((array2,ar1),axis = 0)  # 0-->rows\n",
    "conc"
   ]
  },
  {
   "cell_type": "code",
   "execution_count": 100,
   "id": "dbb384ea",
   "metadata": {
    "id": "dbb384ea",
    "outputId": "b0bdc141-46f2-4988-c441-1d9c72753cf5"
   },
   "outputs": [
    {
     "data": {
      "text/plain": [
       "array([[1.   , 2.   , 3.   , 0.   , 0.875, 1.75 ],\n",
       "       [4.   , 5.   , 6.   , 2.625, 3.5  , 4.375],\n",
       "       [7.   , 8.   , 9.   , 5.25 , 6.125, 7.   ]])"
      ]
     },
     "execution_count": 100,
     "metadata": {},
     "output_type": "execute_result"
    }
   ],
   "source": [
    "conc = np.concatenate((array2,ar1),axis = 1)  # 1-->columns\n",
    "conc"
   ]
  },
  {
   "cell_type": "code",
   "execution_count": 103,
   "id": "ca6522a9",
   "metadata": {
    "id": "ca6522a9",
    "outputId": "d62c1a12-71ea-4eba-b44e-bf423a220c31"
   },
   "outputs": [
    {
     "data": {
      "text/plain": [
       "array([[1.   , 3.   , 0.   , 0.875, 1.75 ],\n",
       "       [4.   , 6.   , 2.625, 3.5  , 4.375],\n",
       "       [7.   , 9.   , 5.25 , 6.125, 7.   ]])"
      ]
     },
     "execution_count": 103,
     "metadata": {},
     "output_type": "execute_result"
    }
   ],
   "source": [
    "#delete\n",
    "np.delete(conc,1,axis = 1)"
   ]
  },
  {
   "cell_type": "code",
   "execution_count": 104,
   "id": "03947abe",
   "metadata": {},
   "outputs": [
    {
     "data": {
      "text/plain": [
       "array([[1.   , 2.   , 3.   , 0.   , 0.875, 1.75 ],\n",
       "       [4.   , 5.   , 6.   , 2.625, 3.5  , 4.375]])"
      ]
     },
     "execution_count": 104,
     "metadata": {},
     "output_type": "execute_result"
    }
   ],
   "source": [
    "np.delete(conc,2,axis=0)"
   ]
  },
  {
   "cell_type": "code",
   "execution_count": 105,
   "id": "547d72ce",
   "metadata": {
    "id": "547d72ce",
    "outputId": "cd0b6819-4ba8-401a-8f76-5935156395b7"
   },
   "outputs": [
    {
     "data": {
      "text/plain": [
       "array([0, 1, 2, 3, 4, 5, 6, 7, 8, 9])"
      ]
     },
     "execution_count": 105,
     "metadata": {},
     "output_type": "execute_result"
    }
   ],
   "source": [
    "#ravel\n",
    "ar2 = np.arange(10)\n",
    "ar2"
   ]
  },
  {
   "cell_type": "code",
   "execution_count": 106,
   "id": "aeb79af8",
   "metadata": {},
   "outputs": [
    {
     "data": {
      "text/plain": [
       "array([0, 1, 2, 3, 4, 5, 6, 7, 8, 9])"
      ]
     },
     "execution_count": 106,
     "metadata": {},
     "output_type": "execute_result"
    }
   ],
   "source": [
    "ar2.ravel()"
   ]
  },
  {
   "cell_type": "code",
   "execution_count": 107,
   "id": "3c81052f",
   "metadata": {
    "id": "3c81052f",
    "outputId": "297e46aa-eb56-4c35-9ca2-5c704e83b88c"
   },
   "outputs": [
    {
     "name": "stdout",
     "output_type": "stream",
     "text": [
      "[0 1 2 3 4 5 6 7 8 9]\n",
      "[0 1 2 3 4 5 6 7 8 9]\n"
     ]
    }
   ],
   "source": [
    "ravel = ar2.ravel()\n",
    "flatten = ar2.flatten()\n",
    "print(ravel)  # ravel is faster than flatten and it does not occupy memory\n",
    "print(flatten) # ravel just takes the reference of the original array"
   ]
  },
  {
   "cell_type": "code",
   "execution_count": 108,
   "id": "907a489c",
   "metadata": {
    "id": "907a489c",
    "outputId": "9c5fb5b7-27a9-4dfb-cd6a-d1528cdfca58"
   },
   "outputs": [
    {
     "data": {
      "text/plain": [
       "array([ 0,  1,  2,  3,  4, 20,  6,  7,  8,  9])"
      ]
     },
     "execution_count": 108,
     "metadata": {},
     "output_type": "execute_result"
    }
   ],
   "source": [
    "ravel[5] = 20\n",
    "ravel"
   ]
  },
  {
   "cell_type": "code",
   "execution_count": 109,
   "id": "0bf03878",
   "metadata": {
    "id": "0bf03878",
    "outputId": "4102bbdb-c0a2-4684-cea9-93eaa25d979f"
   },
   "outputs": [
    {
     "data": {
      "text/plain": [
       "array([ 0,  1,  2,  3,  4, 20,  6,  7,  8,  9])"
      ]
     },
     "execution_count": 109,
     "metadata": {},
     "output_type": "execute_result"
    }
   ],
   "source": [
    "ar2  # the original array is also changed"
   ]
  },
  {
   "cell_type": "code",
   "execution_count": 72,
   "id": "2332d33a",
   "metadata": {
    "id": "2332d33a",
    "outputId": "9e8fb2ff-e1dc-44e3-a1e6-af0eaeb74473"
   },
   "outputs": [
    {
     "data": {
      "text/plain": [
       "array([100,   1,   2,   3,   4,   5,   6,   7,   8,   9])"
      ]
     },
     "execution_count": 72,
     "metadata": {},
     "output_type": "execute_result"
    }
   ],
   "source": [
    "# flatten returns the original copy of the array and flatten occupies memory\n",
    "flatten[0] = 100\n",
    "flatten"
   ]
  },
  {
   "cell_type": "code",
   "execution_count": 73,
   "id": "9a9beecd",
   "metadata": {
    "id": "9a9beecd",
    "outputId": "cc3193c5-863d-448e-b066-ec4882fbaf18"
   },
   "outputs": [
    {
     "data": {
      "text/plain": [
       "array([ 0,  1,  2,  3,  4, 20,  6,  7,  8,  9])"
      ]
     },
     "execution_count": 73,
     "metadata": {},
     "output_type": "execute_result"
    }
   ],
   "source": [
    "ar2 # the original array did not change"
   ]
  },
  {
   "cell_type": "markdown",
   "id": "cc91f3c4",
   "metadata": {
    "id": "cc91f3c4"
   },
   "source": [
    "### Numpy Operations"
   ]
  },
  {
   "cell_type": "code",
   "execution_count": 110,
   "id": "11dcada9",
   "metadata": {
    "id": "11dcada9"
   },
   "outputs": [],
   "source": [
    "import warnings\n",
    "warnings.filterwarnings(\"ignore\")"
   ]
  },
  {
   "cell_type": "code",
   "execution_count": 111,
   "id": "2e43236e",
   "metadata": {
    "id": "2e43236e",
    "outputId": "91646c4c-c3e7-49a0-f702-6d3e9ea74620"
   },
   "outputs": [
    {
     "data": {
      "text/plain": [
       "array([0, 1, 2, 3, 4, 5, 6, 7, 8, 9])"
      ]
     },
     "execution_count": 111,
     "metadata": {},
     "output_type": "execute_result"
    }
   ],
   "source": [
    "ar3 = np.arange(0,10)\n",
    "ar3"
   ]
  },
  {
   "cell_type": "code",
   "execution_count": null,
   "id": "9bd5aaa9",
   "metadata": {
    "id": "9bd5aaa9",
    "outputId": "9003ae93-154a-4dda-f01e-6c5f0426b492"
   },
   "outputs": [
    {
     "data": {
      "text/plain": [
       "array([ 0,  2,  4,  6,  8, 10, 12, 14, 16, 18])"
      ]
     },
     "execution_count": 51,
     "metadata": {},
     "output_type": "execute_result"
    }
   ],
   "source": [
    "ar3 + ar3"
   ]
  },
  {
   "cell_type": "code",
   "execution_count": null,
   "id": "c4da49dd",
   "metadata": {
    "id": "c4da49dd",
    "outputId": "77503850-8e82-401e-b866-f5ce844ea55b"
   },
   "outputs": [
    {
     "data": {
      "text/plain": [
       "array([ 0,  1,  4,  9, 16, 25, 36, 49, 64, 81])"
      ]
     },
     "execution_count": 52,
     "metadata": {},
     "output_type": "execute_result"
    }
   ],
   "source": [
    "ar3 * ar3 #mutliplication"
   ]
  },
  {
   "cell_type": "code",
   "execution_count": null,
   "id": "c0f9558d",
   "metadata": {
    "id": "c0f9558d",
    "outputId": "53145031-e3a1-41dc-8f01-5fc48b374898"
   },
   "outputs": [
    {
     "data": {
      "text/plain": [
       "array([0, 0, 0, 0, 0, 0, 0, 0, 0, 0])"
      ]
     },
     "execution_count": 53,
     "metadata": {},
     "output_type": "execute_result"
    }
   ],
   "source": [
    "ar3 - ar3"
   ]
  },
  {
   "cell_type": "code",
   "execution_count": null,
   "id": "add2b2a9",
   "metadata": {
    "id": "add2b2a9",
    "outputId": "d9457302-4a61-4a23-b660-fe34710cad48"
   },
   "outputs": [
    {
     "data": {
      "text/plain": [
       "array([nan,  1.,  1.,  1.,  1.,  1.,  1.,  1.,  1.,  1.])"
      ]
     },
     "execution_count": 54,
     "metadata": {},
     "output_type": "execute_result"
    }
   ],
   "source": [
    "ar3/ar3"
   ]
  },
  {
   "cell_type": "code",
   "execution_count": null,
   "id": "4a6628cf",
   "metadata": {
    "id": "4a6628cf",
    "outputId": "7cd6d5b2-ce0c-4756-b428-bf16af259619"
   },
   "outputs": [
    {
     "data": {
      "text/plain": [
       "array([0.        , 1.        , 1.41421356, 1.73205081, 2.        ,\n",
       "       2.23606798, 2.44948974, 2.64575131, 2.82842712, 3.        ])"
      ]
     },
     "execution_count": 55,
     "metadata": {},
     "output_type": "execute_result"
    }
   ],
   "source": [
    "np.sqrt(ar3)"
   ]
  },
  {
   "cell_type": "code",
   "execution_count": null,
   "id": "d23026d8",
   "metadata": {
    "id": "d23026d8",
    "outputId": "225d5654-b415-4939-81e2-65920ba78aac"
   },
   "outputs": [
    {
     "data": {
      "text/plain": [
       "array([      -inf, 0.        , 0.69314718, 1.09861229, 1.38629436,\n",
       "       1.60943791, 1.79175947, 1.94591015, 2.07944154, 2.19722458])"
      ]
     },
     "execution_count": 56,
     "metadata": {},
     "output_type": "execute_result"
    }
   ],
   "source": [
    "np.log(ar3)"
   ]
  },
  {
   "cell_type": "code",
   "execution_count": null,
   "id": "c5c040af",
   "metadata": {
    "id": "c5c040af",
    "outputId": "24b80c92-7f23-4290-eaa0-619e03547044"
   },
   "outputs": [
    {
     "data": {
      "text/plain": [
       "0"
      ]
     },
     "execution_count": 57,
     "metadata": {},
     "output_type": "execute_result"
    }
   ],
   "source": [
    "np.min(ar3)"
   ]
  },
  {
   "cell_type": "code",
   "execution_count": null,
   "id": "95fb932e",
   "metadata": {
    "id": "95fb932e",
    "outputId": "14323bbe-4f79-4cec-8784-e3a5d13f3c78"
   },
   "outputs": [
    {
     "data": {
      "text/plain": [
       "9"
      ]
     },
     "execution_count": 58,
     "metadata": {},
     "output_type": "execute_result"
    }
   ],
   "source": [
    "np.max(ar3)"
   ]
  },
  {
   "cell_type": "code",
   "execution_count": 114,
   "id": "d645d2b2",
   "metadata": {},
   "outputs": [
    {
     "data": {
      "text/plain": [
       "array([0, 1, 2, 3, 4, 5, 6, 7, 8, 9])"
      ]
     },
     "execution_count": 114,
     "metadata": {},
     "output_type": "execute_result"
    }
   ],
   "source": [
    "ar3"
   ]
  },
  {
   "cell_type": "code",
   "execution_count": 112,
   "id": "88daa54c",
   "metadata": {
    "id": "88daa54c",
    "outputId": "1bddc48f-95b2-476a-8fee-6bd8fa2e8473"
   },
   "outputs": [
    {
     "data": {
      "text/plain": [
       "9"
      ]
     },
     "execution_count": 112,
     "metadata": {},
     "output_type": "execute_result"
    }
   ],
   "source": [
    "np.argmax(ar3) # return index position of the highest number"
   ]
  },
  {
   "cell_type": "code",
   "execution_count": 113,
   "id": "d8ddb10f",
   "metadata": {
    "id": "d8ddb10f",
    "outputId": "17c0d4f3-a5e6-4f81-c25f-2f1a5e9882c5"
   },
   "outputs": [
    {
     "data": {
      "text/plain": [
       "0"
      ]
     },
     "execution_count": 113,
     "metadata": {},
     "output_type": "execute_result"
    }
   ],
   "source": [
    "np.argmin(ar3) # return index position of the lowest number"
   ]
  },
  {
   "cell_type": "code",
   "execution_count": null,
   "id": "08090505",
   "metadata": {
    "id": "08090505"
   },
   "outputs": [],
   "source": []
  }
 ],
 "metadata": {
  "colab": {
   "provenance": []
  },
  "kernelspec": {
   "display_name": "Python 3 (ipykernel)",
   "language": "python",
   "name": "python3"
  },
  "language_info": {
   "codemirror_mode": {
    "name": "ipython",
    "version": 3
   },
   "file_extension": ".py",
   "mimetype": "text/x-python",
   "name": "python",
   "nbconvert_exporter": "python",
   "pygments_lexer": "ipython3",
   "version": "3.9.13"
  }
 },
 "nbformat": 4,
 "nbformat_minor": 5
}
