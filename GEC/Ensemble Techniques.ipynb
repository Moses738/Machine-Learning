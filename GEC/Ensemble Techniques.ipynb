{
 "cells": [
  {
   "cell_type": "markdown",
   "id": "3790ce26",
   "metadata": {},
   "source": [
    "Ensemble: we will take all the weaklearners and will build the strong or perfect model from weaklearners"
   ]
  },
  {
   "cell_type": "markdown",
   "id": "87fc0a6a",
   "metadata": {},
   "source": [
    "### Ensemble: \n",
    "> Bagging: paralell models will work, bootstrap aggregation\\\n",
    "high variance and low baise\\\n",
    "Boosting: series\\\n",
    "low varaince and high baise"
   ]
  },
  {
   "cell_type": "code",
   "execution_count": 2,
   "id": "dff386c2",
   "metadata": {},
   "outputs": [],
   "source": [
    "from sklearn.ensemble import RandomForestClassifier,RandomForestRegressor"
   ]
  },
  {
   "cell_type": "code",
   "execution_count": 1,
   "id": "882a5094",
   "metadata": {},
   "outputs": [],
   "source": [
    "import pandas as pd\n",
    "import numpy as np"
   ]
  },
  {
   "cell_type": "code",
   "execution_count": null,
   "id": "06f38090",
   "metadata": {},
   "outputs": [],
   "source": []
  }
 ],
 "metadata": {
  "kernelspec": {
   "display_name": "Python 3 (ipykernel)",
   "language": "python",
   "name": "python3"
  },
  "language_info": {
   "codemirror_mode": {
    "name": "ipython",
    "version": 3
   },
   "file_extension": ".py",
   "mimetype": "text/x-python",
   "name": "python",
   "nbconvert_exporter": "python",
   "pygments_lexer": "ipython3",
   "version": "3.9.13"
  }
 },
 "nbformat": 4,
 "nbformat_minor": 5
}
