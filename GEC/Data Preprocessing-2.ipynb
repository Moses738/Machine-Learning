{
 "cells": [
  {
   "cell_type": "markdown",
   "id": "e202e50b",
   "metadata": {},
   "source": [
    "Statistics and data preprocessing\\\n",
    "what is,how many, what are those\\\n",
    "Normal distribution is also called to be Gaussian Distribtuion\\"
   ]
  },
  {
   "cell_type": "code",
   "execution_count": 1,
   "id": "4914a78a",
   "metadata": {},
   "outputs": [],
   "source": [
    "import pandas as pd\n",
    "import numpy as np\n",
    "import seaborn as sns\n",
    "import matplotlib.pyplot as plt"
   ]
  },
  {
   "cell_type": "code",
   "execution_count": 2,
   "id": "e9fff352",
   "metadata": {},
   "outputs": [],
   "source": [
    "df=sns.load_dataset('tips')"
   ]
  },
  {
   "cell_type": "code",
   "execution_count": 57,
   "id": "01967871",
   "metadata": {},
   "outputs": [
    {
     "data": {
      "text/html": [
       "<div>\n",
       "<style scoped>\n",
       "    .dataframe tbody tr th:only-of-type {\n",
       "        vertical-align: middle;\n",
       "    }\n",
       "\n",
       "    .dataframe tbody tr th {\n",
       "        vertical-align: top;\n",
       "    }\n",
       "\n",
       "    .dataframe thead th {\n",
       "        text-align: right;\n",
       "    }\n",
       "</style>\n",
       "<table border=\"1\" class=\"dataframe\">\n",
       "  <thead>\n",
       "    <tr style=\"text-align: right;\">\n",
       "      <th></th>\n",
       "      <th>total_bill</th>\n",
       "      <th>tip</th>\n",
       "      <th>sex</th>\n",
       "      <th>smoker</th>\n",
       "      <th>day</th>\n",
       "      <th>time</th>\n",
       "      <th>size</th>\n",
       "    </tr>\n",
       "  </thead>\n",
       "  <tbody>\n",
       "    <tr>\n",
       "      <th>0</th>\n",
       "      <td>16.99</td>\n",
       "      <td>1.01</td>\n",
       "      <td>Female</td>\n",
       "      <td>No</td>\n",
       "      <td>Sun</td>\n",
       "      <td>Dinner</td>\n",
       "      <td>2</td>\n",
       "    </tr>\n",
       "    <tr>\n",
       "      <th>1</th>\n",
       "      <td>10.34</td>\n",
       "      <td>1.66</td>\n",
       "      <td>Male</td>\n",
       "      <td>No</td>\n",
       "      <td>Sun</td>\n",
       "      <td>Dinner</td>\n",
       "      <td>3</td>\n",
       "    </tr>\n",
       "    <tr>\n",
       "      <th>2</th>\n",
       "      <td>21.01</td>\n",
       "      <td>3.50</td>\n",
       "      <td>Male</td>\n",
       "      <td>No</td>\n",
       "      <td>Sun</td>\n",
       "      <td>Dinner</td>\n",
       "      <td>3</td>\n",
       "    </tr>\n",
       "    <tr>\n",
       "      <th>3</th>\n",
       "      <td>23.68</td>\n",
       "      <td>3.31</td>\n",
       "      <td>Male</td>\n",
       "      <td>No</td>\n",
       "      <td>Sun</td>\n",
       "      <td>Dinner</td>\n",
       "      <td>2</td>\n",
       "    </tr>\n",
       "    <tr>\n",
       "      <th>4</th>\n",
       "      <td>24.59</td>\n",
       "      <td>3.61</td>\n",
       "      <td>Female</td>\n",
       "      <td>No</td>\n",
       "      <td>Sun</td>\n",
       "      <td>Dinner</td>\n",
       "      <td>4</td>\n",
       "    </tr>\n",
       "  </tbody>\n",
       "</table>\n",
       "</div>"
      ],
      "text/plain": [
       "   total_bill   tip     sex smoker  day    time  size\n",
       "0       16.99  1.01  Female     No  Sun  Dinner     2\n",
       "1       10.34  1.66    Male     No  Sun  Dinner     3\n",
       "2       21.01  3.50    Male     No  Sun  Dinner     3\n",
       "3       23.68  3.31    Male     No  Sun  Dinner     2\n",
       "4       24.59  3.61  Female     No  Sun  Dinner     4"
      ]
     },
     "execution_count": 57,
     "metadata": {},
     "output_type": "execute_result"
    }
   ],
   "source": [
    "df.head()"
   ]
  },
  {
   "cell_type": "markdown",
   "id": "891d9787",
   "metadata": {},
   "source": [
    "## Data Challenges\n",
    "\n",
    "Duplicate data\\\n",
    "we don't handle duplicate data, simply we will delete\\\n",
    "Missing values\\\n",
    "Either can replace or remove\\\n",
    "replace with mean,median and mode\\\n",
    "Categorical Data\\\n",
    "bcz machine won't understand text,LabelEncoding and OnehotEncoding\\\n",
    "Outliers\\\n",
    "Imbalanced data\\\n",
    "Scaling"
   ]
  },
  {
   "cell_type": "markdown",
   "id": "2c21d5c1",
   "metadata": {},
   "source": [
    "## Outliers"
   ]
  },
  {
   "cell_type": "code",
   "execution_count": 7,
   "id": "53e66af3",
   "metadata": {},
   "outputs": [
    {
     "name": "stderr",
     "output_type": "stream",
     "text": [
      "C:\\Users\\user\\anaconda3\\lib\\site-packages\\seaborn\\_decorators.py:36: FutureWarning: Pass the following variable as a keyword arg: x. From version 0.12, the only valid positional argument will be `data`, and passing other arguments without an explicit keyword will result in an error or misinterpretation.\n",
      "  warnings.warn(\n"
     ]
    },
    {
     "data": {
      "image/png": "[encoded data removed]",
      "text/plain": [
       "<Figure size 640x480 with 1 Axes>"
      ]
     },
     "metadata": {},
     "output_type": "display_data"
    }
   ],
   "source": [
    "sns.boxplot(df.total_bill)\n",
    "plt.show()"
   ]
  },
  {
   "cell_type": "markdown",
   "id": "ec770c63",
   "metadata": {},
   "source": [
    "![boxplot](https://cdn1.byjus.com/wp-content/uploads/2020/10/Box-Plot-and-Whisker-Plot-1.png)"
   ]
  },
  {
   "cell_type": "markdown",
   "id": "18039f9a",
   "metadata": {},
   "source": [
    "Two ways\\\n",
    "Boxplot\\\n",
    "The standard Normal distribution.\\\n",
    "![normal](data:image/jpeg;base64,/9j/4AAQSkZJRgABAQAAAQABAAD/2wCEAAoHCBESFBQSFBUWFBIZFhwaGRQSGBkSEhkZGRgcGhgYGRgdJC4lHB4tIRoYJzg0Ky8xNTY3GiU7QDs0Py40NTMBDAwMEA8QHxISHzQrIyU0MTQ1NDE0NDQ0NzQ0MT80NDQ0NDQ/MT82NDQ0NDQ0NDQ+NDYxNDE0NDQ0NDQ0NDE1NP/AABEIAIcBdgMBIgACEQEDEQH/xAAcAAEAAgIDAQAAAAAAAAAAAAAABAUGBwECAwj/xABEEAACAQMCAgQKBwcCBgMAAAABAgADBBESIQUxBhNBURYiMjRUYXKTs9EHFEJxdIGyIyRSYnORsRVTM0NEgrThkqGi/8QAGQEBAAMBAQAAAAAAAAAAAAAAAAECBAMF/8QAKBEBAAIBAgQGAgMAAAAAAAAAAAECEQMSBDFBgRMhIjNRYRQyQnGR/9oADAMBAAIRAxEAPwDc0qT58Pwx+IJbSpPnw/DH4ggW0REBERAREQEREBERAREQEREBERAREQEREBERAREQEREBERAREQEREBERAREQEREBERAREQEREBERASpPnw/DH4gltKk+fD8MfiCBbREQEREBERAREQEREBERAREQEREDicQWxueU03056dPdM1taOVtgSr10OlqxBwVRhuE7Cftdm3O1KTecQTOGWdIfpHtLZmpUQbqqMhuqIFFCPstUO2fUAeRziY2v0jcTdK1ZKdoqUyg0MtWox1sR5YdQMY/hmAKgUYAAA7BsJa2Pmt37VD9bzfHCVrXz858ldzPuDfSpSYql3RNDJx11M9bQHrbkyj8jNh29wlRVdGV0YZV0IZWB5EEbET5ql70U6VV+Gv4ualqzZqUOeM83pfwt3jk337zlrcJtjNf8It8t/wASDwziFK5pJXosHpuNSsO7uI7CORHZJ0xrEREBERAREQEREBERAREQEREBERAREQEREBERASpPnw/DH4gltKk+fD8MfiCBbREQEREBERAREQEREBERAREQOIiYj9IHSf6hQ00yDdVcrSH8Ix41UjuXP5kgSYiZnEDGPpO6WFmbh1ufFxi5qKew/wDIU95HldwOO0zXKqAABsB2DlOFXHMliSSWbdmY7sxPaSd5zPW0NGNOv2pM5JaWPmt37VD9byrlpY+a3ftUP1vOtuXeEQq4iJKGSdB+lDcOraXP7nUb9ov+252FZfVyDDu37JvRHDAEEEEZBG4IPIgz5nImyPor6T4xw6s3IE2zMdyoyWok96819WR9medxWhj1V5dV6y2pE4nMxrEREBERAREQEREBERAREQEREBERAREQEREBKk+fD8MfiCW0qT58Pwx+IIFtERAREQEREBERAREQEREBERAhcTv6dtSqV6raaaKWY+odg7yeQ++fPnGuK1L24e6qjDNsif7dME6Kf37kn1kzNvpL4s10HpU2/dbaqi1COVWswYhQe1U07/zH+Wa9m7hNOJ9c9lbT0IiJvUJaWPmt37VD9byrlpY+a3ftUP1vIty7wmFXERJQQCwKujFaiMGR18pXU5Vh+cRImsWjEpb46F9I14hbrUIC1kOiqg+y47R/KRuPv9UyOaF6F8QqWdWpdqSaKKguKYBJemz6Q6j+NCdXrGods3pQrI6q6sGRgGVgcggjIIPdiePq02XmF4nMZe8RE5pIiICIiAiIgIiICIiAiIgIiICIiAiIgJUnz4fhj8QS2lSfPh+GPxBAtoiICIiAiIgIiICIiAiIgcTFOnPH2tqS0aJxd18rT2zoUeXVYdyg7d5Il5xfiVK1ovcVm000GT2kk7KqjtYnAA7zNTddVr1Huq4xXq48QHUtNFzopKfUCST2kkyJnC9K7peF/brTsKlNPJFWjz3JOKhLE9pJyT98xOZlxnzKr/Wo/wCKkx/gyMWZlQOAo1N1YuCil1BcUT5Z+z6tWdtp6XBzjSz9q60epWxMqueGUES+0mkaimoVXWNVJErqqoqHfURnf2R2mVNtRUULpXp4qoqEO+oOmaiKV0HlzPrmmLxMZcsKuWlj5rd+1Q/W8sHt6VdNVJFplgQpZD4qdYq50IGLEFlQNjJy7HGJBtUK294p5h6IO+RkO4O45xNsx3gVM5mQ21nrtyrolIaEZKrJ4uGrIrVmuBvnDMug9gzsRv49ILKmhoGiENP6vkmmwqMQtWovWuV2Grxd+WdhyiLxM4MKOJfs9BKtE9QNL29PCKBV8dm32cjUWAK5J21ZHKR+KcPCoKiaerXbbUWJLuhbWRhgHRlAznCg43yZi0dRN6J+Rd+xT+JMw6AcY6ip/p9Q/s21PbMTy7Xt/wAt2X1ZHZMQ6JeTd+xT+JJl3b61xko6sHR18pHQ5R19YIE8ri5xrT2atOm7TbriY30O6QfXaOKmFuqZCVkHLVjZ1H8DDcfmOyZJOLiREQEREBERAREQEREBERAREQEREBERASpPnw/DH4gltKk+fD8MfiCBbREQEREBESDf3wohfEeoztpVKShmJ0ljzICgBTuSByHMgQJ0SrrcYopbm7JYUgpY+KxfbOV0jfVkEY752r8WpU30MSu2SxHiDxWfBPYdKMe7b7oFlE8qNTUqtgrkA6WGGGRyI7DPWBxOjuACSQABkk7AAcyTO01n0w6QfXSbSgx+qq2K9VT/AMYg70UPag+0e3yR2yJnCa1m04hC6Q8ZPEK4ZT+50mPUj/dqDINc/wAo3Cfm3aJGnCqAABsBsAOQ9U5nOZzLbSsVjEPHjPmVX+tR/wAVJiFN2U6lYq3epKnfnuJl/GfMqv8AWo/4qTDZ6/Be13lj1/3lyDOSxOcknPPJzn7++dYmtxd0qMCCGYEAgEEggHOQCOQ3P9zLGx81u/aofreVctLHzW79qh+t5W3LvBCuLtp05OkHIXJ0g9+OWZxqPeeWOfZnOPuzOsSyHYMdjk5HI53H3RrbGnJ05zpydOeWcd86xAyToj5N37FP4ktJV9EvIu/Yp/ElpPG4z3p7N/D/AKulK5q21ZbugM1EGlk5CtSzlqZPYe1T2EdxM2vwjiVK6opXotqpuMjvB5MrDsYHII7CJquenBuKvw6s1VQzWznNeiu5B5dfTHa4HlD7QHeJwrbojW08+qG4Ike0uqdZFqU2D03AKupypB7QZIl2YiQ767WihqMGbcAKgyxZmCqoHeSQN8DvxPO24ij02qkMgQsHV18dSvMELnJ5HbOcjECwiU9PjlFloONWmqqup040q7KqlweWWdR37/eZYWtdaih1zpOcE9oBIDD+U4yO8EQJEREBERAREQEREBERAREQEqT58Pwx+IJbSpPnw/DH4gge9/fCiFyruzNpVKYBc4UsTgkDAAJ3Pq5kCdbri9GnQ+tMx6nQHBVSxKkZXCgZ3E68StKjtSqUii1KbNjrAWUq6lWBwcjfSf8Atx25Eevw1hZ1LUuoT6v1Ycqcj9mVZ2Gd+/AgSa/F6KMUYlcc2x4gIUvpz36QT/72k2k+pQ2CMgHB2YZHI+uVlzZJcinVplACoYVdALsuNVPBO+kNpfB56QO0yRwm1qU0Ku+slsgamfSMAY1uSzZILb8tWBsBAsJV8YtK1VUSnUCDVlx4yl10kaA6kMu5BJBztjtlpECorWDG3qW+adNDQNNerUhUyrKTjPkgacD1GK1nTuVpVFKYKg9ZpBdkI1IATuFLaWIPMDB5mWVx5Leyf8GQejfmdp+HpfDWBzwi0qUlK1HLktkZZnwNIB8ZiWOSC3q1YGwk2pUVQWYhVAySxwABzJJ5CY90h6ZWVllHfrK/ZQo4er/3dij1sRMDu+LXHFEqPXOihTqIFtKZzTbUHOaz86hGgbbL6jzkTaIRExNornzladI+lTXpahbFktM4qVwSj1x206R5qh5F+3s23nSjbojgU6KrTFOl4qr1oQMinITPjEk4z688zKsDG3Z3DlO6OwOQxB5ZBIOO7MpNsttdOKx5LOjaoKtclMqmvQqr1gOHC4UHAbAPbO7UqepqZQalYElRoG7DSuScqTkLjkMk52lSrsMEEgjkQSCPunGT38+cjK21x0koMlpV1ad6tI+KCF/5o2BAI3BmDzMuNsTZ1iSSeuo7k5PKpMNnrcF7XeWLX/ciImxxJaWPmt37VD9byrlpY+a3ftUP1vIty7wmFXERJQREQMl6JeRd+xT+IJlBRdYZKY09UjEaet0aiMvoJ8c9n5zFuiPk3fsU/iS2R2ByCQe8Eg/3nj8Z7s9m3QjNFpTtUFetlDoUOUVV6wEqw8UKcZIBzg8sbzs9OnqemUwdmJVdGA2ggbnKNuVxyy3MYlSrsMEEgg5BBIIPfOCx33O/P1/fMuXbbKbZcQuOF1GZF6y1cl3tqexQ6iGagGxg5ByvJuY357H4VxOhdUlrUXFSm3Ir2HtUjmrDtB3E1Wzk7kknvJyZ0otVtRXu7Z+qqoqFkIzQq6qiJionaQGOCMN65aLfLhrUitZt8c21+KUar0ylFxTclfHIJ21AsBggglcgHsznsnThtq9IKn7MIAxIUMWLFgQxZmJJPj6ickkg555xjo/9IlrX007j90rnbFQ5osf5KnLfubB++ZqrAgEHIO4I3BHql+bPExMZhS2thTqW9OmrI5pk0zV0+MpRjSraCd0bxXXI5euSuGWNSk1Us+pSRoXLEKAWOwJwuxVcLgeJntkfoof2NX8Zef8AmVpeQkka8uVpIXbOBgYUZYsxCqAO0kkAffJMgcUtDWplFIVg6OpIyuum6uuoDmMqMwFvfo6NUwyhdQdXHjqV8oEDOfyyDkEZzI9Pj1BlpVBqK1BqU6SCF1KmpgdwMuo79+Wxx6cNtatPUXKFndnqaAQAx0hAuTyCrgk8zvtykO0sUqW601ZHZHdOtK7oy1CtTRndWGGUEdozAtrautQalzjJAJ2zpJGR3g42PaJJlVwyxqUmqFnyh2RAWIUBmK7E4XClVwux055mWsBERAREQEREDrqEo7m9pUr0GpURAbY41sqZ/aDlk7z28GOHeh23uafylb4PWIvNAtbcL9WJwKVPGesAzjHOBc/63aek0Pep85Hv+OWfVuPrNDJRgB1qbnSfXPTwcsPRbf3SfKPByw9Ft/dJ8oFdwnpFY0re3R7q3VloopU1UyCqKGHPsM9j004V6dbe9T5yX4OWHotv7pPlHg7Yei2/uk+UCqrdP+FIM/WNQzgFKdaopOM4BRCJXXH0ocPAOhbiqf5aRQH83Ky04jwy0otTxY0HRnRCVRBUBdwgKpp8YLnU24wuSM4nnp4J1ooaLQ1i2gIqIzashSuw5gkA92YROejFbz6Ua5yKNoqDsa4q6j/8EGP/ANTF+IdJOIXA01Lhkp4x1VsBb0wO7K+MR97Tc/g7Yei2/uk+UeDth6Lb+6T5SsxM9XG1L2/lj+oaDpU0QYUBR3Db+/fMk6Pn93uP6tL9NSbXHR2w9Ft/dJ8pWcS4bZ0Xp54fQakzojVBTpalaowRMJpyw1FQTkYzncA4rFPPOVdHQ8PUi+c4YJmMzOnXggq9Qadn12rRoFOmW1ZA07LzyQD3Zlr4N2Hotv7pPlJ2vR8f6awzGZs/wbsPRbf3SfKPByw9Ft/dJ8o2nj/TVXGT+5Vf61H/ABUmHZE3zdcKsKdSjTNlRPWsyhhSp6VKoz77Z3CHkJ4VRwRanUtTtOt1adApozatvF2XnuNvXNehr+FXbjLhed1stG5EZE+hvByw9Ft/dJ8o8HLD0W390nynb82fhTa+eciebv4yDOxzkZ2Pdnvn0V4O2Hotv7pPlIF30dsBWoE0bdfLAQ00y5KZwNuwKxkTxkz0NrRGRGRPoC14Nw2qi1Et7Z0YBlZaSFWB5Ebcp7eDlh6Lb+6T5SfzfpG1885EZE+hvByw9Ft/dJ8o8HLD0W390nyj82fhO1p3okfEu/Yp/ElnmZ/T4dw41a9NrO3QUVRy706QQq4ffP2QNDZzidOH0eC3DFKNO1qOBkqlNDgbb+T/ADD+8x61vEtu5O2nqbIxhgeYzNn+Dlh6Lb+6T5R4OWHotv7pPlOW108f6awzF0f3a69in8dJs7wcsPRbf3SfKVQsbJa/U1LChTU03dKpSkVIpMivqGPE8tSNzkZ5EERtc9XU31muOcNNsARg4I7juJK4ZxS6tfNrh6K/wZFSj7tsqPyxNu2NPgtwxp0adrUfGdKUkO3fnTjEs/B2w9Ft/dJ8pEUmOUsFeGtTlaWt7D6SrykMVLejWG5zSY27Ek5J0kMCTueYyTL63+lKzP8AxaNxSPsLVH90Y/4mVeDth6Lb+6T5R4O2Hotv7pPlLxEtFYtHOcqi3+kPhVTYV2U4yQ9CuuAO0nRj/wC5LHTbhR/623HqNRVP5g7ieVXh1mldaTWNuEcMRUCUyRoXUWdNOy9mcnfGQMidbFeC136ulTtKlTGdKU0bbGc504xJXTqfSvhr403luc91VPnIHRvi9qiVVe4oKxublwDVTJR7ioyNz5FSD+ctfByw9Ft/dJ8o8HLD0W390nygen+t2npND3qfOd6PFLZ2CpWpO55KjqzHAycAHJ2Bnh4OWHotv7pPlOp6NcPP/SW/uk+UC11CNQlT4McO9Dtvc0/lHgxw70O29zT+UC21CNQlT4McO9Dtvc0/lHgxw70O29zT+UC21Ccyo8GOHeh23uafyiBcSD9TP1jr8jHVaNON869WcxECdERASHc2FOqQW1ZAx4run6WERAgXnCTU0UzpFKm6VEbLmurIwcgMSfKxgnPIkYMjWHAalP6umsCnb1KjIUytR1YOND9mPHyf4iinaIgZJERAiXVilQgtq25aXen/AH0kZkGtYVtaCmafVJuq1DUqOGJOXJJ8bAJABO2T6sIgRLTgD0zboHApUa71VK5FRxUFT9m/ZjNTJPboGwmSREBIl1ZU6uNWrbONLvT5886SM8u2IgQ6/DDrtWpkBKLu5DszsdVN0wGJJ+2Tv3YkG14BUTqkDgUqdy9dWUEVm1lyabdmM1Dk9oGMds5iBkYnMRATH+NhjcWQQqHD1G8cEqVFJlYZG4OHyPZx25CIE7gdlUoUKdFyrFF0hkBAIGwOCdjLKIgIiIGO8R4Ebg3qs4WncUUpjSCXUp1njHOxBLcvV65MsrOqKz16jKC1NKfV09WjKs51nP2jqx6gOZiIFtERATHeI8GrXIr0qrUxTqo9PUgY1EpspCqudgc4Zj24x3YRAl2PD6q1jXqMoPUrS0Usim2li2sg8jvgDsBO5zLeIgIiIGPcW4D9bJ64quFqor0crUZKtNkKPnsGoNjJBZVO2J7cO4bVWqlao6grbijppAhHwwbrGB5EYwo3xrbc52RAu4iICIiAiIgIiICIiB//2Q==)"
   ]
  },
  {
   "cell_type": "code",
   "execution_count": 22,
   "id": "39a7cc96",
   "metadata": {},
   "outputs": [
    {
     "data": {
      "text/plain": [
       "0.75    24.1275\n",
       "0.25    13.3475\n",
       "Name: total_bill, dtype: float64"
      ]
     },
     "execution_count": 22,
     "metadata": {},
     "output_type": "execute_result"
    }
   ],
   "source": [
    "quant=df.total_bill.quantile(q=[0.75,0.25])\n",
    "quant"
   ]
  },
  {
   "cell_type": "code",
   "execution_count": 12,
   "id": "cdb4acb7",
   "metadata": {},
   "outputs": [
    {
     "data": {
      "text/plain": [
       "24.127499999999998"
      ]
     },
     "execution_count": 12,
     "metadata": {},
     "output_type": "execute_result"
    }
   ],
   "source": [
    "Q3=quant.loc[0.75]\n",
    "Q3"
   ]
  },
  {
   "cell_type": "code",
   "execution_count": 14,
   "id": "8a62ae41",
   "metadata": {},
   "outputs": [
    {
     "data": {
      "text/plain": [
       "13.3475"
      ]
     },
     "execution_count": 14,
     "metadata": {},
     "output_type": "execute_result"
    }
   ],
   "source": [
    "Q1=quant.loc[0.25]\n",
    "Q1"
   ]
  },
  {
   "cell_type": "code",
   "execution_count": 15,
   "id": "18b8ac5f",
   "metadata": {},
   "outputs": [
    {
     "data": {
      "text/plain": [
       "10.779999999999998"
      ]
     },
     "execution_count": 15,
     "metadata": {},
     "output_type": "execute_result"
    }
   ],
   "source": [
    "IQR=Q3-Q1\n",
    "IQR"
   ]
  },
  {
   "cell_type": "code",
   "execution_count": 16,
   "id": "753820a9",
   "metadata": {},
   "outputs": [
    {
     "data": {
      "text/plain": [
       "40.29749999999999"
      ]
     },
     "execution_count": 16,
     "metadata": {},
     "output_type": "execute_result"
    }
   ],
   "source": [
    "maxwhisker=Q3 + 1.5 * IQR\n",
    "maxwhisker"
   ]
  },
  {
   "cell_type": "code",
   "execution_count": 17,
   "id": "ff5e04ca",
   "metadata": {},
   "outputs": [
    {
     "data": {
      "text/plain": [
       "-2.8224999999999945"
      ]
     },
     "execution_count": 17,
     "metadata": {},
     "output_type": "execute_result"
    }
   ],
   "source": [
    "minwhisker=Q1-1.5*IQR\n",
    "minwhisker"
   ]
  },
  {
   "cell_type": "code",
   "execution_count": 19,
   "id": "1f35734a",
   "metadata": {},
   "outputs": [
    {
     "data": {
      "text/plain": [
       "0      16.99\n",
       "1      10.34\n",
       "2      21.01\n",
       "3      23.68\n",
       "4      24.59\n",
       "       ...  \n",
       "239    29.03\n",
       "240    27.18\n",
       "241    22.67\n",
       "242    17.82\n",
       "243    18.78\n",
       "Name: total_bill, Length: 244, dtype: float64"
      ]
     },
     "execution_count": 19,
     "metadata": {},
     "output_type": "execute_result"
    }
   ],
   "source": [
    "df.total_bill"
   ]
  },
  {
   "cell_type": "code",
   "execution_count": 20,
   "id": "46089984",
   "metadata": {},
   "outputs": [],
   "source": [
    "df['total_bill']=np.where(df.total_bill>40.29749999999999,40.29749999999999,df.total_bill)"
   ]
  },
  {
   "cell_type": "code",
   "execution_count": 21,
   "id": "b71e3b63",
   "metadata": {},
   "outputs": [
    {
     "name": "stderr",
     "output_type": "stream",
     "text": [
      "C:\\Users\\user\\anaconda3\\lib\\site-packages\\seaborn\\_decorators.py:36: FutureWarning: Pass the following variable as a keyword arg: x. From version 0.12, the only valid positional argument will be `data`, and passing other arguments without an explicit keyword will result in an error or misinterpretation.\n",
      "  warnings.warn(\n"
     ]
    },
    {
     "data": {
      "text/plain": [
       "<AxesSubplot:xlabel='total_bill'>"
      ]
     },
     "execution_count": 21,
     "metadata": {},
     "output_type": "execute_result"
    },
    {
     "data": {
      "image/png": "[encoded data removed]",
      "text/plain": [
       "<Figure size 640x480 with 1 Axes>"
      ]
     },
     "metadata": {},
     "output_type": "display_data"
    }
   ],
   "source": [
    "sns.boxplot(df['total_bill'])"
   ]
  },
  {
   "cell_type": "code",
   "execution_count": 24,
   "id": "55cc5bf9",
   "metadata": {},
   "outputs": [
    {
     "name": "stderr",
     "output_type": "stream",
     "text": [
      "C:\\Users\\user\\anaconda3\\lib\\site-packages\\seaborn\\_decorators.py:36: FutureWarning: Pass the following variable as a keyword arg: x. From version 0.12, the only valid positional argument will be `data`, and passing other arguments without an explicit keyword will result in an error or misinterpretation.\n",
      "  warnings.warn(\n"
     ]
    },
    {
     "data": {
      "image/png": "[encoded data removed]",
      "text/plain": [
       "<Figure size 640x480 with 1 Axes>"
      ]
     },
     "metadata": {},
     "output_type": "display_data"
    }
   ],
   "source": [
    "sns.boxplot(df.tip)\n",
    "plt.show()"
   ]
  },
  {
   "cell_type": "code",
   "execution_count": 25,
   "id": "eef7e400",
   "metadata": {},
   "outputs": [],
   "source": [
    "# upper=mean + 3 std()\n",
    "# lower=mean - 3 std()"
   ]
  },
  {
   "cell_type": "code",
   "execution_count": 27,
   "id": "86cdb266",
   "metadata": {},
   "outputs": [
    {
     "data": {
      "text/plain": [
       "2.9982786885245902"
      ]
     },
     "execution_count": 27,
     "metadata": {},
     "output_type": "execute_result"
    }
   ],
   "source": [
    "mean=df.tip.mean()\n",
    "mean"
   ]
  },
  {
   "cell_type": "code",
   "execution_count": 28,
   "id": "958fdcf4",
   "metadata": {},
   "outputs": [
    {
     "data": {
      "text/plain": [
       "1.3836381890011826"
      ]
     },
     "execution_count": 28,
     "metadata": {},
     "output_type": "execute_result"
    }
   ],
   "source": [
    "std=df.tip.std()\n",
    "std"
   ]
  },
  {
   "cell_type": "code",
   "execution_count": 29,
   "id": "c1745283",
   "metadata": {},
   "outputs": [
    {
     "data": {
      "text/plain": [
       "4.150914567003548"
      ]
     },
     "execution_count": 29,
     "metadata": {},
     "output_type": "execute_result"
    }
   ],
   "source": [
    "treshold=3*std\n",
    "treshold"
   ]
  },
  {
   "cell_type": "code",
   "execution_count": 30,
   "id": "122856c3",
   "metadata": {},
   "outputs": [
    {
     "data": {
      "text/plain": [
       "7.149193255528139"
      ]
     },
     "execution_count": 30,
     "metadata": {},
     "output_type": "execute_result"
    }
   ],
   "source": [
    "upper=mean+treshold\n",
    "upper"
   ]
  },
  {
   "cell_type": "code",
   "execution_count": 31,
   "id": "8db1a35a",
   "metadata": {},
   "outputs": [
    {
     "data": {
      "text/plain": [
       "-1.152635878478958"
      ]
     },
     "execution_count": 31,
     "metadata": {},
     "output_type": "execute_result"
    }
   ],
   "source": [
    "lower=mean-treshold\n",
    "lower"
   ]
  },
  {
   "cell_type": "code",
   "execution_count": 33,
   "id": "ae523a52",
   "metadata": {},
   "outputs": [],
   "source": [
    "df['tip']=np.where(df.tip>7.149193255528139,7.149193255528139,df.tip)"
   ]
  },
  {
   "cell_type": "code",
   "execution_count": 34,
   "id": "c8c862c9",
   "metadata": {},
   "outputs": [
    {
     "name": "stderr",
     "output_type": "stream",
     "text": [
      "C:\\Users\\user\\anaconda3\\lib\\site-packages\\seaborn\\_decorators.py:36: FutureWarning: Pass the following variable as a keyword arg: x. From version 0.12, the only valid positional argument will be `data`, and passing other arguments without an explicit keyword will result in an error or misinterpretation.\n",
      "  warnings.warn(\n"
     ]
    },
    {
     "data": {
      "text/plain": [
       "<AxesSubplot:xlabel='tip'>"
      ]
     },
     "execution_count": 34,
     "metadata": {},
     "output_type": "execute_result"
    },
    {
     "data": {
      "image/png": "[encoded data removed]",
      "text/plain": [
       "<Figure size 640x480 with 1 Axes>"
      ]
     },
     "metadata": {},
     "output_type": "display_data"
    }
   ],
   "source": [
    "sns.boxplot(df.tip)"
   ]
  },
  {
   "cell_type": "code",
   "execution_count": 35,
   "id": "3fe18b03",
   "metadata": {},
   "outputs": [],
   "source": [
    "df.tip=np.where(df.tip>5.5,5,df.tip)"
   ]
  },
  {
   "cell_type": "code",
   "execution_count": 37,
   "id": "219eb53e",
   "metadata": {},
   "outputs": [
    {
     "name": "stderr",
     "output_type": "stream",
     "text": [
      "C:\\Users\\user\\anaconda3\\lib\\site-packages\\seaborn\\_decorators.py:36: FutureWarning: Pass the following variable as a keyword arg: x. From version 0.12, the only valid positional argument will be `data`, and passing other arguments without an explicit keyword will result in an error or misinterpretation.\n",
      "  warnings.warn(\n"
     ]
    },
    {
     "data": {
      "image/png": "[encoded data removed]",
      "text/plain": [
       "<Figure size 640x480 with 1 Axes>"
      ]
     },
     "metadata": {},
     "output_type": "display_data"
    }
   ],
   "source": [
    "sns.boxplot(df.tip)\n",
    "plt.show()"
   ]
  },
  {
   "cell_type": "markdown",
   "id": "075dc2ca",
   "metadata": {},
   "source": [
    "## Scaling "
   ]
  },
  {
   "cell_type": "code",
   "execution_count": 38,
   "id": "fc0a7f84",
   "metadata": {},
   "outputs": [
    {
     "data": {
      "text/html": [
       "<div>\n",
       "<style scoped>\n",
       "    .dataframe tbody tr th:only-of-type {\n",
       "        vertical-align: middle;\n",
       "    }\n",
       "\n",
       "    .dataframe tbody tr th {\n",
       "        vertical-align: top;\n",
       "    }\n",
       "\n",
       "    .dataframe thead th {\n",
       "        text-align: right;\n",
       "    }\n",
       "</style>\n",
       "<table border=\"1\" class=\"dataframe\">\n",
       "  <thead>\n",
       "    <tr style=\"text-align: right;\">\n",
       "      <th></th>\n",
       "      <th>total_bill</th>\n",
       "      <th>tip</th>\n",
       "      <th>sex</th>\n",
       "      <th>smoker</th>\n",
       "      <th>day</th>\n",
       "      <th>time</th>\n",
       "      <th>size</th>\n",
       "    </tr>\n",
       "  </thead>\n",
       "  <tbody>\n",
       "    <tr>\n",
       "      <th>0</th>\n",
       "      <td>16.99</td>\n",
       "      <td>1.01</td>\n",
       "      <td>Female</td>\n",
       "      <td>No</td>\n",
       "      <td>Sun</td>\n",
       "      <td>Dinner</td>\n",
       "      <td>2</td>\n",
       "    </tr>\n",
       "    <tr>\n",
       "      <th>1</th>\n",
       "      <td>10.34</td>\n",
       "      <td>1.66</td>\n",
       "      <td>Male</td>\n",
       "      <td>No</td>\n",
       "      <td>Sun</td>\n",
       "      <td>Dinner</td>\n",
       "      <td>3</td>\n",
       "    </tr>\n",
       "    <tr>\n",
       "      <th>2</th>\n",
       "      <td>21.01</td>\n",
       "      <td>3.50</td>\n",
       "      <td>Male</td>\n",
       "      <td>No</td>\n",
       "      <td>Sun</td>\n",
       "      <td>Dinner</td>\n",
       "      <td>3</td>\n",
       "    </tr>\n",
       "    <tr>\n",
       "      <th>3</th>\n",
       "      <td>23.68</td>\n",
       "      <td>3.31</td>\n",
       "      <td>Male</td>\n",
       "      <td>No</td>\n",
       "      <td>Sun</td>\n",
       "      <td>Dinner</td>\n",
       "      <td>2</td>\n",
       "    </tr>\n",
       "    <tr>\n",
       "      <th>4</th>\n",
       "      <td>24.59</td>\n",
       "      <td>3.61</td>\n",
       "      <td>Female</td>\n",
       "      <td>No</td>\n",
       "      <td>Sun</td>\n",
       "      <td>Dinner</td>\n",
       "      <td>4</td>\n",
       "    </tr>\n",
       "  </tbody>\n",
       "</table>\n",
       "</div>"
      ],
      "text/plain": [
       "   total_bill   tip     sex smoker  day    time  size\n",
       "0       16.99  1.01  Female     No  Sun  Dinner     2\n",
       "1       10.34  1.66    Male     No  Sun  Dinner     3\n",
       "2       21.01  3.50    Male     No  Sun  Dinner     3\n",
       "3       23.68  3.31    Male     No  Sun  Dinner     2\n",
       "4       24.59  3.61  Female     No  Sun  Dinner     4"
      ]
     },
     "execution_count": 38,
     "metadata": {},
     "output_type": "execute_result"
    }
   ],
   "source": [
    "df.head()"
   ]
  },
  {
   "cell_type": "markdown",
   "id": "d7435f19",
   "metadata": {},
   "source": [
    "### 1.Normalization\n",
    "it will scale all the values into 0 and 1 only\\\n",
    "xi-min()/max - min\\\n",
    "outliers will be effected\\\n",
    "if our column not folllowing normal distribution then we will use normalization\\\n",
    "Trail and Error method\n",
    "### 2.Standardization\n",
    "centering the values into mean=0 and standard deviation=1\\\n",
    "values lies in between +ve to -ve\\\n",
    "xi-mean/std\\\n",
    "ouliers less effected comparatively with normalization\\\n",
    "if our column is following normal distribution we will use this standardization\\\n",
    "Trail and Error method\n",
    "### 3.Robust Scaler\n",
    "here no outliers will be effected"
   ]
  },
  {
   "cell_type": "code",
   "execution_count": 39,
   "id": "5f23d87d",
   "metadata": {},
   "outputs": [],
   "source": [
    "from sklearn.preprocessing import MinMaxScaler,StandardScaler,RobustScaler"
   ]
  },
  {
   "cell_type": "code",
   "execution_count": 42,
   "id": "dfe44dac",
   "metadata": {},
   "outputs": [
    {
     "data": {
      "image/png": "[encoded data removed]",
      "text/plain": [
       "<Figure size 640x480 with 1 Axes>"
      ]
     },
     "metadata": {},
     "output_type": "display_data"
    }
   ],
   "source": [
    "sns.kdeplot(df.total_bill)\n",
    "plt.show()"
   ]
  },
  {
   "cell_type": "code",
   "execution_count": 43,
   "id": "ecc93c38",
   "metadata": {},
   "outputs": [
    {
     "data": {
      "text/plain": [
       "0.8420311140917469"
      ]
     },
     "execution_count": 43,
     "metadata": {},
     "output_type": "execute_result"
    }
   ],
   "source": [
    "df.total_bill.skew()"
   ]
  },
  {
   "cell_type": "markdown",
   "id": "5b36c12b",
   "metadata": {},
   "source": [
    "## QQ Plot"
   ]
  },
  {
   "cell_type": "code",
   "execution_count": 44,
   "id": "09e3b450",
   "metadata": {},
   "outputs": [],
   "source": [
    "import scipy.stats as ss"
   ]
  },
  {
   "cell_type": "code",
   "execution_count": 45,
   "id": "2e92fd8d",
   "metadata": {},
   "outputs": [
    {
     "data": {
      "image/png": "[encoded data removed]",
      "text/plain": [
       "<Figure size 640x480 with 1 Axes>"
      ]
     },
     "metadata": {},
     "output_type": "display_data"
    }
   ],
   "source": [
    "ss.probplot(df.total_bill,dist='norm',plot=plt)\n",
    "plt.show()"
   ]
  },
  {
   "cell_type": "code",
   "execution_count": 74,
   "id": "9f8415ea",
   "metadata": {},
   "outputs": [],
   "source": [
    "scaler=MinMaxScaler()"
   ]
  },
  {
   "cell_type": "code",
   "execution_count": 76,
   "id": "4575863b",
   "metadata": {},
   "outputs": [],
   "source": [
    "df['total_bill']=scaler.fit_transform(df[['total_bill']])"
   ]
  },
  {
   "cell_type": "code",
   "execution_count": 77,
   "id": "9ab9812c",
   "metadata": {},
   "outputs": [
    {
     "data": {
      "text/html": [
       "<div>\n",
       "<style scoped>\n",
       "    .dataframe tbody tr th:only-of-type {\n",
       "        vertical-align: middle;\n",
       "    }\n",
       "\n",
       "    .dataframe tbody tr th {\n",
       "        vertical-align: top;\n",
       "    }\n",
       "\n",
       "    .dataframe thead th {\n",
       "        text-align: right;\n",
       "    }\n",
       "</style>\n",
       "<table border=\"1\" class=\"dataframe\">\n",
       "  <thead>\n",
       "    <tr style=\"text-align: right;\">\n",
       "      <th></th>\n",
       "      <th>total_bill</th>\n",
       "      <th>tip</th>\n",
       "      <th>sex</th>\n",
       "      <th>smoker</th>\n",
       "      <th>day</th>\n",
       "      <th>time</th>\n",
       "      <th>size</th>\n",
       "    </tr>\n",
       "  </thead>\n",
       "  <tbody>\n",
       "    <tr>\n",
       "      <th>0</th>\n",
       "      <td>0.291579</td>\n",
       "      <td>-1.439947</td>\n",
       "      <td>Female</td>\n",
       "      <td>No</td>\n",
       "      <td>Sun</td>\n",
       "      <td>Dinner</td>\n",
       "      <td>2</td>\n",
       "    </tr>\n",
       "    <tr>\n",
       "      <th>1</th>\n",
       "      <td>0.152283</td>\n",
       "      <td>-0.969205</td>\n",
       "      <td>Male</td>\n",
       "      <td>No</td>\n",
       "      <td>Sun</td>\n",
       "      <td>Dinner</td>\n",
       "      <td>3</td>\n",
       "    </tr>\n",
       "    <tr>\n",
       "      <th>2</th>\n",
       "      <td>0.375786</td>\n",
       "      <td>0.363356</td>\n",
       "      <td>Male</td>\n",
       "      <td>No</td>\n",
       "      <td>Sun</td>\n",
       "      <td>Dinner</td>\n",
       "      <td>3</td>\n",
       "    </tr>\n",
       "    <tr>\n",
       "      <th>3</th>\n",
       "      <td>0.431713</td>\n",
       "      <td>0.225754</td>\n",
       "      <td>Male</td>\n",
       "      <td>No</td>\n",
       "      <td>Sun</td>\n",
       "      <td>Dinner</td>\n",
       "      <td>2</td>\n",
       "    </tr>\n",
       "    <tr>\n",
       "      <th>4</th>\n",
       "      <td>0.450775</td>\n",
       "      <td>0.443020</td>\n",
       "      <td>Female</td>\n",
       "      <td>No</td>\n",
       "      <td>Sun</td>\n",
       "      <td>Dinner</td>\n",
       "      <td>4</td>\n",
       "    </tr>\n",
       "  </tbody>\n",
       "</table>\n",
       "</div>"
      ],
      "text/plain": [
       "   total_bill       tip     sex smoker  day    time  size\n",
       "0    0.291579 -1.439947  Female     No  Sun  Dinner     2\n",
       "1    0.152283 -0.969205    Male     No  Sun  Dinner     3\n",
       "2    0.375786  0.363356    Male     No  Sun  Dinner     3\n",
       "3    0.431713  0.225754    Male     No  Sun  Dinner     2\n",
       "4    0.450775  0.443020  Female     No  Sun  Dinner     4"
      ]
     },
     "execution_count": 77,
     "metadata": {},
     "output_type": "execute_result"
    }
   ],
   "source": [
    "df.head()"
   ]
  },
  {
   "cell_type": "code",
   "execution_count": 82,
   "id": "82fc2ffd",
   "metadata": {},
   "outputs": [
    {
     "name": "stdout",
     "output_type": "stream",
     "text": [
      "<class 'pandas.core.frame.DataFrame'>\n",
      "RangeIndex: 244 entries, 0 to 243\n",
      "Data columns (total 7 columns):\n",
      " #   Column      Non-Null Count  Dtype   \n",
      "---  ------      --------------  -----   \n",
      " 0   total_bill  244 non-null    float64 \n",
      " 1   tip         244 non-null    float64 \n",
      " 2   sex         244 non-null    category\n",
      " 3   smoker      244 non-null    category\n",
      " 4   day         244 non-null    category\n",
      " 5   time        244 non-null    category\n",
      " 6   size        244 non-null    int64   \n",
      "dtypes: category(4), float64(2), int64(1)\n",
      "memory usage: 7.4 KB\n"
     ]
    }
   ],
   "source": [
    "df.info()"
   ]
  },
  {
   "cell_type": "markdown",
   "id": "4ce58224",
   "metadata": {},
   "source": []
  },
  {
   "cell_type": "code",
   "execution_count": 4,
   "id": "d60f4a9d",
   "metadata": {},
   "outputs": [],
   "source": [
    "df1=sns.load_dataset('iris')"
   ]
  },
  {
   "cell_type": "code",
   "execution_count": 85,
   "id": "9e9ae963",
   "metadata": {},
   "outputs": [
    {
     "data": {
      "text/html": [
       "<div>\n",
       "<style scoped>\n",
       "    .dataframe tbody tr th:only-of-type {\n",
       "        vertical-align: middle;\n",
       "    }\n",
       "\n",
       "    .dataframe tbody tr th {\n",
       "        vertical-align: top;\n",
       "    }\n",
       "\n",
       "    .dataframe thead th {\n",
       "        text-align: right;\n",
       "    }\n",
       "</style>\n",
       "<table border=\"1\" class=\"dataframe\">\n",
       "  <thead>\n",
       "    <tr style=\"text-align: right;\">\n",
       "      <th></th>\n",
       "      <th>sepal_length</th>\n",
       "      <th>sepal_width</th>\n",
       "      <th>petal_length</th>\n",
       "      <th>petal_width</th>\n",
       "      <th>species</th>\n",
       "    </tr>\n",
       "  </thead>\n",
       "  <tbody>\n",
       "    <tr>\n",
       "      <th>0</th>\n",
       "      <td>5.1</td>\n",
       "      <td>3.5</td>\n",
       "      <td>1.4</td>\n",
       "      <td>0.2</td>\n",
       "      <td>setosa</td>\n",
       "    </tr>\n",
       "    <tr>\n",
       "      <th>1</th>\n",
       "      <td>4.9</td>\n",
       "      <td>3.0</td>\n",
       "      <td>1.4</td>\n",
       "      <td>0.2</td>\n",
       "      <td>setosa</td>\n",
       "    </tr>\n",
       "    <tr>\n",
       "      <th>2</th>\n",
       "      <td>4.7</td>\n",
       "      <td>3.2</td>\n",
       "      <td>1.3</td>\n",
       "      <td>0.2</td>\n",
       "      <td>setosa</td>\n",
       "    </tr>\n",
       "    <tr>\n",
       "      <th>3</th>\n",
       "      <td>4.6</td>\n",
       "      <td>3.1</td>\n",
       "      <td>1.5</td>\n",
       "      <td>0.2</td>\n",
       "      <td>setosa</td>\n",
       "    </tr>\n",
       "    <tr>\n",
       "      <th>4</th>\n",
       "      <td>5.0</td>\n",
       "      <td>3.6</td>\n",
       "      <td>1.4</td>\n",
       "      <td>0.2</td>\n",
       "      <td>setosa</td>\n",
       "    </tr>\n",
       "    <tr>\n",
       "      <th>...</th>\n",
       "      <td>...</td>\n",
       "      <td>...</td>\n",
       "      <td>...</td>\n",
       "      <td>...</td>\n",
       "      <td>...</td>\n",
       "    </tr>\n",
       "    <tr>\n",
       "      <th>145</th>\n",
       "      <td>6.7</td>\n",
       "      <td>3.0</td>\n",
       "      <td>5.2</td>\n",
       "      <td>2.3</td>\n",
       "      <td>virginica</td>\n",
       "    </tr>\n",
       "    <tr>\n",
       "      <th>146</th>\n",
       "      <td>6.3</td>\n",
       "      <td>2.5</td>\n",
       "      <td>5.0</td>\n",
       "      <td>1.9</td>\n",
       "      <td>virginica</td>\n",
       "    </tr>\n",
       "    <tr>\n",
       "      <th>147</th>\n",
       "      <td>6.5</td>\n",
       "      <td>3.0</td>\n",
       "      <td>5.2</td>\n",
       "      <td>2.0</td>\n",
       "      <td>virginica</td>\n",
       "    </tr>\n",
       "    <tr>\n",
       "      <th>148</th>\n",
       "      <td>6.2</td>\n",
       "      <td>3.4</td>\n",
       "      <td>5.4</td>\n",
       "      <td>2.3</td>\n",
       "      <td>virginica</td>\n",
       "    </tr>\n",
       "    <tr>\n",
       "      <th>149</th>\n",
       "      <td>5.9</td>\n",
       "      <td>3.0</td>\n",
       "      <td>5.1</td>\n",
       "      <td>1.8</td>\n",
       "      <td>virginica</td>\n",
       "    </tr>\n",
       "  </tbody>\n",
       "</table>\n",
       "<p>150 rows × 5 columns</p>\n",
       "</div>"
      ],
      "text/plain": [
       "     sepal_length  sepal_width  petal_length  petal_width    species\n",
       "0             5.1          3.5           1.4          0.2     setosa\n",
       "1             4.9          3.0           1.4          0.2     setosa\n",
       "2             4.7          3.2           1.3          0.2     setosa\n",
       "3             4.6          3.1           1.5          0.2     setosa\n",
       "4             5.0          3.6           1.4          0.2     setosa\n",
       "..            ...          ...           ...          ...        ...\n",
       "145           6.7          3.0           5.2          2.3  virginica\n",
       "146           6.3          2.5           5.0          1.9  virginica\n",
       "147           6.5          3.0           5.2          2.0  virginica\n",
       "148           6.2          3.4           5.4          2.3  virginica\n",
       "149           5.9          3.0           5.1          1.8  virginica\n",
       "\n",
       "[150 rows x 5 columns]"
      ]
     },
     "execution_count": 85,
     "metadata": {},
     "output_type": "execute_result"
    }
   ],
   "source": [
    "df1"
   ]
  },
  {
   "cell_type": "code",
   "execution_count": 86,
   "id": "613c21e6",
   "metadata": {},
   "outputs": [
    {
     "data": {
      "image/png": "[encoded data removed]",
      "text/plain": [
       "<Figure size 640x480 with 1 Axes>"
      ]
     },
     "metadata": {},
     "output_type": "display_data"
    }
   ],
   "source": [
    "ss.probplot(df1.sepal_length,dist='norm',plot=plt)\n",
    "plt.show()"
   ]
  },
  {
   "cell_type": "code",
   "execution_count": 88,
   "id": "7ea2d4c6",
   "metadata": {},
   "outputs": [
    {
     "name": "stderr",
     "output_type": "stream",
     "text": [
      "C:\\Users\\user\\anaconda3\\lib\\site-packages\\seaborn\\_decorators.py:36: FutureWarning: Pass the following variable as a keyword arg: x. From version 0.12, the only valid positional argument will be `data`, and passing other arguments without an explicit keyword will result in an error or misinterpretation.\n",
      "  warnings.warn(\n"
     ]
    },
    {
     "data": {
      "text/plain": [
       "<AxesSubplot:xlabel='sepal_length'>"
      ]
     },
     "execution_count": 88,
     "metadata": {},
     "output_type": "execute_result"
    },
    {
     "data": {
      "image/png": "[encoded data removed]",
      "text/plain": [
       "<Figure size 640x480 with 1 Axes>"
      ]
     },
     "metadata": {},
     "output_type": "display_data"
    }
   ],
   "source": [
    "sns.boxplot(df1.sepal_length)"
   ]
  },
  {
   "cell_type": "code",
   "execution_count": 90,
   "id": "f823ae75",
   "metadata": {},
   "outputs": [],
   "source": [
    "scaler1=StandardScaler()"
   ]
  },
  {
   "cell_type": "code",
   "execution_count": 94,
   "id": "ad1ef240",
   "metadata": {},
   "outputs": [],
   "source": [
    "df1['sepal_length']=scaler1.fit_transform(df1[['sepal_length']])"
   ]
  },
  {
   "cell_type": "code",
   "execution_count": 95,
   "id": "fe602b56",
   "metadata": {},
   "outputs": [
    {
     "data": {
      "text/html": [
       "<div>\n",
       "<style scoped>\n",
       "    .dataframe tbody tr th:only-of-type {\n",
       "        vertical-align: middle;\n",
       "    }\n",
       "\n",
       "    .dataframe tbody tr th {\n",
       "        vertical-align: top;\n",
       "    }\n",
       "\n",
       "    .dataframe thead th {\n",
       "        text-align: right;\n",
       "    }\n",
       "</style>\n",
       "<table border=\"1\" class=\"dataframe\">\n",
       "  <thead>\n",
       "    <tr style=\"text-align: right;\">\n",
       "      <th></th>\n",
       "      <th>sepal_length</th>\n",
       "      <th>sepal_width</th>\n",
       "      <th>petal_length</th>\n",
       "      <th>petal_width</th>\n",
       "      <th>species</th>\n",
       "    </tr>\n",
       "  </thead>\n",
       "  <tbody>\n",
       "    <tr>\n",
       "      <th>0</th>\n",
       "      <td>-0.900681</td>\n",
       "      <td>3.5</td>\n",
       "      <td>1.4</td>\n",
       "      <td>0.2</td>\n",
       "      <td>setosa</td>\n",
       "    </tr>\n",
       "    <tr>\n",
       "      <th>1</th>\n",
       "      <td>-1.143017</td>\n",
       "      <td>3.0</td>\n",
       "      <td>1.4</td>\n",
       "      <td>0.2</td>\n",
       "      <td>setosa</td>\n",
       "    </tr>\n",
       "    <tr>\n",
       "      <th>2</th>\n",
       "      <td>-1.385353</td>\n",
       "      <td>3.2</td>\n",
       "      <td>1.3</td>\n",
       "      <td>0.2</td>\n",
       "      <td>setosa</td>\n",
       "    </tr>\n",
       "    <tr>\n",
       "      <th>3</th>\n",
       "      <td>-1.506521</td>\n",
       "      <td>3.1</td>\n",
       "      <td>1.5</td>\n",
       "      <td>0.2</td>\n",
       "      <td>setosa</td>\n",
       "    </tr>\n",
       "    <tr>\n",
       "      <th>4</th>\n",
       "      <td>-1.021849</td>\n",
       "      <td>3.6</td>\n",
       "      <td>1.4</td>\n",
       "      <td>0.2</td>\n",
       "      <td>setosa</td>\n",
       "    </tr>\n",
       "  </tbody>\n",
       "</table>\n",
       "</div>"
      ],
      "text/plain": [
       "   sepal_length  sepal_width  petal_length  petal_width species\n",
       "0     -0.900681          3.5           1.4          0.2  setosa\n",
       "1     -1.143017          3.0           1.4          0.2  setosa\n",
       "2     -1.385353          3.2           1.3          0.2  setosa\n",
       "3     -1.506521          3.1           1.5          0.2  setosa\n",
       "4     -1.021849          3.6           1.4          0.2  setosa"
      ]
     },
     "execution_count": 95,
     "metadata": {},
     "output_type": "execute_result"
    }
   ],
   "source": [
    "df1.head()"
   ]
  },
  {
   "cell_type": "code",
   "execution_count": 99,
   "id": "3bdaaf1e",
   "metadata": {},
   "outputs": [
    {
     "data": {
      "text/plain": [
       "setosa        50\n",
       "versicolor    50\n",
       "virginica     50\n",
       "Name: species, dtype: int64"
      ]
     },
     "execution_count": 99,
     "metadata": {},
     "output_type": "execute_result"
    }
   ],
   "source": [
    "df1.species.value_counts()# Balanced data"
   ]
  },
  {
   "cell_type": "markdown",
   "id": "2cd3abd0",
   "metadata": {},
   "source": [
    "## Imbalanced Data Handling"
   ]
  },
  {
   "cell_type": "code",
   "execution_count": 96,
   "id": "55fa3baf",
   "metadata": {},
   "outputs": [
    {
     "data": {
      "text/html": [
       "<div>\n",
       "<style scoped>\n",
       "    .dataframe tbody tr th:only-of-type {\n",
       "        vertical-align: middle;\n",
       "    }\n",
       "\n",
       "    .dataframe tbody tr th {\n",
       "        vertical-align: top;\n",
       "    }\n",
       "\n",
       "    .dataframe thead th {\n",
       "        text-align: right;\n",
       "    }\n",
       "</style>\n",
       "<table border=\"1\" class=\"dataframe\">\n",
       "  <thead>\n",
       "    <tr style=\"text-align: right;\">\n",
       "      <th></th>\n",
       "      <th>total_bill</th>\n",
       "      <th>tip</th>\n",
       "      <th>sex</th>\n",
       "      <th>smoker</th>\n",
       "      <th>day</th>\n",
       "      <th>time</th>\n",
       "      <th>size</th>\n",
       "    </tr>\n",
       "  </thead>\n",
       "  <tbody>\n",
       "    <tr>\n",
       "      <th>0</th>\n",
       "      <td>0.291579</td>\n",
       "      <td>-1.439947</td>\n",
       "      <td>Female</td>\n",
       "      <td>No</td>\n",
       "      <td>Sun</td>\n",
       "      <td>Dinner</td>\n",
       "      <td>2</td>\n",
       "    </tr>\n",
       "    <tr>\n",
       "      <th>1</th>\n",
       "      <td>0.152283</td>\n",
       "      <td>-0.969205</td>\n",
       "      <td>Male</td>\n",
       "      <td>No</td>\n",
       "      <td>Sun</td>\n",
       "      <td>Dinner</td>\n",
       "      <td>3</td>\n",
       "    </tr>\n",
       "    <tr>\n",
       "      <th>2</th>\n",
       "      <td>0.375786</td>\n",
       "      <td>0.363356</td>\n",
       "      <td>Male</td>\n",
       "      <td>No</td>\n",
       "      <td>Sun</td>\n",
       "      <td>Dinner</td>\n",
       "      <td>3</td>\n",
       "    </tr>\n",
       "    <tr>\n",
       "      <th>3</th>\n",
       "      <td>0.431713</td>\n",
       "      <td>0.225754</td>\n",
       "      <td>Male</td>\n",
       "      <td>No</td>\n",
       "      <td>Sun</td>\n",
       "      <td>Dinner</td>\n",
       "      <td>2</td>\n",
       "    </tr>\n",
       "    <tr>\n",
       "      <th>4</th>\n",
       "      <td>0.450775</td>\n",
       "      <td>0.443020</td>\n",
       "      <td>Female</td>\n",
       "      <td>No</td>\n",
       "      <td>Sun</td>\n",
       "      <td>Dinner</td>\n",
       "      <td>4</td>\n",
       "    </tr>\n",
       "  </tbody>\n",
       "</table>\n",
       "</div>"
      ],
      "text/plain": [
       "   total_bill       tip     sex smoker  day    time  size\n",
       "0    0.291579 -1.439947  Female     No  Sun  Dinner     2\n",
       "1    0.152283 -0.969205    Male     No  Sun  Dinner     3\n",
       "2    0.375786  0.363356    Male     No  Sun  Dinner     3\n",
       "3    0.431713  0.225754    Male     No  Sun  Dinner     2\n",
       "4    0.450775  0.443020  Female     No  Sun  Dinner     4"
      ]
     },
     "execution_count": 96,
     "metadata": {},
     "output_type": "execute_result"
    }
   ],
   "source": [
    "df.head()"
   ]
  },
  {
   "cell_type": "code",
   "execution_count": 98,
   "id": "75c18991",
   "metadata": {},
   "outputs": [
    {
     "data": {
      "text/plain": [
       "No     151\n",
       "Yes     93\n",
       "Name: smoker, dtype: int64"
      ]
     },
     "execution_count": 98,
     "metadata": {},
     "output_type": "execute_result"
    }
   ],
   "source": [
    "df.smoker.value_counts()# imbalanced data"
   ]
  },
  {
   "cell_type": "markdown",
   "id": "c86d262a",
   "metadata": {},
   "source": [
    "If we are having huge difference among the classes then only it is called to be imbalanced data problem\\\n",
    "1.Undersampling\\\n",
    "we decreasing highest to lowest to make them equal\\\n",
    "2.Oversampling\\\n",
    "we are increasing lower to higher to make them equal\\\n",
    "3.SMOTE\\\n",
    "by nearest neibhours\\\n",
    "outliers will be effected\\\n",
    "4.BoarderSMOTE\\\n",
    "it will remove outliers\\\n",
    "5.ADASYN\\\n",
    "it will handle outliers\\\n",
    "it will work based shortest distance too"
   ]
  },
  {
   "cell_type": "markdown",
   "id": "dd7a613c",
   "metadata": {},
   "source": [
    "## Splitting the data"
   ]
  },
  {
   "cell_type": "code",
   "execution_count": 100,
   "id": "a2963627",
   "metadata": {},
   "outputs": [
    {
     "data": {
      "text/html": [
       "<div>\n",
       "<style scoped>\n",
       "    .dataframe tbody tr th:only-of-type {\n",
       "        vertical-align: middle;\n",
       "    }\n",
       "\n",
       "    .dataframe tbody tr th {\n",
       "        vertical-align: top;\n",
       "    }\n",
       "\n",
       "    .dataframe thead th {\n",
       "        text-align: right;\n",
       "    }\n",
       "</style>\n",
       "<table border=\"1\" class=\"dataframe\">\n",
       "  <thead>\n",
       "    <tr style=\"text-align: right;\">\n",
       "      <th></th>\n",
       "      <th>sepal_length</th>\n",
       "      <th>sepal_width</th>\n",
       "      <th>petal_length</th>\n",
       "      <th>petal_width</th>\n",
       "      <th>species</th>\n",
       "    </tr>\n",
       "  </thead>\n",
       "  <tbody>\n",
       "    <tr>\n",
       "      <th>0</th>\n",
       "      <td>-0.900681</td>\n",
       "      <td>3.5</td>\n",
       "      <td>1.4</td>\n",
       "      <td>0.2</td>\n",
       "      <td>setosa</td>\n",
       "    </tr>\n",
       "    <tr>\n",
       "      <th>1</th>\n",
       "      <td>-1.143017</td>\n",
       "      <td>3.0</td>\n",
       "      <td>1.4</td>\n",
       "      <td>0.2</td>\n",
       "      <td>setosa</td>\n",
       "    </tr>\n",
       "    <tr>\n",
       "      <th>2</th>\n",
       "      <td>-1.385353</td>\n",
       "      <td>3.2</td>\n",
       "      <td>1.3</td>\n",
       "      <td>0.2</td>\n",
       "      <td>setosa</td>\n",
       "    </tr>\n",
       "    <tr>\n",
       "      <th>3</th>\n",
       "      <td>-1.506521</td>\n",
       "      <td>3.1</td>\n",
       "      <td>1.5</td>\n",
       "      <td>0.2</td>\n",
       "      <td>setosa</td>\n",
       "    </tr>\n",
       "    <tr>\n",
       "      <th>4</th>\n",
       "      <td>-1.021849</td>\n",
       "      <td>3.6</td>\n",
       "      <td>1.4</td>\n",
       "      <td>0.2</td>\n",
       "      <td>setosa</td>\n",
       "    </tr>\n",
       "  </tbody>\n",
       "</table>\n",
       "</div>"
      ],
      "text/plain": [
       "   sepal_length  sepal_width  petal_length  petal_width species\n",
       "0     -0.900681          3.5           1.4          0.2  setosa\n",
       "1     -1.143017          3.0           1.4          0.2  setosa\n",
       "2     -1.385353          3.2           1.3          0.2  setosa\n",
       "3     -1.506521          3.1           1.5          0.2  setosa\n",
       "4     -1.021849          3.6           1.4          0.2  setosa"
      ]
     },
     "execution_count": 100,
     "metadata": {},
     "output_type": "execute_result"
    }
   ],
   "source": [
    "df1.head()"
   ]
  },
  {
   "cell_type": "code",
   "execution_count": 5,
   "id": "1740ac89",
   "metadata": {},
   "outputs": [],
   "source": [
    "x=df1.drop('species',axis=1)\n",
    "y=df1[['species']]"
   ]
  },
  {
   "cell_type": "markdown",
   "id": "f69ae24e",
   "metadata": {},
   "source": [
    "## Train test split"
   ]
  },
  {
   "cell_type": "code",
   "execution_count": 6,
   "id": "0c9e3cb2",
   "metadata": {},
   "outputs": [],
   "source": [
    "from sklearn.model_selection import train_test_split"
   ]
  },
  {
   "cell_type": "code",
   "execution_count": 7,
   "id": "dbc3752e",
   "metadata": {},
   "outputs": [],
   "source": [
    "x_train,x_test,y_train,y_test=train_test_split(x,y,stratify=y,random_state=5,train_size=0.8)"
   ]
  },
  {
   "cell_type": "code",
   "execution_count": 8,
   "id": "a27c07e1",
   "metadata": {},
   "outputs": [
    {
     "data": {
      "text/html": [
       "<div>\n",
       "<style scoped>\n",
       "    .dataframe tbody tr th:only-of-type {\n",
       "        vertical-align: middle;\n",
       "    }\n",
       "\n",
       "    .dataframe tbody tr th {\n",
       "        vertical-align: top;\n",
       "    }\n",
       "\n",
       "    .dataframe thead th {\n",
       "        text-align: right;\n",
       "    }\n",
       "</style>\n",
       "<table border=\"1\" class=\"dataframe\">\n",
       "  <thead>\n",
       "    <tr style=\"text-align: right;\">\n",
       "      <th></th>\n",
       "      <th>sepal_length</th>\n",
       "      <th>sepal_width</th>\n",
       "      <th>petal_length</th>\n",
       "      <th>petal_width</th>\n",
       "    </tr>\n",
       "  </thead>\n",
       "  <tbody>\n",
       "    <tr>\n",
       "      <th>48</th>\n",
       "      <td>5.3</td>\n",
       "      <td>3.7</td>\n",
       "      <td>1.5</td>\n",
       "      <td>0.2</td>\n",
       "    </tr>\n",
       "    <tr>\n",
       "      <th>40</th>\n",
       "      <td>5.0</td>\n",
       "      <td>3.5</td>\n",
       "      <td>1.3</td>\n",
       "      <td>0.3</td>\n",
       "    </tr>\n",
       "    <tr>\n",
       "      <th>45</th>\n",
       "      <td>4.8</td>\n",
       "      <td>3.0</td>\n",
       "      <td>1.4</td>\n",
       "      <td>0.3</td>\n",
       "    </tr>\n",
       "    <tr>\n",
       "      <th>56</th>\n",
       "      <td>6.3</td>\n",
       "      <td>3.3</td>\n",
       "      <td>4.7</td>\n",
       "      <td>1.6</td>\n",
       "    </tr>\n",
       "    <tr>\n",
       "      <th>128</th>\n",
       "      <td>6.4</td>\n",
       "      <td>2.8</td>\n",
       "      <td>5.6</td>\n",
       "      <td>2.1</td>\n",
       "    </tr>\n",
       "    <tr>\n",
       "      <th>...</th>\n",
       "      <td>...</td>\n",
       "      <td>...</td>\n",
       "      <td>...</td>\n",
       "      <td>...</td>\n",
       "    </tr>\n",
       "    <tr>\n",
       "      <th>99</th>\n",
       "      <td>5.7</td>\n",
       "      <td>2.8</td>\n",
       "      <td>4.1</td>\n",
       "      <td>1.3</td>\n",
       "    </tr>\n",
       "    <tr>\n",
       "      <th>97</th>\n",
       "      <td>6.2</td>\n",
       "      <td>2.9</td>\n",
       "      <td>4.3</td>\n",
       "      <td>1.3</td>\n",
       "    </tr>\n",
       "    <tr>\n",
       "      <th>41</th>\n",
       "      <td>4.5</td>\n",
       "      <td>2.3</td>\n",
       "      <td>1.3</td>\n",
       "      <td>0.3</td>\n",
       "    </tr>\n",
       "    <tr>\n",
       "      <th>32</th>\n",
       "      <td>5.2</td>\n",
       "      <td>4.1</td>\n",
       "      <td>1.5</td>\n",
       "      <td>0.1</td>\n",
       "    </tr>\n",
       "    <tr>\n",
       "      <th>66</th>\n",
       "      <td>5.6</td>\n",
       "      <td>3.0</td>\n",
       "      <td>4.5</td>\n",
       "      <td>1.5</td>\n",
       "    </tr>\n",
       "  </tbody>\n",
       "</table>\n",
       "<p>120 rows × 4 columns</p>\n",
       "</div>"
      ],
      "text/plain": [
       "     sepal_length  sepal_width  petal_length  petal_width\n",
       "48            5.3          3.7           1.5          0.2\n",
       "40            5.0          3.5           1.3          0.3\n",
       "45            4.8          3.0           1.4          0.3\n",
       "56            6.3          3.3           4.7          1.6\n",
       "128           6.4          2.8           5.6          2.1\n",
       "..            ...          ...           ...          ...\n",
       "99            5.7          2.8           4.1          1.3\n",
       "97            6.2          2.9           4.3          1.3\n",
       "41            4.5          2.3           1.3          0.3\n",
       "32            5.2          4.1           1.5          0.1\n",
       "66            5.6          3.0           4.5          1.5\n",
       "\n",
       "[120 rows x 4 columns]"
      ]
     },
     "execution_count": 8,
     "metadata": {},
     "output_type": "execute_result"
    }
   ],
   "source": [
    "x_train"
   ]
  },
  {
   "cell_type": "code",
   "execution_count": null,
   "id": "4663b30b",
   "metadata": {},
   "outputs": [],
   "source": []
  },
  {
   "cell_type": "code",
   "execution_count": null,
   "id": "f6e11058",
   "metadata": {},
   "outputs": [],
   "source": []
  },
  {
   "cell_type": "code",
   "execution_count": null,
   "id": "52888017",
   "metadata": {},
   "outputs": [],
   "source": []
  }
 ],
 "metadata": {
  "kernelspec": {
   "display_name": "Python 3 (ipykernel)",
   "language": "python",
   "name": "python3"
  },
  "language_info": {
   "codemirror_mode": {
    "name": "ipython",
    "version": 3
   },
   "file_extension": ".py",
   "mimetype": "text/x-python",
   "name": "python",
   "nbconvert_exporter": "python",
   "pygments_lexer": "ipython3",
   "version": "3.9.13"
  }
 },
 "nbformat": 4,
 "nbformat_minor": 5
}
